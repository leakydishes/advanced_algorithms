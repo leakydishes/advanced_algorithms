{
  "cells": [
    {
      "cell_type": "markdown",
      "source": [
        "# Design Patterns\n",
        "- Simple Factory\n",
        "- Factory Method\n",
        "- Abstract Factory (AFP)\n",
        "\n",
        "## Creational Design Pattern\n",
        "- Singleton\n",
        "- Facade Pattern\n",
        "\n",
        "## Behavioral design pattern\n",
        "- Observer Pattern\n"
      ],
      "metadata": {
        "id": "sNX8-FpJVda8"
      },
      "id": "sNX8-FpJVda8"
    },
    {
      "cell_type": "markdown",
      "source": [
        "________________________________________________________________________________"
      ],
      "metadata": {
        "id": "K4-pCPRFW64X"
      },
      "id": "K4-pCPRFW64X"
    },
    {
      "cell_type": "markdown",
      "source": [
        "*‘An idea that has been useful in one practical context and will probably be useful in others’* – Martin Fowler\n"
      ],
      "metadata": {
        "id": "OM71964hWtQy"
      },
      "id": "OM71964hWtQy"
    },
    {
      "cell_type": "markdown",
      "source": [
        "### A Design pattern is:\n",
        "1. Smart: an elegant solution not obvious to a novice.\n",
        "2. Generic: not dependent upon a system, programming language or application domain.\n",
        "3. Well Proven: has been identified from real OO systems.\n",
        "4. Reusable: is documented in such a fashion that it is easy to reuse.\n",
        "5. Simple: is usually quite small, involving only a handful of classes.\n",
        "6. Object Oriented: built with OO mechanisms such as classes, objects, generalization and polymorphism.\n",
        "\n",
        "\n",
        "### Four elements for a design pattern:\n",
        "\n",
        "Name: a handle we can use to describe a design problem, its solutions and consequences.\n",
        "Problem: describes when to apply the pattern. It explains the problem and its context.\n",
        "Solution: describes the elements which make up the solution and their relationships.\n",
        "Consequence: the results and trade-offs of using the design pattern.\n",
        "\n",
        "### Categorizing Design Patterns\n",
        "Design patterns are categorized mostly in terms of their purpose, however, several distinctions can be formulated in terms of their scope as well.\n",
        "\n",
        "In terms of their purpose, three categories exists:\n",
        "\n",
        "Creational: concern the process of object creation, e.g. – Abstract Factory, Singleton.\n",
        "Structural: deal with the composition of classes and objects,  e.g. – Adapter, Facade.\n",
        "Behavioural: characterize the way in which classes or objects interact and distribute responsibility, e.g. Iterator, Observer.\n",
        "In terms of scope, two categories exists:\n",
        "\n",
        "Class: the pattern is primarily concerned with classes, they deal with the relationships between classes and their sub-classes. These relationships are established through Inheritance and are static.\n",
        "Object: the pattern is primarily concerned with object relationships, which are more dynamic and can change at run-time.\n"
      ],
      "metadata": {
        "id": "je2mdvJRWSbn"
      },
      "id": "je2mdvJRWSbn"
    },
    {
      "cell_type": "markdown",
      "source": [
        "________________________________________________________________________________"
      ],
      "metadata": {
        "id": "Ky7g9UeuWhrb"
      },
      "id": "Ky7g9UeuWhrb"
    },
    {
      "cell_type": "markdown",
      "source": [
        "#Simple Factory\n",
        "### Simple Factory = Concrete Class\n",
        "Good: for creating multiple objects\n",
        "-       A simple factory pattern is an object for creating objects.\n",
        "-       You can have a class which method that returns different types of objects based on input; this is not a strong dependency.\n",
        "-       Make sure dependencies only exists within abstract concepts (not concreate classes).\n",
        "-\n",
        "\n",
        "Make sure inversion principle is satisfied.\n",
        "-       Separate classes, if one aspect of program changes it doesn’t cascade to other classes.\n",
        "\n",
        "Note: Calling new binds code to a concreate class. Instead, code to abstract class!\n",
        "-       Error prone due to modifications needed as concreate classes often instantiated at more than one place.\n",
        "\n",
        "Negatives: If-else block (long depending on different type of objects) & Dependence on the Factory class – still a concreate class!"
      ],
      "metadata": {
        "id": "Z9fN5QJAVVSz"
      },
      "id": "Z9fN5QJAVVSz"
    },
    {
      "cell_type": "markdown",
      "source": [
        "# Singleton\n",
        "Good: When a class should have just a single instance available to all clients (cashes, thread pools, registries).\n",
        "-       Access some object from anywhere in program, protects it from being overwritten.\n",
        "-       Can be passed as a reference in methods, can inherit from classes.\n",
        "-       Method calls private constructor to create an object and save in a static field. Calls return a cached object.\n",
        "-       Creational design pattern for a class to have only one instance (object).\n",
        "-       Only one objects gets created.\n",
        "-\n",
        "\n",
        "Instead of a global variable create a singleton design pattern.\n",
        "-       Passing reference of the class to other objects in form of the object reference.\n",
        "-       Make the constructor of the class private & create a static creation method say Singleton() that acts as a constructor.\n"
      ],
      "metadata": {
        "id": "RGQg9AIdUzq5"
      },
      "id": "RGQg9AIdUzq5"
    },
    {
      "cell_type": "markdown",
      "source": [],
      "metadata": {
        "id": "VOcSJSFOVVNs"
      },
      "id": "VOcSJSFOVVNs"
    },
    {
      "cell_type": "markdown",
      "source": [
        " # Dependency Inversion Principle\n",
        "-       No Class should hold a reference to a concreate class.\n",
        "-       No Class should derive from a concreate class.\n",
        "-       No Method should override an implemented method of its base classes.\n",
        "\n",
        "\n",
        "+ new types of products added to program = Open-Closed Design Principle.\n"
      ],
      "metadata": {
        "id": "b1f_GKJqUuHP"
      },
      "id": "b1f_GKJqUuHP"
    },
    {
      "cell_type": "markdown",
      "source": [
        "# Abstract Factory (AFP)\n",
        "Good: When you need to manage several categories and sub-categories of products in the code.\n",
        "- **Use when you need to create different kind of related objects\n",
        "-       Example, two products that each have two sub-products.\n",
        "-       Based on Factory pattern.\n",
        "-       Produce families of related OR dependent objects without specifying concreate classes.\n"
      ],
      "metadata": {
        "id": "mzH3O8XDUksG"
      },
      "id": "mzH3O8XDUksG"
    },
    {
      "cell_type": "markdown",
      "source": [
        "# Facade Pattern\n",
        "Good: when you have a limited but straightforward interface to a complex problem.\n",
        "\n",
        "- Provides simplified interface to a library, framework or complex set of classes.\n",
        "- Provides a interface to a complex subsystem.\n",
        "- Note: Normally you need to keep track of dependencies among objects (correct order ect) and are bound to call functions for library.\n",
        "\n",
        "- Create Facade class interacts with systems and implements function Operation1().\n"
      ],
      "metadata": {
        "id": "6VcP0h4QVGk3"
      },
      "id": "6VcP0h4QVGk3"
    },
    {
      "cell_type": "markdown",
      "source": [
        "________________________________________________________________________________"
      ],
      "metadata": {
        "id": "KEV0ocOqU-yH"
      },
      "id": "KEV0ocOqU-yH"
    },
    {
      "cell_type": "markdown",
      "source": [
        "#Observer Pattern\n",
        "Good: When changes to the state of one object may require changing other objects.\n",
        "- The actual set of objects is unknown beforehand or changes dynamically.\n",
        "Use when some objects in the app must observe others, but only for a limited time or specific case."
      ],
      "metadata": {
        "id": "eZ66KFLqRmLE"
      },
      "id": "eZ66KFLqRmLE"
    },
    {
      "cell_type": "markdown",
      "source": [
        "## Providing succinct summary of the Observer Pattern operations\n",
        "- The Observer Pattern is a behavioural design pattern – It allows objects (observers) to be notified when the state of a subject/ object changes. The pattern has one to many dependencies relationship between the subject and its observers.\n",
        "\n",
        "- This program implements an Observer pattern for a cricket scoreboard application. The (Subject) is the interface/ Abstract Class with an additional concreate class (ConcreteSubject). The (ConcreateObserverA and ConcreteObserverB) inherit from the (Observer) abstract class/ Interface, when the score changes (wicket change) the subject notifies the observers and displays the updates on different devices.\n",
        "\n",
        "#Additional information about this pattern:\n",
        "-       Let’s you define a subscription mechanism to notify multiple objects about any events that happen to the object their observing.\n",
        "-       Objects that have an interesting state = subject, notifying other objects about changes to state = publisher.\n",
        "-       Objects that want to track changes of a publisher’s state = Subscribers (observers)\n",
        "-       You can add a subscription mechanism to the publisher class so individual objects can subscribe/ unsubscribe from stream of events coming from publisher.\n"
      ],
      "metadata": {
        "id": "ub3v6E3IRe3S"
      },
      "id": "ub3v6E3IRe3S"
    },
    {
      "cell_type": "markdown",
      "source": [
        "### Modification of the code\n",
        "1.     Other additional observers could be added to update the code\n",
        "2.     Alternatively, more display methods to the existing observers could be introduced\n",
        "\n",
        "New Use/ Test Cases\n",
        "-       Extending the pattern to build a scoreboard component. A new observer class to display the different aspects of the game (current run rate, the number of overs remaining)\n",
        "-       Add test cases to check if the observers are notified when the subjects state changes and if the display methods of the observers are function as expected.\n",
        "\n",
        "Finding limitations of the code\n",
        "-       Currently the observes are accessing the objects state (Wickets and Score) to be updated. This is not correct encapsulation; the observers should receive updates through an interface.\n",
        "-       It doesn’t handle observers when they are in a loop (list) which could lead to errors.\n"
      ],
      "metadata": {
        "id": "D0k7pIBERaGV"
      },
      "id": "D0k7pIBERaGV"
    },
    {
      "cell_type": "markdown",
      "source": [
        "#Updated Code for Observer Pattern:\n",
        "-        Added observer ConcreteObserverC() which shows the number of over bowled on an ipad.\n",
        "-       Modified ConcreteSubject to include new variable Overs and method OversUpdate, to update the count.\n",
        "-       Test case to show the overs update in the scoreboard output.\n"
      ],
      "metadata": {
        "id": "3BpR6eCXT4cV"
      },
      "id": "3BpR6eCXT4cV"
    },
    {
      "cell_type": "code",
      "source": [
        "from __future__ import annotations\n",
        "from abc import ABC, abstractmethod\n",
        "from random import randrange\n",
        "from typing import List\n",
        "import time\n",
        "\n",
        "\n",
        "class Subject(ABC):\n",
        "\n",
        "    @abstractmethod\n",
        "    def attach(self, observer: Observer):\n",
        "        pass\n",
        "\n",
        "    @abstractmethod\n",
        "    def detach(self, observer: Observer):\n",
        "        pass\n",
        "\n",
        "    @abstractmethod\n",
        "    def notify(self):\n",
        "        pass\n",
        "\n",
        "\n",
        "class ConcreteSubject(Subject):\n",
        "\n",
        "    Wickets = 0\n",
        "    Score = 0\n",
        "\n",
        "    #Modification state to keep track of overs bowled\n",
        "    Overs = 0\n",
        "\n",
        "    _observers = []\n",
        "\n",
        "    def attach(self, observer: Observer) -> None:\n",
        "        print(\"Subject: Attached an observer.\")\n",
        "        self._observers.append(observer)\n",
        "\n",
        "    def detach(self, observer: Observer) -> None:\n",
        "        self._observers.remove(observer)\n",
        "\n",
        "    def notify(self) -> None:\n",
        "        print(\"Subject: Notifying observers...\")\n",
        "        for observer in self._observers:\n",
        "            observer.update(self)\n",
        "\n",
        "    def wicketFallen(self):\n",
        "        time.sleep(1)\n",
        "        self.Wickets += 1\n",
        "        print(f\"Subject: Wicket has fallen: {self.Wickets}\")\n",
        "        self.notify()\n",
        "\n",
        "    def scoreIncrease(self, num):\n",
        "        time.sleep(1)\n",
        "        self.Score += num\n",
        "        print(f\"Subject: Score Changed: {self.Score}\")\n",
        "        self.notify()\n",
        "\n",
        "    def oversUpdate(self, num):\n",
        "        time.sleep(1)\n",
        "        self.Overs = num\n",
        "        print(f\"Subject: Overs bowled: {self.Overs}\")\n",
        "        self.notify()\n",
        "\n",
        "\n",
        "class Observer(ABC):\n",
        "\n",
        "    @abstractmethod\n",
        "    def update(self, subject):\n",
        "        pass\n",
        "\n",
        "\n",
        "class ConcreteObserverA(Observer):\n",
        "    def update(self, subject):\n",
        "        print(f\"Mobile Device (Display) Score = : {subject.Wickets} For {subject.Score}\")\n",
        "\n",
        "\n",
        "class ConcreteObserverB(Observer):\n",
        "    def update(self, subject):\n",
        "        print(f\"Laptop Device (Display) Score = : {subject.Wickets} For {subject.Score}\")\n",
        "\n",
        "\n",
        "class ConcreteObserverC(Observer):\n",
        "    def update(self, subject):\n",
        "        print(f\"Ipad (Display) Overs = : {subject.Overs}\")\n",
        "\n",
        "\n",
        "#Main Code/ Client\n",
        "if __name__ == \"__main__\":\n",
        "    subject = ConcreteSubject()\n",
        "\n",
        "    observer_a = ConcreteObserverA()\n",
        "    subject.attach(observer_a)\n",
        "\n",
        "    observer_b = ConcreteObserverB()\n",
        "    subject.attach(observer_b)\n",
        "\n",
        "    #Modification Observer for Overs\n",
        "    observer_c = ConcreteObserverC()\n",
        "    subject.attach(observer_c)\n",
        "\n",
        "    subject.scoreIncrease(4)\n",
        "    subject.scoreIncrease(0)\n",
        "    subject.scoreIncrease(4)\n",
        "    subject.scoreIncrease(6)\n",
        "    subject.scoreIncrease(1)\n",
        "\n",
        "    subject.detach(observer_a)\n",
        "\n",
        "    subject.wicketFallen()\n",
        "\n",
        "    subject.scoreIncrease(1)\n",
        "\n",
        "    #Modification Over update\n",
        "    subject.oversUpdate(5)\n",
        "\n"
      ],
      "metadata": {
        "colab": {
          "base_uri": "https://localhost:8080/"
        },
        "id": "NSKFBaGrRsPy",
        "outputId": "411b105b-1ad1-49e3-e735-f230beb8c814"
      },
      "id": "NSKFBaGrRsPy",
      "execution_count": 2,
      "outputs": [
        {
          "output_type": "stream",
          "name": "stdout",
          "text": [
            "Subject: Attached an observer.\n",
            "Subject: Attached an observer.\n",
            "Subject: Attached an observer.\n",
            "Subject: Score Changed: 4\n",
            "Subject: Notifying observers...\n",
            "Mobile Device (Display) Score = : 0 For 4\n",
            "Laptop Device (Display) Score = : 0 For 4\n",
            "Ipad (Display) Overs = : 0\n",
            "Subject: Score Changed: 4\n",
            "Subject: Notifying observers...\n",
            "Mobile Device (Display) Score = : 0 For 4\n",
            "Laptop Device (Display) Score = : 0 For 4\n",
            "Ipad (Display) Overs = : 0\n",
            "Subject: Score Changed: 8\n",
            "Subject: Notifying observers...\n",
            "Mobile Device (Display) Score = : 0 For 8\n",
            "Laptop Device (Display) Score = : 0 For 8\n",
            "Ipad (Display) Overs = : 0\n",
            "Subject: Score Changed: 14\n",
            "Subject: Notifying observers...\n",
            "Mobile Device (Display) Score = : 0 For 14\n",
            "Laptop Device (Display) Score = : 0 For 14\n",
            "Ipad (Display) Overs = : 0\n",
            "Subject: Score Changed: 15\n",
            "Subject: Notifying observers...\n",
            "Mobile Device (Display) Score = : 0 For 15\n",
            "Laptop Device (Display) Score = : 0 For 15\n",
            "Ipad (Display) Overs = : 0\n",
            "Subject: Wicket has fallen: 1\n",
            "Subject: Notifying observers...\n",
            "Laptop Device (Display) Score = : 1 For 15\n",
            "Ipad (Display) Overs = : 0\n",
            "Subject: Score Changed: 16\n",
            "Subject: Notifying observers...\n",
            "Laptop Device (Display) Score = : 1 For 16\n",
            "Ipad (Display) Overs = : 0\n",
            "Subject: Overs bowled: 5\n",
            "Subject: Notifying observers...\n",
            "Laptop Device (Display) Score = : 1 For 16\n",
            "Ipad (Display) Overs = : 5\n"
          ]
        }
      ]
    },
    {
      "cell_type": "markdown",
      "id": "46c3c119",
      "metadata": {
        "id": "46c3c119"
      },
      "source": [
        "# No Pattern"
      ]
    },
    {
      "cell_type": "code",
      "execution_count": null,
      "id": "c855a5ae",
      "metadata": {
        "id": "c855a5ae"
      },
      "outputs": [],
      "source": [
        "class CheesePizza(Pizza):\n",
        "\n",
        "    def prepare(self):\n",
        "        return \"Creating Yummy Cheese Pizza\"\n",
        "\n",
        "\n",
        "class PepperoniPizza(Pizza):\n",
        "\n",
        "    def prepare(self):\n",
        "        return \"Creating Yummy Pepporoni Pizza\""
      ]
    },
    {
      "cell_type": "markdown",
      "id": "3fe97b65",
      "metadata": {
        "id": "3fe97b65"
      },
      "source": [
        "Bad way of ordering Pizza"
      ]
    },
    {
      "cell_type": "code",
      "execution_count": null,
      "id": "ffea3b46",
      "metadata": {
        "id": "ffea3b46",
        "outputId": "e55defb6-659c-4380-d045-dd5645337e56"
      },
      "outputs": [
        {
          "data": {
            "text/plain": [
              "'Creating Yummy Cheese Pizza'"
            ]
          },
          "execution_count": 28,
          "metadata": {},
          "output_type": "execute_result"
        }
      ],
      "source": [
        "if type == \"Cheese\":\n",
        "    pizza = CheesePiza()\n",
        "elif type == \"Pepporoni\":\n",
        "    pizza = PepperoniPizza()\n",
        "\n",
        "pizza.prepare()"
      ]
    },
    {
      "cell_type": "markdown",
      "id": "6aa503c7",
      "metadata": {
        "id": "6aa503c7"
      },
      "source": [
        "# Simple Factory Pattern\n",
        "- See above explanation\n"
      ]
    },
    {
      "cell_type": "code",
      "execution_count": null,
      "id": "4840f713",
      "metadata": {
        "id": "4840f713"
      },
      "outputs": [],
      "source": [
        "from abc import ABC, abstractmethod\n",
        "\n",
        "class Pizza(ABC):\n",
        "\n",
        "    @abstractmethod\n",
        "    def prepare(self):\n",
        "        pass\n",
        "\n",
        "class CheesePizza(Pizza):\n",
        "\n",
        "    def prepare(self):\n",
        "        return \"Creating Yummy Cheese Pizza\"\n",
        "\n",
        "\n",
        "class PepperoniPizza(Pizza):\n",
        "\n",
        "    def prepare(self):\n",
        "        return \"Creating Yummy Pepporoni Pizza\""
      ]
    },
    {
      "cell_type": "code",
      "execution_count": null,
      "id": "a0516501",
      "metadata": {
        "id": "a0516501"
      },
      "outputs": [],
      "source": [
        "class SimplePizzaFactory():\n",
        "\n",
        "    def createPizza(self, type):\n",
        "        if type == \"Cheese\":\n",
        "            self.pizza = CheesePiza()\n",
        "        elif type == \"Pepporoni\":\n",
        "            self.pizza = PepperoniPizza()\n",
        "\n",
        "        return self.pizza.prepare()"
      ]
    },
    {
      "cell_type": "markdown",
      "id": "1edb36fe",
      "metadata": {
        "id": "1edb36fe"
      },
      "source": [
        " Ugly way of ordering pizza [Simple Factory]"
      ]
    },
    {
      "cell_type": "code",
      "execution_count": null,
      "id": "384c8e5f",
      "metadata": {
        "id": "384c8e5f",
        "outputId": "78021dab-0f9e-4d12-b720-b09455d739b2"
      },
      "outputs": [
        {
          "name": "stdout",
          "output_type": "stream",
          "text": [
            "Creating Yummy Pepporoni Pizza\n"
          ]
        }
      ],
      "source": [
        "sf = SimplePizzaFactory()\n",
        "sf.createPizza(\"Pepporoni\")"
      ]
    },
    {
      "cell_type": "markdown",
      "id": "38ca29ce",
      "metadata": {
        "id": "38ca29ce"
      },
      "source": [
        "# Factory Method Pattern\n",
        "- Good: When you want to create an object but do not know\n",
        "what type of object to create\n",
        "Eliminates the need to bind creation code to specific subclasses.\n",
        "\n",
        "Factory class = Abstract\n",
        "-       An interface for creating objects in a superclass, the superclass can alter the type of objects being created.\n",
        "-       Common in objects creation.\n",
        "-       Eliminated the need to bind creation code to specific subclasses.\n",
        "\n",
        "Functions\n",
        "-       factoryMethod() which takes care of object creation. It needs to be overridden by the subclasses involved in object creation.\n",
        "-       someOperation() operates on the produces produced from the factory Method() function.\n"
      ]
    },
    {
      "cell_type": "code",
      "execution_count": null,
      "id": "cbdd1c11",
      "metadata": {
        "id": "cbdd1c11"
      },
      "outputs": [],
      "source": [
        "class Pizza(ABC):\n",
        "\n",
        "    @abstractmethod\n",
        "    def prepare(self):\n",
        "        pass\n",
        "\n",
        "class CheesePizza(Pizza):\n",
        "\n",
        "    def prepare(self):\n",
        "        return \"Creating Yummy Cheese Pizza\"\n",
        "\n",
        "\n",
        "class PepperoniPizza(Pizza):\n",
        "\n",
        "    def prepare(self):\n",
        "        return \"Creating Yummy Pepporoni Pizza\""
      ]
    },
    {
      "cell_type": "code",
      "execution_count": null,
      "id": "35617290",
      "metadata": {
        "id": "35617290"
      },
      "outputs": [],
      "source": [
        "class AbstractPizzaFactory(ABC):\n",
        "\n",
        "    @abstractmethod\n",
        "    def factoryMethod(self):\n",
        "        pass\n",
        "\n",
        "    def someOperation(self):\n",
        "        pizza = self.factoryMethod()\n",
        "        return pizza.prepare()\n",
        "\n",
        "class CheesePizzaCreator(AbstractPizzaFactory):\n",
        "\n",
        "    def factoryMethod(self):\n",
        "        return CheesePizza()\n",
        "\n",
        "\n",
        "class PepperoniPizzaCreator(AbstractPizzaFactory):\n",
        "\n",
        "    def factoryMethod(self):\n",
        "        return PepperoniPizza()"
      ]
    },
    {
      "cell_type": "markdown",
      "id": "347f8c7d",
      "metadata": {
        "id": "347f8c7d"
      },
      "source": [
        "Good way of ordering pizza [Factory Method]"
      ]
    },
    {
      "cell_type": "code",
      "execution_count": null,
      "id": "1cebf0d4",
      "metadata": {
        "id": "1cebf0d4",
        "outputId": "f3d5b806-a125-4c2b-e56a-08a9ee3eeeac"
      },
      "outputs": [
        {
          "data": {
            "text/plain": [
              "'Creating Yummy Cheese Pizza'"
            ]
          },
          "execution_count": 27,
          "metadata": {},
          "output_type": "execute_result"
        }
      ],
      "source": [
        "fm = CheesePizzaCreator()\n",
        "pizza = fm.factoryMethod()\n",
        "\n",
        "pizza.prepare()"
      ]
    },
    {
      "cell_type": "code",
      "execution_count": null,
      "id": "6bbf409c",
      "metadata": {
        "id": "6bbf409c"
      },
      "outputs": [],
      "source": []
    },
    {
      "cell_type": "markdown",
      "id": "6e7207ce",
      "metadata": {
        "id": "6e7207ce"
      },
      "source": [
        "# Observer Pattern\n",
        "- See above explanation"
      ]
    },
    {
      "cell_type": "code",
      "execution_count": null,
      "id": "0b09ef28",
      "metadata": {
        "id": "0b09ef28"
      },
      "outputs": [],
      "source": [
        "from __future__ import annotations\n",
        "from abc import ABC, abstractmethod\n",
        "from random import randrange\n",
        "from typing import List\n",
        "import time"
      ]
    },
    {
      "cell_type": "code",
      "execution_count": null,
      "id": "9e049fa2",
      "metadata": {
        "id": "9e049fa2"
      },
      "outputs": [],
      "source": [
        "class Subject(ABC):\n",
        "\n",
        "    @abstractmethod\n",
        "    def attach(self, observer: Observer):\n",
        "        pass\n",
        "\n",
        "    @abstractmethod\n",
        "    def detach(self, observer: Observer):\n",
        "        pass\n",
        "\n",
        "    @abstractmethod\n",
        "    def notify(self):\n",
        "        pass\n",
        "\n",
        "\n",
        "class ConcreteSubject(Subject):\n",
        "\n",
        "    Wickets = 0\n",
        "    Score = 0\n",
        "\n",
        "    #_observers: List[Observer] = []\n",
        "    _observers = []\n",
        "\n",
        "    # Ask me about this Python Syntax:\n",
        "    def attach(self, observer: Observer) -> None:\n",
        "        print(\"Subject: Attached an observer.\")\n",
        "        self._observers.append(observer)\n",
        "\n",
        "    def detach(self, observer: Observer) -> None:\n",
        "        self._observers.remove(observer)\n",
        "\n",
        "\n",
        "    def notify(self) -> None:\n",
        "\n",
        "        print(\"Subject: Notifying observers...\")\n",
        "        for observer in self._observers:\n",
        "            observer.update(self)\n",
        "\n",
        "    def wicketFallen(self):\n",
        "\n",
        "        time.sleep(1)\n",
        "\n",
        "        self.Wickets += 1\n",
        "\n",
        "        print(f\"Subject: Wicket has fallen: {self.Wickets}\")\n",
        "        self.notify()\n",
        "\n",
        "    def scoreIncrease(self, num):\n",
        "\n",
        "        time.sleep(1)\n",
        "\n",
        "        self.Score += num\n",
        "\n",
        "        print(f\"Subject: Score Changed: {self.Score}\")\n",
        "        self.notify()"
      ]
    },
    {
      "cell_type": "code",
      "execution_count": null,
      "id": "dc9b1a36",
      "metadata": {
        "id": "dc9b1a36"
      },
      "outputs": [],
      "source": [
        "class Observer(ABC):\n",
        "\n",
        "    @abstractmethod\n",
        "    def update(self, subject):\n",
        "        pass\n",
        "\n",
        "class ConcreteObserverA(Observer):\n",
        "\n",
        "    def update(self, subject):\n",
        "\n",
        "        print(f\"Mobile Device (Display) Score = : {subject.Wickets} For {subject.Score}\" )\n",
        "\n",
        "\n",
        "class ConcreteObserverB(Observer):\n",
        "\n",
        "    def update(self, subject):\n",
        "\n",
        "        #if subject._state == 0 or subject._state >= 2:\n",
        "        print(f\"Laptop Device (Display) Score = : {subject.Wickets} For {subject.Score}\")"
      ]
    },
    {
      "cell_type": "code",
      "execution_count": null,
      "id": "d55a3168",
      "metadata": {
        "id": "d55a3168",
        "outputId": "c01bc2b8-261e-46ac-de59-96356b7dc613"
      },
      "outputs": [
        {
          "name": "stdout",
          "output_type": "stream",
          "text": [
            "Subject: Attached an observer.\n",
            "Subject: Attached an observer.\n",
            "Subject: Score Changed: 4\n",
            "Subject: Notifying observers...\n",
            "Mobile Device (Display) Score = : 0 For 4\n",
            "Laptop Device (Display) Score = : 0 For 4\n",
            "Laptop Device (Display) Score = : 0 For 4\n",
            "Mobile Device (Display) Score = : 0 For 4\n",
            "Laptop Device (Display) Score = : 0 For 4\n",
            "Subject: Score Changed: 4\n",
            "Subject: Notifying observers...\n",
            "Mobile Device (Display) Score = : 0 For 4\n",
            "Laptop Device (Display) Score = : 0 For 4\n",
            "Laptop Device (Display) Score = : 0 For 4\n",
            "Mobile Device (Display) Score = : 0 For 4\n",
            "Laptop Device (Display) Score = : 0 For 4\n",
            "Subject: Score Changed: 8\n",
            "Subject: Notifying observers...\n",
            "Mobile Device (Display) Score = : 0 For 8\n",
            "Laptop Device (Display) Score = : 0 For 8\n",
            "Laptop Device (Display) Score = : 0 For 8\n",
            "Mobile Device (Display) Score = : 0 For 8\n",
            "Laptop Device (Display) Score = : 0 For 8\n",
            "Subject: Score Changed: 14\n",
            "Subject: Notifying observers...\n",
            "Mobile Device (Display) Score = : 0 For 14\n",
            "Laptop Device (Display) Score = : 0 For 14\n",
            "Laptop Device (Display) Score = : 0 For 14\n",
            "Mobile Device (Display) Score = : 0 For 14\n",
            "Laptop Device (Display) Score = : 0 For 14\n",
            "Subject: Score Changed: 15\n",
            "Subject: Notifying observers...\n",
            "Mobile Device (Display) Score = : 0 For 15\n",
            "Laptop Device (Display) Score = : 0 For 15\n",
            "Laptop Device (Display) Score = : 0 For 15\n",
            "Mobile Device (Display) Score = : 0 For 15\n",
            "Laptop Device (Display) Score = : 0 For 15\n",
            "Subject: Wicket has fallen: 1\n",
            "Subject: Notifying observers...\n",
            "Mobile Device (Display) Score = : 1 For 15\n",
            "Laptop Device (Display) Score = : 1 For 15\n",
            "Laptop Device (Display) Score = : 1 For 15\n",
            "Laptop Device (Display) Score = : 1 For 15\n",
            "Subject: Score Changed: 16\n",
            "Subject: Notifying observers...\n",
            "Mobile Device (Display) Score = : 1 For 16\n",
            "Laptop Device (Display) Score = : 1 For 16\n",
            "Laptop Device (Display) Score = : 1 For 16\n",
            "Laptop Device (Display) Score = : 1 For 16\n"
          ]
        }
      ],
      "source": [
        "if __name__ == \"__main__\":\n",
        "    # The client code.\n",
        "\n",
        "    subject = ConcreteSubject()\n",
        "\n",
        "    observer_a = ConcreteObserverA()\n",
        "    subject.attach(observer_a)\n",
        "\n",
        "    observer_b = ConcreteObserverB()\n",
        "    subject.attach(observer_b)\n",
        "\n",
        "    subject.scoreIncrease(4)\n",
        "    subject.scoreIncrease(0)\n",
        "    subject.scoreIncrease(4)\n",
        "    subject.scoreIncrease(6)\n",
        "    subject.scoreIncrease(1)\n",
        "\n",
        "    subject.detach(observer_a)\n",
        "\n",
        "    subject.wicketFallen()\n",
        "\n",
        "    subject.scoreIncrease(1)"
      ]
    }
  ],
  "metadata": {
    "kernelspec": {
      "display_name": "Python 3 (ipykernel)",
      "language": "python",
      "name": "python3"
    },
    "language_info": {
      "codemirror_mode": {
        "name": "ipython",
        "version": 3
      },
      "file_extension": ".py",
      "mimetype": "text/x-python",
      "name": "python",
      "nbconvert_exporter": "python",
      "pygments_lexer": "ipython3",
      "version": "3.9.16"
    },
    "colab": {
      "provenance": []
    }
  },
  "nbformat": 4,
  "nbformat_minor": 5
}