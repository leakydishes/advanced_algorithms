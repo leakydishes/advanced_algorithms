{
  "cells": [
    {
      "cell_type": "markdown",
      "id": "imposed-playlist",
      "metadata": {
        "id": "imposed-playlist"
      },
      "source": [
        "# Lab 8: Greedy Algorithms"
      ]
    },
    {
      "cell_type": "markdown",
      "id": "d97cce87",
      "metadata": {
        "id": "d97cce87"
      },
      "source": [
        "Lab associated with Module 8: Greedy Algorithms"
      ]
    },
    {
      "cell_type": "markdown",
      "id": "5c7f2e9d",
      "metadata": {
        "id": "5c7f2e9d"
      },
      "source": [
        "***"
      ]
    },
    {
      "cell_type": "code",
      "execution_count": 33,
      "id": "5b495ad0",
      "metadata": {
        "colab": {
          "base_uri": "https://localhost:8080/",
          "height": 17
        },
        "id": "5b495ad0",
        "outputId": "c6ce85dc-5fff-49e5-c848-7ea45bcc2311"
      },
      "outputs": [
        {
          "output_type": "display_data",
          "data": {
            "text/plain": [
              "<IPython.core.display.HTML object>"
            ],
            "text/html": [
              "<style>.container { width:95% !important; }</style>"
            ]
          },
          "metadata": {}
        }
      ],
      "source": [
        "# The following lines are used to increase the width of cells to utilize more space on the screen\n",
        "from IPython.core.display import display, HTML\n",
        "display(HTML(\"<style>.container { width:95% !important; }</style>\"))"
      ]
    },
    {
      "cell_type": "markdown",
      "id": "3a2b855c",
      "metadata": {
        "id": "3a2b855c"
      },
      "source": [
        "***"
      ]
    },
    {
      "cell_type": "markdown",
      "id": "9d0921a0",
      "metadata": {
        "id": "9d0921a0"
      },
      "source": [
        "### Section 0: Imports"
      ]
    },
    {
      "cell_type": "code",
      "execution_count": 34,
      "id": "477622d5",
      "metadata": {
        "id": "477622d5"
      },
      "outputs": [],
      "source": [
        "import numpy as np"
      ]
    },
    {
      "cell_type": "code",
      "execution_count": 35,
      "id": "50fb5ed5",
      "metadata": {
        "id": "50fb5ed5"
      },
      "outputs": [],
      "source": [
        "import math"
      ]
    },
    {
      "cell_type": "code",
      "execution_count": 36,
      "id": "9910ee06",
      "metadata": {
        "id": "9910ee06"
      },
      "outputs": [],
      "source": [
        "from IPython.display import Image\n",
        "from graphviz import Digraph"
      ]
    },
    {
      "cell_type": "markdown",
      "source": [
        "## Section 1: Graph Preliminaries\n",
        "Let us start by implementing our Node and Graph data structure to incorporate weights in the graph"
      ],
      "metadata": {
        "id": "z4qu0ZuWqEo1"
      },
      "id": "z4qu0ZuWqEo1"
    },
    {
      "cell_type": "code",
      "source": [
        "class Node:\n",
        "\n",
        "    def __init__(self, v):\n",
        "\n",
        "        self.value = v\n",
        "        self.inNeighbors = []\n",
        "        self.outNeighbors = []\n",
        "        self.key = np.inf  # Key to infinity\n",
        "        self.parent = None  # parent to None for testing\n",
        "\n",
        "        self.status = \"unvisited\"\n",
        "        self.estD = np.inf\n",
        "\n",
        "    def hasOutNeighbor(self, v):\n",
        "\n",
        "        if v in self.outNeighbors:\n",
        "            return True\n",
        "\n",
        "        return False\n",
        "\n",
        "    def hasInNeighbor(self, v):\n",
        "\n",
        "        if v in self.inNeighbors:\n",
        "            return True\n",
        "\n",
        "        return False\n",
        "\n",
        "    def hasNeighbor(self, v):\n",
        "\n",
        "        if v in self.inNeighbors or v in self.outNeighbors:\n",
        "            return True\n",
        "\n",
        "        return False\n",
        "\n",
        "    def getOutNeighbors(self):\n",
        "\n",
        "        return self.outNeighbors\n",
        "\n",
        "    def getInNeighbors(self):\n",
        "\n",
        "        return self.inNeighbors\n",
        "\n",
        "    def getOutNeighborsWithWeights(self):\n",
        "\n",
        "        return self.outNeighbors\n",
        "\n",
        "    def getInNeighborsWithWeights(self):\n",
        "\n",
        "        return self.inNeighbors\n",
        "\n",
        "    # ------------------------------------------------\n",
        "    # Let us modify following two functions to incorporate weights\n",
        "    # ------------------------------------------------\n",
        "\n",
        "    def addOutNeighbor(self,v,wt):\n",
        "\n",
        "        self.outNeighbors.append((v,wt))\n",
        "\n",
        "    def addInNeighbor(self,v,wt):\n",
        "\n",
        "        self.inNeighbors.append((v,wt))\n",
        "\n",
        "\n",
        "    def __str__(self):\n",
        "\n",
        "        return str(self.value)"
      ],
      "metadata": {
        "id": "60xHeDp1p4Ft"
      },
      "id": "60xHeDp1p4Ft",
      "execution_count": 37,
      "outputs": []
    },
    {
      "cell_type": "code",
      "source": [
        "# Insert Graph Class\n",
        "class Graph:\n",
        "\n",
        "    def __init__(self):\n",
        "\n",
        "        self.vertices = []\n",
        "\n",
        "    def addVertex(self,n):\n",
        "\n",
        "        self.vertices.append(n)\n",
        "\n",
        "    # ------------------------------------------------\n",
        "    # Let us modify following two functions to incorporate weights\n",
        "    # ------------------------------------------------\n",
        "\n",
        "    def addDiEdge(self, u, v, wt = 1):\n",
        "\n",
        "        u.addOutNeighbor(v, wt = wt)\n",
        "        v.addInNeighbor(u, wt = wt)\n",
        "\n",
        "    # add edges in both directions between u and v\n",
        "    def addBiEdge(self, u, v, wt = 1):\n",
        "\n",
        "        self.addDiEdge(u, v, wt = wt)\n",
        "        self.addDiEdge(v, u, wt = wt)\n",
        "\n",
        "\n",
        "    # get a list of all the directed edges\n",
        "    # directed edges are a list of two vertices\n",
        "    def getDirEdges(self):\n",
        "\n",
        "        ret = []\n",
        "        for v in self.vertices:\n",
        "            ret += [ [v, u] for u in v.outNeighbors ]\n",
        "        return ret\n",
        "\n",
        "    # reverse the edge between u and v.  Multiple edges are not supported.\n",
        "    def reverseEdge(self,u,v):\n",
        "\n",
        "        if u.hasOutNeighbor(v) and v.hasInNeighbor(u):\n",
        "\n",
        "            if v.hasOutNeighbor(u) and u.hasInNeighbor(v):\n",
        "                return\n",
        "\n",
        "            self.addDiEdge(v, u)\n",
        "            u.outNeighbors.remove(v)\n",
        "            v.inNeighbors.remove(u)\n",
        "\n",
        "    def __str__(self):\n",
        "\n",
        "        ret = \"Graph with:\\n\"\n",
        "        ret += \"\\t Vertices:\\n\\t\"\n",
        "        for v in self.vertices:\n",
        "            ret += str(v) + \",\"\n",
        "        ret += \"\\n\"\n",
        "        ret += \"\\t Edges:\\n\\t\"\n",
        "        for a,b in self.getDirEdges():\n",
        "            ret += \"(\" + str(a) + \",\" + str(b) + \") \"\n",
        "        ret += \"\\n\"\n",
        "        return ret"
      ],
      "metadata": {
        "id": "7pdXPJ2Dp6KP"
      },
      "id": "7pdXPJ2Dp6KP",
      "execution_count": 38,
      "outputs": []
    },
    {
      "cell_type": "markdown",
      "id": "7f9321f8",
      "metadata": {
        "id": "7f9321f8"
      },
      "source": [
        "***"
      ]
    },
    {
      "cell_type": "markdown",
      "id": "f9b31a04",
      "metadata": {
        "id": "f9b31a04"
      },
      "source": [
        "### <font color='red'> Activity 1a: Write a greedy algorithm for Activity Selection problem in this week's lab. </font>"
      ]
    },
    {
      "cell_type": "markdown",
      "source": [
        "## Greedy Activity Selection Problem\n",
        "- The greedy strategy sorts the activities based on their end times and selects the activity with the earliest end time first.\n",
        "- It iteratively selects activities that do not overlap with the previously selected ones.\n",
        "- This approach aims to make a locally optimal choice at each step by selecting the activity that ends earliest, without considering the global picture.\n",
        "\n",
        "### Aim: Select a maximum number of non-overlapping activities to perform.\n",
        "- Algorithm has inputs:\n",
        "    -  activities (list of activities)\n",
        "    - start_times (list of start time for the activities)\n",
        "    - end_times (list of end times for the activities)\n",
        "\n",
        "- The Activity Selection Problem Algorithm uses an empty list to store activities.\n",
        "- The function zip in python is used to create tuples (end_time, start_time, activitiy) and then sorting based on end times.\n",
        "\n",
        "## Implementation\n",
        "1. The first activity in the sorted list is going to be non-overlapping with the others, so its added to selected_activities list.\n",
        "  - the end_time for this activity is stored in prev_end_time variable.\n",
        "2. The loop iterates through the remaining activities in the sorted list\n",
        "  - For each acitvity it checks if start time of the current activity is > = to the prev_end_time (of last selected activity).\n",
        "  - If true, current activity is considered non-overlapping and added to selected_activities list and pre_end_time updated.\n",
        "\n",
        "3. The selected_activities list contains all the activities that were selected, the length of this list represents the max number of non-overlapping activities that can be performed in a day!\n",
        "\n"
      ],
      "metadata": {
        "id": "xsQK_vwTHh-p"
      },
      "id": "xsQK_vwTHh-p"
    },
    {
      "cell_type": "code",
      "execution_count": 39,
      "id": "8d176b03",
      "metadata": {
        "id": "8d176b03"
      },
      "outputs": [],
      "source": [
        "def activity_selection(activities, start_times, end_times):\n",
        "  if not activities:  # If there are no activities, return an empty list\n",
        "    return []\n",
        "\n",
        "  # Find the total number of activies\n",
        "  n = len(activities)\n",
        "\n",
        "  # Create empty list, store selected activities\n",
        "  selected_activities = []\n",
        "\n",
        "  # Sort activities (end times)\n",
        "  # Tracks (start times, activity names)\n",
        "  sorted_activities = sorted(zip(end_times, start_times, activities))\n",
        "\n",
        "  # Select first activity (earliest ending activity)\n",
        "  selected_activities.append(sorted_activities[0][2]) # Add activity to selected list\n",
        "  prev_end_time = sorted_activities[0][0] #Update previous end time\n",
        "\n",
        "  # Iterate through the remaining activities\n",
        "  for i in range(1, n):\n",
        "    current_activity = sorted_activities[i]\n",
        "    if current_activity[1] >= prev_end_time:\n",
        "      #If true, activities start time is after or = to previous end time\n",
        "      selected_activities.append(current_activity[2]) # Add to selected list\n",
        "      prev_end_time = current_activity[0] # Update previous end time\n",
        "\n",
        "  return selected_activities"
      ]
    },
    {
      "cell_type": "markdown",
      "source": [
        "## Test Cases\n",
        "- Non-overlapping activities\n",
        "- Overlapping activities\n",
        "- All overlapping activities\n",
        "- No activities\n",
        "- One Activity"
      ],
      "metadata": {
        "id": "bIvlhkyZROEt"
      },
      "id": "bIvlhkyZROEt"
    },
    {
      "cell_type": "code",
      "source": [
        "# Time\n",
        "import time\n",
        "\n",
        "# Non-overlapping activities\n",
        "activities1 = [\"A\", \"B\", \"C\", \"D\"]\n",
        "start_times1 = [1, 2, 4, 6]\n",
        "end_times1 = [3, 5, 7, 8]\n",
        "\n",
        "selected1 = activity_selection(activities1, start_times1, end_times1)\n",
        "print(\"Non-Overlapping activities\")\n",
        "print(\"Selected activities:\", selected1)\n",
        "print(\"Number of activities:\", len(selected1))"
      ],
      "metadata": {
        "colab": {
          "base_uri": "https://localhost:8080/"
        },
        "id": "zj_z2Q-VRNTe",
        "outputId": "3ca4c4dc-79f2-41e1-80cd-cb0004d28538"
      },
      "id": "zj_z2Q-VRNTe",
      "execution_count": 40,
      "outputs": [
        {
          "output_type": "stream",
          "name": "stdout",
          "text": [
            "Non-Overlapping activities\n",
            "Selected activities: ['A', 'C']\n",
            "Number of activities: 2\n"
          ]
        }
      ]
    },
    {
      "cell_type": "code",
      "source": [
        "# Overlapping activities\n",
        "activities2 = [\"A\", \"B\", \"C\", \"D\", \"E\", \"F\"]\n",
        "start_times2 = [1, 2, 4, 5, 8, 5]\n",
        "end_times2 = [3, 4, 6, 7, 9, 9]\n",
        "\n",
        "selected2 = activity_selection(activities2, start_times2, end_times2)\n",
        "print(\"Overlapping activities\")\n",
        "print(\"Selected activities:\", selected2)\n",
        "print(\"Number of activities:\", len(selected2))"
      ],
      "metadata": {
        "colab": {
          "base_uri": "https://localhost:8080/"
        },
        "id": "fJcP8ZP0S_kX",
        "outputId": "95169ded-e557-4917-bc15-627b889d683a"
      },
      "id": "fJcP8ZP0S_kX",
      "execution_count": 41,
      "outputs": [
        {
          "output_type": "stream",
          "name": "stdout",
          "text": [
            "Overlapping activities\n",
            "Selected activities: ['A', 'C', 'E']\n",
            "Number of activities: 3\n"
          ]
        }
      ]
    },
    {
      "cell_type": "code",
      "source": [
        "# All overlapping activities\n",
        "activities3 = [\"A\", \"B\", \"C\", \"D\"]\n",
        "start_times3 = [1, 2, 3, 4]\n",
        "end_times3 = [4, 5, 6, 7]\n",
        "\n",
        "selected3 = activity_selection(activities3, start_times3, end_times3)\n",
        "print(\"All overlapping activities\")\n",
        "print(\"Selected activities:\", selected3)\n",
        "print(\"Number of activities:\", len(selected3))"
      ],
      "metadata": {
        "colab": {
          "base_uri": "https://localhost:8080/"
        },
        "id": "z0InwpsUTL6v",
        "outputId": "df376ab7-85af-4033-e741-4178512d3526"
      },
      "id": "z0InwpsUTL6v",
      "execution_count": 42,
      "outputs": [
        {
          "output_type": "stream",
          "name": "stdout",
          "text": [
            "All overlapping activities\n",
            "Selected activities: ['A', 'D']\n",
            "Number of activities: 2\n"
          ]
        }
      ]
    },
    {
      "cell_type": "code",
      "source": [
        "# No activities\n",
        "activities4 = []\n",
        "start_times4 = []\n",
        "end_times4 = []\n",
        "\n",
        "selected4 = activity_selection(activities4, start_times4, end_times4)\n",
        "print(\"No activities\")\n",
        "print(\"Selected activities:\", selected4)\n",
        "print(\"Number of activities:\", len(selected4))"
      ],
      "metadata": {
        "colab": {
          "base_uri": "https://localhost:8080/"
        },
        "id": "Ybz8sBZwTXMH",
        "outputId": "5ef018d4-610e-4d9a-a656-0f58be0d163b"
      },
      "id": "Ybz8sBZwTXMH",
      "execution_count": 43,
      "outputs": [
        {
          "output_type": "stream",
          "name": "stdout",
          "text": [
            "No activities\n",
            "Selected activities: []\n",
            "Number of activities: 0\n"
          ]
        }
      ]
    },
    {
      "cell_type": "code",
      "source": [
        "# One Activity\n",
        "activities5 = [\"A\"]\n",
        "start_times5 = [1]\n",
        "end_times5 = [4]\n",
        "\n",
        "selected5 = activity_selection(activities5, start_times5, end_times5)\n",
        "print(\"One activities\")\n",
        "print(\"Selected activities:\", selected5)\n",
        "print(\"Number of activities:\", len(selected5))"
      ],
      "metadata": {
        "colab": {
          "base_uri": "https://localhost:8080/"
        },
        "id": "ZnwyrN6FTbfD",
        "outputId": "a042b473-199e-4aa9-f18b-aa7b5aed7ccd"
      },
      "id": "ZnwyrN6FTbfD",
      "execution_count": 44,
      "outputs": [
        {
          "output_type": "stream",
          "name": "stdout",
          "text": [
            "One activities\n",
            "Selected activities: ['A']\n",
            "Number of activities: 1\n"
          ]
        }
      ]
    },
    {
      "cell_type": "markdown",
      "id": "configured-swedish",
      "metadata": {
        "id": "configured-swedish"
      },
      "source": [
        "### <font color='red'> Activity 1b: Devise a dynamic programming solution to Activity Selection problem, and see if you get the same results as that of greedy strategy. </font>"
      ]
    },
    {
      "cell_type": "markdown",
      "source": [
        "## Dynamic Programming Solution - Activity Selection\n",
        "- This algorithm takes same inputs\n",
        "- Uses same n variable to store total number of activities.\n",
        "- Instead of using a list, use an array max_activities of length n, with all values set to 1.\n",
        "  - Each element of the array will eventually store max number of activities that can be selected.\n",
        "\n",
        "### DP part\n",
        "- uses nested loops to fill in the max_activities (array).\n",
        "- Outerloop iterates over each activity starting at second.\n",
        "- Inner loop iterates over the activities that follow the current one.\n",
        "- The overlapping activities are checked if the end time of activity j is < = to the start time of activity i.\n",
        "  - Ensuring activities don't overlap.\n",
        "- max_activities[i] and [j + 1] is updated to be the max current value.\n",
        "  - when array is full use max(max_activities)\n",
        "  - Finds the max number over non-overlapping activities.\n",
        "- Reconstructs the list based on max_activities array using correct corresponding activity to selected_activity list.\n",
        "- Backtracks to find the remaining selected activities by decrementing max_selected, final score is reversed to get correct order and count.\n",
        "\n",
        "### Difference in results\n",
        "- When you create overlapping activities, the greedy strategy may not always find the optimal solution.\n",
        "- Greedy can produce suboptimal results, as it makes locally optimal choices at each step without considering the global picture unlike Dynamic programming solution.\n"
      ],
      "metadata": {
        "id": "Cm28b0ZjZSS3"
      },
      "id": "Cm28b0ZjZSS3"
    },
    {
      "cell_type": "code",
      "execution_count": 45,
      "id": "piano-programming",
      "metadata": {
        "id": "piano-programming"
      },
      "outputs": [],
      "source": [
        "def dp_activity_selection(activities, start_times, end_times):\n",
        "    n = len(activities)\n",
        "\n",
        "    # List to store the max number of selected activities\n",
        "    max_activities = [1] * n\n",
        "\n",
        "    # max_activities array\n",
        "    for i in range(1, n):\n",
        "      for j in range(i):\n",
        "        if end_times[j] <= start_times[i] and max_activities[i] < max_activities[j] + 1:\n",
        "          max_activities[i] = max_activities[j] + 1\n",
        "\n",
        "    # Find max number of activities\n",
        "    max_selected = max(max_activities)\n",
        "\n",
        "    # Find selected activities\n",
        "    selected_activities = [] # Store activities\n",
        "    idx = max_activities.index(max_selected) # idx is set where last max value is found\n",
        "    selected_activities.append(activities[idx]) # added to list\n",
        "    max_selected -= 1 # reduced due to being used\n",
        "\n",
        "    # Backtrack to find selected activities\n",
        "    # Runs until there are no more max activities in the list and they are valid\n",
        "    while max_selected > 0 and idx > 0:\n",
        "      # Check activities that come before the currently selected activity (idx)\n",
        "      # Check idx -1 (second last) checking all the way to beginning\n",
        "      for j in range(idx - 1, -1, -1):\n",
        "        # Check if activity (j) can be included without overlap in last selected activity (idx)\n",
        "        # Compare end_times[j] with start_time[idx], the start time of last selected activity\n",
        "        if end_times[j] <= start_times[idx] and max_activities[j] == max_selected:\n",
        "          selected_activities.append(activities[j])\n",
        "          max_selected -= 1 # Reduce by 1 as its confirmed.\n",
        "          idx = j # Update idx to continue backtrack\n",
        "          break\n",
        "\n",
        "    return selected_activities[::-1]  # Reverse the list to get the correct order"
      ]
    },
    {
      "cell_type": "markdown",
      "source": [
        "##Test Cases\n",
        "- Non-overlapping activities\n",
        "- Overlapping activities\n",
        "- All overlapping activities\n",
        "- No activities\n",
        "- One Activity"
      ],
      "metadata": {
        "id": "wcAKNY79aXVy"
      },
      "id": "wcAKNY79aXVy"
    },
    {
      "cell_type": "code",
      "source": [
        "# Non-overlapping activities\n",
        "selected_dp_1 = activity_selection(activities1, start_times1, end_times1)\n",
        "print(\"Non-Overlapping activities\")\n",
        "print(\"Selected activities dynamic programming:\", selected_dp_1)\n",
        "print(\"Number of activities:\", len(selected_dp_1))\n",
        "print(\"-\" * 40)\n",
        "print()\n",
        "\n",
        "# Overlapping activities\n",
        "selected_dp_2 = activity_selection(activities2, start_times2, end_times2)\n",
        "print(\"Overlapping activities\")\n",
        "print(\"Selected activities dynamic programming:\", selected_dp_2)\n",
        "print(\"Number of activities:\", len(selected_dp_2))\n",
        "print(\"-\" * 40)\n",
        "print()\n",
        "\n",
        "# All overlapping activities\n",
        "selected_dp_3 = activity_selection(activities3, start_times3, end_times3)\n",
        "print(\"All overlapping activities\")\n",
        "print(\"Selected activities dynamic programming:\", selected_dp_3)\n",
        "print(\"Number of activities:\", len(selected_dp_3))\n",
        "print(\"-\" * 40)\n",
        "print()\n",
        "\n",
        "# No activities\n",
        "selected_dp_4 = activity_selection(activities4, start_times4, end_times4)\n",
        "print(\"No activity:\")\n",
        "print(\"Selected activities dynamic programming:\", selected_dp_4)\n",
        "print(\"Number of activities:\", len(selected_dp_4))\n",
        "print(\"-\" * 40)\n",
        "print()\n",
        "\n",
        "# One activity\n",
        "selected_dp_5 = activity_selection(activities5, start_times5, end_times5)\n",
        "print(\"One activity\")\n",
        "print(\"Selected activities dynamic programming:\", selected_dp_5)\n",
        "print(\"Number of activities:\", len(selected_dp_5))"
      ],
      "metadata": {
        "colab": {
          "base_uri": "https://localhost:8080/"
        },
        "id": "crW9xZJSaZqO",
        "outputId": "db30c07f-f82a-4a2a-d4a3-0e169d379a04"
      },
      "id": "crW9xZJSaZqO",
      "execution_count": 46,
      "outputs": [
        {
          "output_type": "stream",
          "name": "stdout",
          "text": [
            "Non-Overlapping activities\n",
            "Selected activities dynamic programming: ['A', 'C']\n",
            "Number of activities: 2\n",
            "----------------------------------------\n",
            "\n",
            "Overlapping activities\n",
            "Selected activities dynamic programming: ['A', 'C', 'E']\n",
            "Number of activities: 3\n",
            "----------------------------------------\n",
            "\n",
            "All overlapping activities\n",
            "Selected activities dynamic programming: ['A', 'D']\n",
            "Number of activities: 2\n",
            "----------------------------------------\n",
            "\n",
            "No activity:\n",
            "Selected activities dynamic programming: []\n",
            "Number of activities: 0\n",
            "----------------------------------------\n",
            "\n",
            "One activity\n",
            "Selected activities dynamic programming: ['A']\n",
            "Number of activities: 1\n"
          ]
        }
      ]
    },
    {
      "cell_type": "markdown",
      "source": [
        "## Time Comparison: Activity Selection & DP Solution\n",
        "#### Non-overlapping activities\n",
        "- Greedy Time: 0.000092 seconds\n",
        "- DP Time: 0.000108 seconds\n",
        "\n",
        "##### Analysis\n",
        "- Both DP and Greedy algorithm selects the optimal solution A and C\n",
        "- Greedy Time is slightly faster then DP time\n",
        "\n",
        "#### Overlapping activities\n",
        "- Greedy Time: 0.000063 seconds\n",
        "- DP Time: 0.000061 seconds\n",
        "\n",
        "##### Analysis\n",
        "- Greedy selects A, C, E as solution\n",
        "- DP selects B, D, E as solution\n",
        "- Greedy doesn't always find optimal solution\n",
        "- DP finds optimal solution\n",
        "- DP is slightly faster, a larger graph would show a bigger difference in time\n",
        "\n",
        "#### Summary\n",
        "- Non-overlapping both Greedy and DP create similar results, Greedy is faster\n",
        "- Overlapping DP more successful then Greedy in finding optimal solution, minimal time difference"
      ],
      "metadata": {
        "id": "x-XRriXKRVdG"
      },
      "id": "x-XRriXKRVdG"
    },
    {
      "cell_type": "code",
      "source": [
        "# Time Comparison Activity Selection & DP Solution\n",
        "import time\n",
        "\n",
        "print(\"Non-overlapping activities\")\n",
        "# Greedy\n",
        "start_time = time.time()\n",
        "selected1 = activity_selection(activities1, start_times1, end_times1)\n",
        "end_time = time.time()\n",
        "greedy_time1 = end_time - start_time\n",
        "\n",
        "# Dynamic Programming Greedy\n",
        "start_time = time.time()\n",
        "selected_dp_1 = dp_activity_selection(activities1, start_times1, end_times1)\n",
        "end_time = time.time()\n",
        "dp_time1 = end_time - start_time\n",
        "\n",
        "print(f\"Greedy Result: {selected1}\")\n",
        "print(f\"Dynamic Programming Result: {selected_dp_1}\")\n",
        "print(f\"Greedy Time: {greedy_time1:.6f} seconds\")\n",
        "print(f\"Dynamic Programming Time: {dp_time1:.6f} seconds\")\n",
        "print(\"-\" * 40)\n",
        "print()\n",
        "\n",
        "print(\"Overlapping activities\")\n",
        "# Greedy\n",
        "start_time = time.time()\n",
        "selected2 = activity_selection(activities2, start_times2, end_times2)\n",
        "end_time = time.time()\n",
        "greedy_time2 = end_time - start_time\n",
        "\n",
        "# Dynamic Programming Greedy\n",
        "start_time = time.time()\n",
        "selected_dp_2 = dp_activity_selection(activities2, start_times2, end_times2)\n",
        "end_time = time.time()\n",
        "dp_time2 = end_time - start_time\n",
        "\n",
        "print(f\"Greedy Result: {selected2}\")\n",
        "print(f\"Dynamic Programming Result: {selected_dp_2}\")\n",
        "print(f\"Greedy Time: {greedy_time2:.6f} seconds\")\n",
        "print(f\"Dynamic Programming Time: {dp_time2:.6f} seconds\")"
      ],
      "metadata": {
        "colab": {
          "base_uri": "https://localhost:8080/"
        },
        "id": "AIOPXubiRP-k",
        "outputId": "45432814-1820-4262-b856-ed4b650d6757"
      },
      "id": "AIOPXubiRP-k",
      "execution_count": 73,
      "outputs": [
        {
          "output_type": "stream",
          "name": "stdout",
          "text": [
            "Non-overlapping activities\n",
            "Greedy Result: ['A', 'C']\n",
            "Dynamic Programming Result: ['A', 'C']\n",
            "Greedy Time: 0.000092 seconds\n",
            "Dynamic Programming Time: 0.000108 seconds\n",
            "----------------------------------------\n",
            "\n",
            "Overlapping activities\n",
            "Greedy Result: ['A', 'C', 'E']\n",
            "Dynamic Programming Result: ['B', 'D', 'E']\n",
            "Greedy Time: 0.000063 seconds\n",
            "Dynamic Programming Time: 0.000061 seconds\n"
          ]
        }
      ]
    },
    {
      "cell_type": "markdown",
      "id": "1cb9c687",
      "metadata": {
        "id": "1cb9c687"
      },
      "source": [
        "Let us test above function as:"
      ]
    },
    {
      "cell_type": "code",
      "execution_count": 48,
      "id": "55b3a75e",
      "metadata": {
        "colab": {
          "base_uri": "https://localhost:8080/"
        },
        "id": "55b3a75e",
        "outputId": "29dd2629-cd69-4145-fd82-15175df97812"
      },
      "outputs": [
        {
          "output_type": "stream",
          "name": "stdout",
          "text": [
            "Solution: ['[2,5]', '[5,7]', '[9,11]', '[13,15]']\n"
          ]
        }
      ],
      "source": [
        "activities = [  \"[1,4]\",\"[2,5]\",\"[3,6]\",\"[5,7]\",\"[3,8]\",\"[6,9]\",\"[8,10]\",\"[9,11]\",\"[5,12]\",\"[6,13]\",\"[8,14]\",\"[13,15]\" ]\n",
        "activities_start_time = [  1, 2, 3, 5, 3, 6, 8, 9, 5, 6, 8, 13]\n",
        "activities_end_time = [  4, 5, 6, 8, 9, 10, 11, 12, 13, 14, 15 ]\n",
        "\n",
        "activityList = dp_activity_selection(activities, activities_start_time, activities_end_time)\n",
        "\n",
        "print(\"Solution:\", activityList)"
      ]
    },
    {
      "cell_type": "markdown",
      "id": "6570890e",
      "metadata": {
        "id": "6570890e"
      },
      "source": [
        "***"
      ]
    },
    {
      "cell_type": "markdown",
      "id": "6e92fc09",
      "metadata": {
        "id": "6e92fc09"
      },
      "source": [
        "###  Prim's Algorithm O(nm)\n",
        "- For each of n-1 iterations of the while loop\n",
        "  - maybe go through all the edges\n",
        "- Greedy algorithm\n",
        "- Keep track of nodes visited\n",
        "- Make sure that you do not create a cycle (which would violate your tree property)\n",
        "- SlowPrim() – the algorithm time complexity if O(nm) inefficient!\n",
        "- n is the number of vertices\n",
        "- m is the number of edges in the graph\n",
        "\n",
        "### slowPrim()\n",
        "- slowPrim( G = (V,E), starting vertex s ):\n",
        "  - Let (s,u) be the lightest edge coming out of s.\n",
        "  - MST = { (s,u) }\n",
        "  - verticesVisited = { s, u }\n",
        "  - while |verticesVisited| < |V|:\n",
        "    - find the lightest edge (x,v) in E so that:\n",
        "      - x is in verticesVisited\n",
        "      - v is not in verticesVisited\n",
        "    - add (x,v) to MST\n",
        "    - add v to verticesVisited\n",
        "  - return MST"
      ]
    },
    {
      "cell_type": "markdown",
      "id": "ce467019",
      "metadata": {
        "id": "ce467019"
      },
      "source": [
        "Graph's Preliminaries"
      ]
    },
    {
      "cell_type": "code",
      "execution_count": 49,
      "id": "a75ba3ec",
      "metadata": {
        "id": "a75ba3ec"
      },
      "outputs": [],
      "source": [
        "G = Graph()\n",
        "\n",
        "for i in ['A', 'B', 'C', 'D', 'E', 'F', 'G', 'H', 'I']:\n",
        "    G.addVertex( Node(i) )"
      ]
    },
    {
      "cell_type": "code",
      "execution_count": 50,
      "id": "c990d75e",
      "metadata": {
        "id": "c990d75e"
      },
      "outputs": [],
      "source": [
        "V = G.vertices\n",
        "\n",
        "#0, 1, 2, 3, 4, 5, 6, 7, 8\n",
        "#A, B, C, D, E, F, G, H, I\n",
        "\n",
        "G.addBiEdge( V[0], V[1], 4)\n",
        "\n",
        "G.addBiEdge( V[0], V[7] , 8)\n",
        "\n",
        "G.addBiEdge( V[1], V[7], 11)\n",
        "\n",
        "G.addBiEdge( V[1], V[2], 8)\n",
        "\n",
        "G.addBiEdge( V[2], V[3], 7)\n",
        "\n",
        "G.addBiEdge( V[3], V[4], 9)\n",
        "\n",
        "G.addBiEdge( V[3], V[5], 14 )\n",
        "\n",
        "G.addBiEdge( V[4], V[5], 10 )\n",
        "\n",
        "G.addBiEdge( V[2], V[5], 4 )\n",
        "\n",
        "G.addBiEdge( V[2], V[8], 2 )\n",
        "\n",
        "G.addBiEdge( V[5], V[6], 2 )\n",
        "\n",
        "G.addBiEdge( V[6], V[7], 1 )\n",
        "\n",
        "G.addBiEdge( V[6], V[8], 6 )\n",
        "\n",
        "G.addBiEdge( V[7], V[8], 7 )\n"
      ]
    },
    {
      "cell_type": "code",
      "execution_count": 51,
      "id": "2ac81f26",
      "metadata": {
        "colab": {
          "base_uri": "https://localhost:8080/"
        },
        "id": "2ac81f26",
        "outputId": "6a8aa5f7-8b5e-4ee1-c5ad-18e51378928a"
      },
      "outputs": [
        {
          "output_type": "stream",
          "name": "stdout",
          "text": [
            "Graph with:\n",
            "\t Vertices:\n",
            "\tA,B,C,D,E,F,G,H,I,\n",
            "\t Edges:\n",
            "\t(A,(<__main__.Node object at 0x7a31aea4ba30>, 4)) (A,(<__main__.Node object at 0x7a31aea48550>, 8)) (B,(<__main__.Node object at 0x7a31aea4b910>, 4)) (B,(<__main__.Node object at 0x7a31aea48550>, 11)) (B,(<__main__.Node object at 0x7a31aea49b40>, 8)) (C,(<__main__.Node object at 0x7a31aea4ba30>, 8)) (C,(<__main__.Node object at 0x7a31aea494e0>, 7)) (C,(<__main__.Node object at 0x7a31aea49900>, 4)) (C,(<__main__.Node object at 0x7a31aea49570>, 2)) (D,(<__main__.Node object at 0x7a31aea49b40>, 7)) (D,(<__main__.Node object at 0x7a31aea48ca0>, 9)) (D,(<__main__.Node object at 0x7a31aea49900>, 14)) (E,(<__main__.Node object at 0x7a31aea494e0>, 9)) (E,(<__main__.Node object at 0x7a31aea49900>, 10)) (F,(<__main__.Node object at 0x7a31aea494e0>, 14)) (F,(<__main__.Node object at 0x7a31aea48ca0>, 10)) (F,(<__main__.Node object at 0x7a31aea49b40>, 4)) (F,(<__main__.Node object at 0x7a31aea48f70>, 2)) (G,(<__main__.Node object at 0x7a31aea49900>, 2)) (G,(<__main__.Node object at 0x7a31aea48550>, 1)) (G,(<__main__.Node object at 0x7a31aea49570>, 6)) (H,(<__main__.Node object at 0x7a31aea4b910>, 8)) (H,(<__main__.Node object at 0x7a31aea4ba30>, 11)) (H,(<__main__.Node object at 0x7a31aea48f70>, 1)) (H,(<__main__.Node object at 0x7a31aea49570>, 7)) (I,(<__main__.Node object at 0x7a31aea49b40>, 2)) (I,(<__main__.Node object at 0x7a31aea48f70>, 6)) (I,(<__main__.Node object at 0x7a31aea48550>, 7)) \n",
            "\n"
          ]
        }
      ],
      "source": [
        "print(G)"
      ]
    },
    {
      "cell_type": "markdown",
      "id": "10941ad1",
      "metadata": {
        "id": "10941ad1"
      },
      "source": [
        "This is what we had in the lectures as the slow implementation of Prim's Algorithm"
      ]
    },
    {
      "cell_type": "code",
      "execution_count": 52,
      "id": "c75594c0",
      "metadata": {
        "id": "c75594c0"
      },
      "outputs": [],
      "source": [
        "# G is graph\n",
        "# s is the node to start\n",
        "\n",
        "def slowPrim(G, s):\n",
        "\n",
        "    # first, find the lightest edge leaving s\n",
        "    bestWt = np.inf\n",
        "    bestu = None\n",
        "\n",
        "    for u,wt in s.getOutNeighborsWithWeights():\n",
        "\n",
        "        if wt < bestWt:\n",
        "            bestWt = wt\n",
        "            bestu = u\n",
        "\n",
        "    MST = [ (s, bestu) ]\n",
        "    verticesVisited = [s,bestu]\n",
        "\n",
        "    while len(verticesVisited) < len(G.vertices): # danger! this will loop forever if the graph isn't connected...\n",
        "\n",
        "        # find the lightest edge (x,v) so that x has been visited and v hasn't.\n",
        "        bestWt = np.inf\n",
        "        bestv = None\n",
        "        bestx = None\n",
        "\n",
        "        for x in verticesVisited:\n",
        "            for v,wt in x.getOutNeighborsWithWeights():\n",
        "\n",
        "                if v in verticesVisited:\n",
        "                    continue\n",
        "\n",
        "                if wt < bestWt:\n",
        "                    bestWt = wt\n",
        "                    bestv = v\n",
        "                    bestx = x\n",
        "\n",
        "        MST.append((bestx,bestv))\n",
        "        verticesVisited.append(bestv)\n",
        "\n",
        "    return MST"
      ]
    },
    {
      "cell_type": "code",
      "execution_count": 53,
      "id": "f6ff20d2",
      "metadata": {
        "colab": {
          "base_uri": "https://localhost:8080/"
        },
        "id": "f6ff20d2",
        "outputId": "3d0fed89-3eea-4b27-f7be-57291128d517"
      },
      "outputs": [
        {
          "output_type": "stream",
          "name": "stdout",
          "text": [
            "A B\n",
            "A H\n",
            "H G\n",
            "G F\n",
            "F C\n",
            "C I\n",
            "C D\n",
            "D E\n"
          ]
        }
      ],
      "source": [
        "T = slowPrim(G, G.vertices[0])\n",
        "\n",
        "for x,y in T:\n",
        "    print(x,y)"
      ]
    },
    {
      "cell_type": "markdown",
      "id": "3f2b31e2",
      "metadata": {
        "id": "3f2b31e2"
      },
      "source": [
        "Okay, it seems to be working fine, but as we discussed, will be quite slow. Let us see if we can work on the faster version of the code as:"
      ]
    },
    {
      "cell_type": "markdown",
      "id": "42212e3d",
      "metadata": {
        "id": "42212e3d"
      },
      "source": [
        "### <font color='red'> Activity 2: In lights of Prim's Algorithm above, write an efficient implementation based on our discussions in the Seminar/Lecture. </font>"
      ]
    },
    {
      "cell_type": "markdown",
      "source": [
        "## Prims Algorithm O(mlog(n))\n",
        "- Prim's algorithm is a greedy algorithm used to find the Minimum Spanning Tree (MST) of a connected, undirected graph.\n",
        "- The MST is a subset of the edges of the graph that forms a tree and includes all the vertices while minimizing the total edge weight.\n",
        "- Prim's algorithm starts with an initial vertex and grows the MST one vertex at a time by selecting the edge with the smallest weight that connects a vertex in the MST to a vertex outside the MST.\n",
        "---\n",
        "\n",
        "##### The algorithm (Prims) starts by initializing a key (distance) and parent for each vertex in the graph.\n",
        "- Make each node store a value (key) k[x]\n",
        "- Key makes decision to include node or not in Minimum spanning tree.\n",
        "\n",
        "The key is initially set to positive infinity to represent that the vertices are not yet in the MST.\n",
        "- The parent is initially set to None.\n",
        "- Initialise values (to infinity) for all nodes except root.\n",
        "  -  Store one more value for each vertex P[x] -> pointing to nearest node on minimum spanning tree.\n",
        "\n",
        "##### Setting the Key for the Starting Vertex:\n",
        "- The key of the starting vertex s is set to 0 to make it the first vertex in the MST.\n",
        "\n",
        "##### Empty MST/  Priority Queue:\n",
        "- An empty list MST is created to store the edges of the MST.\n",
        "- A priority_queue is initialized with the vertices of the graph.\n",
        "- The vertices are sorted based on their keys (initially all infinity), so the starting vertex s is at the top of the priority queue.\n",
        "\n",
        "##### Loop:\n",
        "- The algorithm enters a loop that continues until the priority queue is empty.\n",
        "- Each iteration of the loop, it extracts the vertex u with the smallest key from the priority queue.\n",
        "\n",
        "##### Adding Edges to MST:\n",
        "- If u has a parent (i.e., it's not the starting vertex), the edge (u.parent, u) is added to the MST.\n",
        "- The edge connects a vertex inside the MST to a vertex outside the MST.\n",
        "\n",
        "##### Updating Keys and Parents:\n",
        "- The algorithm then examines all neighbors v of vertex u and checks if the edge weight from u to v is smaller than the current key of v.\n",
        "  - If it is, the key of v is updated with the smaller weight, and the parent of v is set to u.\n",
        "  - Grows the MST by considering the smallest-weight edges that connect the MST to the remaining vertices.\n",
        "\n",
        "##### Updating Priority Queue:\n",
        "- After updating the keys and parents, the priority queue is adjusted to reflect the changes.\n",
        "- priority_queue ensures that the vertex with the smallest key is always at the front.\n",
        "- priority_queue empty, the algorithm has constructed the MST, and it returns the list of edges in the MST.\n",
        "\n",
        "##### Similar to Dijkstra’s algorithm!\n",
        "- Differences:\n",
        "1. Keep track of p[v] in order to return a tree at the end\n",
        "  - But Dijkstra’s can do that too, that’s not a big difference.\n",
        "2. Instead of d[v] which we update by\n",
        "  - d[v] = min( d[v], d[u] + w(u,v) )\n",
        "  - we keep k[v] which we update by\n",
        "  - k[v] = min( k[v], w(u,v) )"
      ],
      "metadata": {
        "id": "Ul6QjqL2rzhZ"
      },
      "id": "Ul6QjqL2rzhZ"
    },
    {
      "cell_type": "code",
      "execution_count": 54,
      "id": "e32585d1",
      "metadata": {
        "id": "e32585d1"
      },
      "outputs": [],
      "source": [
        "import heapq\n",
        "def prim(G, w):\n",
        "\n",
        "  # If graph empty or only one node\n",
        "  if not G.vertices or len(G.vertices) == 1:\n",
        "    return []\n",
        "\n",
        "  # Keys, parents for all vertices\n",
        "  for v in G.vertices:\n",
        "    v.key = np.inf\n",
        "    v.parent = None\n",
        "\n",
        "    # Starting vertex Key = 0\n",
        "    w.key = 0\n",
        "\n",
        "    # Empty MST\n",
        "    MST = []\n",
        "\n",
        "    # Priority queue (min-heap) for vertice keys\n",
        "    priority_queue = G.vertices.copy()\n",
        "    priority_queue.sort(key=lambda x: x.key)\n",
        "\n",
        "    while priority_queue:\n",
        "      # Find vertex smallest key, min distance\n",
        "      u = priority_queue.pop(0)\n",
        "\n",
        "      # If parent, add edge (u.parent, u) to the MST\n",
        "      if u.parent is not None:\n",
        "        MST.append((u.parent, u))\n",
        "\n",
        "      # Update keys, parents of u's neighbors\n",
        "      for v, wt in u.outNeighbors:\n",
        "        if v in priority_queue and wt < v.key:\n",
        "          v.key = wt\n",
        "          v.parent = u\n",
        "\n",
        "          # Update position of v in queue\n",
        "          priority_queue.sort(key=lambda x: x.key)\n",
        "\n",
        "    return MST"
      ]
    },
    {
      "cell_type": "markdown",
      "source": [
        "## Test Cases\n",
        "- Simple Graph\n",
        "- Empty Graph\n",
        "- Single Vertex\n",
        "- Disconnected Sections\n",
        "- Graph Negative Weights\n",
        "- Graph Duplicate Weights\n",
        "- Graph Cycle\n",
        "- Complex Graph\n",
        "- Time Comparison"
      ],
      "metadata": {
        "id": "JM2bV4PAIhnc"
      },
      "id": "JM2bV4PAIhnc"
    },
    {
      "cell_type": "code",
      "source": [
        "# Simple Graph\n",
        "G1 = Graph()\n",
        "\n",
        "for i in ['A', 'B', 'C', 'D']:\n",
        "  G1.addVertex(Node(i))\n",
        "\n",
        "V_cycle = G1.vertices\n",
        "G1.addDiEdge(V_cycle[0], V_cycle[1], 2)\n",
        "G1.addDiEdge(V_cycle[0], V_cycle[2], 10)\n",
        "G1.addDiEdge(V_cycle[1], V_cycle[2], 3)\n",
        "G1.addDiEdge(V_cycle[1], V_cycle[3], 4)\n",
        "\n",
        "MST = prim(G1, G1.vertices[0]) # Prim\n",
        "\n",
        "# Print MST\n",
        "print(\"Simple Graph Test\")\n",
        "for edge in MST:\n",
        "  print(f\"{edge[0].value} - {edge[1].value}\")\n",
        "print()\n",
        "\n",
        "# Visual Graph\n",
        "dot = Digraph()\n",
        "\n",
        "# Add edges to Graph\n",
        "dot.edge('A', 'B', label='2')\n",
        "dot.edge('A', 'C', label='10')\n",
        "dot.edge('B', 'C', label='3')\n",
        "dot.edge('B', 'D', label='4')\n",
        "\n",
        "dot"
      ],
      "metadata": {
        "colab": {
          "base_uri": "https://localhost:8080/",
          "height": 399
        },
        "id": "mm0PL1cW5gdk",
        "outputId": "221f4747-dc3a-48de-e5d5-b49c65ebc200"
      },
      "id": "mm0PL1cW5gdk",
      "execution_count": 71,
      "outputs": [
        {
          "output_type": "stream",
          "name": "stdout",
          "text": [
            "Simple Graph Test\n",
            "A - B\n",
            "B - C\n",
            "B - D\n",
            "\n"
          ]
        },
        {
          "output_type": "execute_result",
          "data": {
            "image/svg+xml": "<?xml version=\"1.0\" encoding=\"UTF-8\" standalone=\"no\"?>\n<!DOCTYPE svg PUBLIC \"-//W3C//DTD SVG 1.1//EN\"\n \"http://www.w3.org/Graphics/SVG/1.1/DTD/svg11.dtd\">\n<!-- Generated by graphviz version 2.43.0 (0)\n -->\n<!-- Title: %3 Pages: 1 -->\n<svg width=\"134pt\" height=\"218pt\"\n viewBox=\"0.00 0.00 134.00 218.00\" xmlns=\"http://www.w3.org/2000/svg\" xmlns:xlink=\"http://www.w3.org/1999/xlink\">\n<g id=\"graph0\" class=\"graph\" transform=\"scale(1 1) rotate(0) translate(4 214)\">\n<title>%3</title>\n<polygon fill=\"white\" stroke=\"transparent\" points=\"-4,4 -4,-214 130,-214 130,4 -4,4\"/>\n<!-- A -->\n<g id=\"node1\" class=\"node\">\n<title>A</title>\n<ellipse fill=\"none\" stroke=\"black\" cx=\"68\" cy=\"-192\" rx=\"27\" ry=\"18\"/>\n<text text-anchor=\"middle\" x=\"68\" y=\"-188.3\" font-family=\"Times,serif\" font-size=\"14.00\">A</text>\n</g>\n<!-- B -->\n<g id=\"node2\" class=\"node\">\n<title>B</title>\n<ellipse fill=\"none\" stroke=\"black\" cx=\"36\" cy=\"-105\" rx=\"27\" ry=\"18\"/>\n<text text-anchor=\"middle\" x=\"36\" y=\"-101.3\" font-family=\"Times,serif\" font-size=\"14.00\">B</text>\n</g>\n<!-- A&#45;&gt;B -->\n<g id=\"edge1\" class=\"edge\">\n<title>A&#45;&gt;B</title>\n<path fill=\"none\" stroke=\"black\" d=\"M61.68,-174.21C57.16,-162.22 51,-145.85 45.85,-132.16\"/>\n<polygon fill=\"black\" stroke=\"black\" points=\"49.11,-130.88 42.31,-122.76 42.56,-133.35 49.11,-130.88\"/>\n<text text-anchor=\"middle\" x=\"56.5\" y=\"-144.8\" font-family=\"Times,serif\" font-size=\"14.00\">2</text>\n</g>\n<!-- C -->\n<g id=\"node3\" class=\"node\">\n<title>C</title>\n<ellipse fill=\"none\" stroke=\"black\" cx=\"99\" cy=\"-18\" rx=\"27\" ry=\"18\"/>\n<text text-anchor=\"middle\" x=\"99\" y=\"-14.3\" font-family=\"Times,serif\" font-size=\"14.00\">C</text>\n</g>\n<!-- A&#45;&gt;C -->\n<g id=\"edge2\" class=\"edge\">\n<title>A&#45;&gt;C</title>\n<path fill=\"none\" stroke=\"black\" d=\"M71.09,-173.88C76.47,-144 87.63,-82.11 94.08,-46.27\"/>\n<polygon fill=\"black\" stroke=\"black\" points=\"97.6,-46.51 95.93,-36.05 90.71,-45.27 97.6,-46.51\"/>\n<text text-anchor=\"middle\" x=\"93\" y=\"-101.3\" font-family=\"Times,serif\" font-size=\"14.00\">10</text>\n</g>\n<!-- B&#45;&gt;C -->\n<g id=\"edge3\" class=\"edge\">\n<title>B&#45;&gt;C</title>\n<path fill=\"none\" stroke=\"black\" d=\"M47.56,-88.41C57.06,-75.59 70.67,-57.22 81.51,-42.6\"/>\n<polygon fill=\"black\" stroke=\"black\" points=\"84.38,-44.61 87.52,-34.49 78.75,-40.44 84.38,-44.61\"/>\n<text text-anchor=\"middle\" x=\"74.5\" y=\"-57.8\" font-family=\"Times,serif\" font-size=\"14.00\">3</text>\n</g>\n<!-- D -->\n<g id=\"node4\" class=\"node\">\n<title>D</title>\n<ellipse fill=\"none\" stroke=\"black\" cx=\"27\" cy=\"-18\" rx=\"27\" ry=\"18\"/>\n<text text-anchor=\"middle\" x=\"27\" y=\"-14.3\" font-family=\"Times,serif\" font-size=\"14.00\">D</text>\n</g>\n<!-- B&#45;&gt;D -->\n<g id=\"edge4\" class=\"edge\">\n<title>B&#45;&gt;D</title>\n<path fill=\"none\" stroke=\"black\" d=\"M34.18,-86.8C32.95,-75.16 31.29,-59.55 29.88,-46.24\"/>\n<polygon fill=\"black\" stroke=\"black\" points=\"33.35,-45.75 28.82,-36.18 26.39,-46.49 33.35,-45.75\"/>\n<text text-anchor=\"middle\" x=\"35.5\" y=\"-57.8\" font-family=\"Times,serif\" font-size=\"14.00\">4</text>\n</g>\n</g>\n</svg>\n",
            "text/plain": [
              "<graphviz.graphs.Digraph at 0x7a31aea48190>"
            ]
          },
          "metadata": {},
          "execution_count": 71
        }
      ]
    },
    {
      "cell_type": "code",
      "source": [
        "# Empty Graph\n",
        "G2 = Graph()\n",
        "\n",
        "MST = prim(G2, None) # Prim\n",
        "\n",
        "# Print MST\n",
        "print(\"Empty Graph Test\")\n",
        "print(MST)\n",
        "print()"
      ],
      "metadata": {
        "colab": {
          "base_uri": "https://localhost:8080/"
        },
        "id": "tIAjnPRzhWjQ",
        "outputId": "099f5542-e462-4438-d6e6-f5fdf17e9a0e"
      },
      "id": "tIAjnPRzhWjQ",
      "execution_count": 56,
      "outputs": [
        {
          "output_type": "stream",
          "name": "stdout",
          "text": [
            "Empty Graph Test\n",
            "[]\n",
            "\n"
          ]
        }
      ]
    },
    {
      "cell_type": "code",
      "source": [
        "# Single vertex\n",
        "G3 = Graph()\n",
        "A = Node(\"A\")\n",
        "\n",
        "G3.addVertex(A)\n",
        "MST = prim(G3, A) # Prim\n",
        "\n",
        "# Print MST\n",
        "print(\"Single Vertex Test\")\n",
        "print(MST)\n",
        "print()"
      ],
      "metadata": {
        "colab": {
          "base_uri": "https://localhost:8080/"
        },
        "id": "DHmHvwFUhtak",
        "outputId": "851d96f3-8fb6-4dd5-fe8d-4f0894b5927e"
      },
      "id": "DHmHvwFUhtak",
      "execution_count": 57,
      "outputs": [
        {
          "output_type": "stream",
          "name": "stdout",
          "text": [
            "Single Vertex Test\n",
            "[]\n",
            "\n"
          ]
        }
      ]
    },
    {
      "cell_type": "code",
      "source": [
        "# Disconnected Sections\n",
        "G4 = Graph()\n",
        "\n",
        "# Create two disconnected sections\n",
        "section1 = [Node('A'), Node('B'), Node('C')]\n",
        "section2 = [Node('D'), Node('E')]\n",
        "\n",
        "for node in section1:\n",
        "  G4.addVertex(node)\n",
        "for node in section2:\n",
        "  G4.addVertex(node)\n",
        "\n",
        "# Connect nodes each section\n",
        "G4.addDiEdge(section1[0], section1[1], 1)\n",
        "G4.addDiEdge(section1[1], section1[2], -3)\n",
        "G4.addDiEdge(section1[0], section1[2], 0)\n",
        "G4.addDiEdge(section2[0], section2[1], 2)\n",
        "\n",
        "MST = prim(G4, G4.vertices[0]) # Prim\n",
        "\n",
        "# Print MST\n",
        "print(\"Disconnected Components Test \")\n",
        "for edge in MST:\n",
        "  print(f\"{edge[0].value} - {edge[1].value}\")\n",
        "print()\n",
        "\n",
        "# Visual Graph\n",
        "dot = Digraph()\n",
        "\n",
        "# Add edges to Graph\n",
        "dot.edge('A', 'B', label='1')\n",
        "dot.edge('B', 'C', label='-3')\n",
        "\n",
        "dot.edge('D', 'E', label='2')\n",
        "\n",
        "dot"
      ],
      "metadata": {
        "colab": {
          "base_uri": "https://localhost:8080/",
          "height": 399
        },
        "id": "MVXk8FGLiDGO",
        "outputId": "fb246dd5-b008-4dab-d0da-3420cb22736c"
      },
      "id": "MVXk8FGLiDGO",
      "execution_count": 58,
      "outputs": [
        {
          "output_type": "stream",
          "name": "stdout",
          "text": [
            "Disconnected Components Test \n",
            "A - C\n",
            "A - B\n",
            "D - E\n",
            "\n"
          ]
        },
        {
          "output_type": "execute_result",
          "data": {
            "image/svg+xml": "<?xml version=\"1.0\" encoding=\"UTF-8\" standalone=\"no\"?>\n<!DOCTYPE svg PUBLIC \"-//W3C//DTD SVG 1.1//EN\"\n \"http://www.w3.org/Graphics/SVG/1.1/DTD/svg11.dtd\">\n<!-- Generated by graphviz version 2.43.0 (0)\n -->\n<!-- Title: %3 Pages: 1 -->\n<svg width=\"134pt\" height=\"218pt\"\n viewBox=\"0.00 0.00 134.00 218.00\" xmlns=\"http://www.w3.org/2000/svg\" xmlns:xlink=\"http://www.w3.org/1999/xlink\">\n<g id=\"graph0\" class=\"graph\" transform=\"scale(1 1) rotate(0) translate(4 214)\">\n<title>%3</title>\n<polygon fill=\"white\" stroke=\"transparent\" points=\"-4,4 -4,-214 130,-214 130,4 -4,4\"/>\n<!-- A -->\n<g id=\"node1\" class=\"node\">\n<title>A</title>\n<ellipse fill=\"none\" stroke=\"black\" cx=\"27\" cy=\"-192\" rx=\"27\" ry=\"18\"/>\n<text text-anchor=\"middle\" x=\"27\" y=\"-188.3\" font-family=\"Times,serif\" font-size=\"14.00\">A</text>\n</g>\n<!-- B -->\n<g id=\"node2\" class=\"node\">\n<title>B</title>\n<ellipse fill=\"none\" stroke=\"black\" cx=\"27\" cy=\"-105\" rx=\"27\" ry=\"18\"/>\n<text text-anchor=\"middle\" x=\"27\" y=\"-101.3\" font-family=\"Times,serif\" font-size=\"14.00\">B</text>\n</g>\n<!-- A&#45;&gt;B -->\n<g id=\"edge1\" class=\"edge\">\n<title>A&#45;&gt;B</title>\n<path fill=\"none\" stroke=\"black\" d=\"M27,-173.8C27,-162.16 27,-146.55 27,-133.24\"/>\n<polygon fill=\"black\" stroke=\"black\" points=\"30.5,-133.18 27,-123.18 23.5,-133.18 30.5,-133.18\"/>\n<text text-anchor=\"middle\" x=\"30.5\" y=\"-144.8\" font-family=\"Times,serif\" font-size=\"14.00\">1</text>\n</g>\n<!-- C -->\n<g id=\"node3\" class=\"node\">\n<title>C</title>\n<ellipse fill=\"none\" stroke=\"black\" cx=\"27\" cy=\"-18\" rx=\"27\" ry=\"18\"/>\n<text text-anchor=\"middle\" x=\"27\" y=\"-14.3\" font-family=\"Times,serif\" font-size=\"14.00\">C</text>\n</g>\n<!-- B&#45;&gt;C -->\n<g id=\"edge2\" class=\"edge\">\n<title>B&#45;&gt;C</title>\n<path fill=\"none\" stroke=\"black\" d=\"M27,-86.8C27,-75.16 27,-59.55 27,-46.24\"/>\n<polygon fill=\"black\" stroke=\"black\" points=\"30.5,-46.18 27,-36.18 23.5,-46.18 30.5,-46.18\"/>\n<text text-anchor=\"middle\" x=\"33\" y=\"-57.8\" font-family=\"Times,serif\" font-size=\"14.00\">&#45;3</text>\n</g>\n<!-- D -->\n<g id=\"node4\" class=\"node\">\n<title>D</title>\n<ellipse fill=\"none\" stroke=\"black\" cx=\"99\" cy=\"-192\" rx=\"27\" ry=\"18\"/>\n<text text-anchor=\"middle\" x=\"99\" y=\"-188.3\" font-family=\"Times,serif\" font-size=\"14.00\">D</text>\n</g>\n<!-- E -->\n<g id=\"node5\" class=\"node\">\n<title>E</title>\n<ellipse fill=\"none\" stroke=\"black\" cx=\"99\" cy=\"-105\" rx=\"27\" ry=\"18\"/>\n<text text-anchor=\"middle\" x=\"99\" y=\"-101.3\" font-family=\"Times,serif\" font-size=\"14.00\">E</text>\n</g>\n<!-- D&#45;&gt;E -->\n<g id=\"edge3\" class=\"edge\">\n<title>D&#45;&gt;E</title>\n<path fill=\"none\" stroke=\"black\" d=\"M99,-173.8C99,-162.16 99,-146.55 99,-133.24\"/>\n<polygon fill=\"black\" stroke=\"black\" points=\"102.5,-133.18 99,-123.18 95.5,-133.18 102.5,-133.18\"/>\n<text text-anchor=\"middle\" x=\"102.5\" y=\"-144.8\" font-family=\"Times,serif\" font-size=\"14.00\">2</text>\n</g>\n</g>\n</svg>\n",
            "text/plain": [
              "<graphviz.graphs.Digraph at 0x7a31aea49ff0>"
            ]
          },
          "metadata": {},
          "execution_count": 58
        }
      ]
    },
    {
      "cell_type": "code",
      "source": [
        "# Graph negative weights\n",
        "G5 = Graph()\n",
        "\n",
        "for i in ['A', 'B', 'C']:\n",
        "  G5.addVertex(Node(i))\n",
        "\n",
        "V_cycle = G5.vertices\n",
        "G5.addDiEdge(V_cycle[0], V_cycle[1], 1)\n",
        "G5.addDiEdge(V_cycle[1], V_cycle[2], -3)\n",
        "G5.addDiEdge(V_cycle[0], V_cycle[2], -2)\n",
        "\n",
        "MST = prim(G5, G5.vertices[0]) # Prim\n",
        "\n",
        "# Print MST\n",
        "print(\"Graph with Negative Weights Test \")\n",
        "for edge in MST:\n",
        "  print(f\"{edge[0].value} - {edge[1].value}\")\n",
        "print()\n",
        "\n",
        "# Visual Graph\n",
        "dot = Digraph()\n",
        "\n",
        "# Add edges to Graph\n",
        "dot.edge('A', 'B', label='1')\n",
        "dot.edge('A', 'C', label='-3')\n",
        "dot.edge('B', 'C', label='-2')\n",
        "\n",
        "dot"
      ],
      "metadata": {
        "colab": {
          "base_uri": "https://localhost:8080/",
          "height": 381
        },
        "id": "O9DAmGzliGnN",
        "outputId": "510d0012-e57b-4f11-b22d-7846e1bf4fdc"
      },
      "id": "O9DAmGzliGnN",
      "execution_count": 59,
      "outputs": [
        {
          "output_type": "stream",
          "name": "stdout",
          "text": [
            "Graph with Negative Weights Test \n",
            "A - C\n",
            "A - B\n",
            "\n"
          ]
        },
        {
          "output_type": "execute_result",
          "data": {
            "image/svg+xml": "<?xml version=\"1.0\" encoding=\"UTF-8\" standalone=\"no\"?>\n<!DOCTYPE svg PUBLIC \"-//W3C//DTD SVG 1.1//EN\"\n \"http://www.w3.org/Graphics/SVG/1.1/DTD/svg11.dtd\">\n<!-- Generated by graphviz version 2.43.0 (0)\n -->\n<!-- Title: %3 Pages: 1 -->\n<svg width=\"109pt\" height=\"218pt\"\n viewBox=\"0.00 0.00 109.00 218.00\" xmlns=\"http://www.w3.org/2000/svg\" xmlns:xlink=\"http://www.w3.org/1999/xlink\">\n<g id=\"graph0\" class=\"graph\" transform=\"scale(1 1) rotate(0) translate(4 214)\">\n<title>%3</title>\n<polygon fill=\"white\" stroke=\"transparent\" points=\"-4,4 -4,-214 105,-214 105,4 -4,4\"/>\n<!-- A -->\n<g id=\"node1\" class=\"node\">\n<title>A</title>\n<ellipse fill=\"none\" stroke=\"black\" cx=\"74\" cy=\"-192\" rx=\"27\" ry=\"18\"/>\n<text text-anchor=\"middle\" x=\"74\" y=\"-188.3\" font-family=\"Times,serif\" font-size=\"14.00\">A</text>\n</g>\n<!-- B -->\n<g id=\"node2\" class=\"node\">\n<title>B</title>\n<ellipse fill=\"none\" stroke=\"black\" cx=\"27\" cy=\"-105\" rx=\"27\" ry=\"18\"/>\n<text text-anchor=\"middle\" x=\"27\" y=\"-101.3\" font-family=\"Times,serif\" font-size=\"14.00\">B</text>\n</g>\n<!-- A&#45;&gt;B -->\n<g id=\"edge1\" class=\"edge\">\n<title>A&#45;&gt;B</title>\n<path fill=\"none\" stroke=\"black\" d=\"M64.94,-174.61C58.13,-162.3 48.69,-145.23 40.93,-131.19\"/>\n<polygon fill=\"black\" stroke=\"black\" points=\"43.78,-129.11 35.87,-122.05 37.65,-132.5 43.78,-129.11\"/>\n<text text-anchor=\"middle\" x=\"57.5\" y=\"-144.8\" font-family=\"Times,serif\" font-size=\"14.00\">1</text>\n</g>\n<!-- C -->\n<g id=\"node3\" class=\"node\">\n<title>C</title>\n<ellipse fill=\"none\" stroke=\"black\" cx=\"58\" cy=\"-18\" rx=\"27\" ry=\"18\"/>\n<text text-anchor=\"middle\" x=\"58\" y=\"-14.3\" font-family=\"Times,serif\" font-size=\"14.00\">C</text>\n</g>\n<!-- A&#45;&gt;C -->\n<g id=\"edge2\" class=\"edge\">\n<title>A&#45;&gt;C</title>\n<path fill=\"none\" stroke=\"black\" d=\"M72.41,-173.88C69.63,-144 63.87,-82.11 60.54,-46.27\"/>\n<polygon fill=\"black\" stroke=\"black\" points=\"64,-45.68 59.59,-36.05 57.03,-46.33 64,-45.68\"/>\n<text text-anchor=\"middle\" x=\"74\" y=\"-101.3\" font-family=\"Times,serif\" font-size=\"14.00\">&#45;3</text>\n</g>\n<!-- B&#45;&gt;C -->\n<g id=\"edge3\" class=\"edge\">\n<title>B&#45;&gt;C</title>\n<path fill=\"none\" stroke=\"black\" d=\"M33.12,-87.21C37.5,-75.22 43.47,-58.85 48.46,-45.16\"/>\n<polygon fill=\"black\" stroke=\"black\" points=\"51.75,-46.35 51.89,-35.76 45.17,-43.95 51.75,-46.35\"/>\n<text text-anchor=\"middle\" x=\"51\" y=\"-57.8\" font-family=\"Times,serif\" font-size=\"14.00\">&#45;2</text>\n</g>\n</g>\n</svg>\n",
            "text/plain": [
              "<graphviz.graphs.Digraph at 0x7a31aea4bee0>"
            ]
          },
          "metadata": {},
          "execution_count": 59
        }
      ]
    },
    {
      "cell_type": "code",
      "source": [
        "#Graph Cycle\n",
        "G6 = Graph()\n",
        "\n",
        "for i in ['A', 'B', 'C']:\n",
        "  G6 .addVertex(Node(i))\n",
        "\n",
        "V_cycle = G6.vertices\n",
        "G6.addDiEdge(V_cycle[0], V_cycle[1], 1)\n",
        "G6.addDiEdge(V_cycle[1], V_cycle[2], 2)\n",
        "G6.addDiEdge(V_cycle[2], V_cycle[0], 3)\n",
        "\n",
        "MST = prim(G6, G6.vertices[0]) # Prim\n",
        "\n",
        "# Print MST\n",
        "print(\"Graph with Negative Weights Test \")\n",
        "for edge in MST:\n",
        "  print(f\"{edge[0].value} - {edge[1].value}\")\n",
        "print()\n",
        "\n",
        "# Visual Graph\n",
        "dot = Digraph()\n",
        "\n",
        "# Add edges to Graph\n",
        "dot.edge('A', 'B', label='1')\n",
        "dot.edge('B', 'C', label='2')\n",
        "dot.edge('C', 'A', label='3')\n",
        "\n",
        "dot"
      ],
      "metadata": {
        "colab": {
          "base_uri": "https://localhost:8080/",
          "height": 381
        },
        "id": "PwFOH0WFq2NW",
        "outputId": "3e1055cb-3fae-4dfe-c0f5-8348db11481f"
      },
      "id": "PwFOH0WFq2NW",
      "execution_count": 60,
      "outputs": [
        {
          "output_type": "stream",
          "name": "stdout",
          "text": [
            "Graph with Negative Weights Test \n",
            "A - B\n",
            "B - C\n",
            "\n"
          ]
        },
        {
          "output_type": "execute_result",
          "data": {
            "image/svg+xml": "<?xml version=\"1.0\" encoding=\"UTF-8\" standalone=\"no\"?>\n<!DOCTYPE svg PUBLIC \"-//W3C//DTD SVG 1.1//EN\"\n \"http://www.w3.org/Graphics/SVG/1.1/DTD/svg11.dtd\">\n<!-- Generated by graphviz version 2.43.0 (0)\n -->\n<!-- Title: %3 Pages: 1 -->\n<svg width=\"109pt\" height=\"218pt\"\n viewBox=\"0.00 0.00 109.00 218.00\" xmlns=\"http://www.w3.org/2000/svg\" xmlns:xlink=\"http://www.w3.org/1999/xlink\">\n<g id=\"graph0\" class=\"graph\" transform=\"scale(1 1) rotate(0) translate(4 214)\">\n<title>%3</title>\n<polygon fill=\"white\" stroke=\"transparent\" points=\"-4,4 -4,-214 105,-214 105,4 -4,4\"/>\n<!-- A -->\n<g id=\"node1\" class=\"node\">\n<title>A</title>\n<ellipse fill=\"none\" stroke=\"black\" cx=\"74\" cy=\"-192\" rx=\"27\" ry=\"18\"/>\n<text text-anchor=\"middle\" x=\"74\" y=\"-188.3\" font-family=\"Times,serif\" font-size=\"14.00\">A</text>\n</g>\n<!-- B -->\n<g id=\"node2\" class=\"node\">\n<title>B</title>\n<ellipse fill=\"none\" stroke=\"black\" cx=\"27\" cy=\"-105\" rx=\"27\" ry=\"18\"/>\n<text text-anchor=\"middle\" x=\"27\" y=\"-101.3\" font-family=\"Times,serif\" font-size=\"14.00\">B</text>\n</g>\n<!-- A&#45;&gt;B -->\n<g id=\"edge1\" class=\"edge\">\n<title>A&#45;&gt;B</title>\n<path fill=\"none\" stroke=\"black\" d=\"M64.94,-174.61C58.13,-162.3 48.69,-145.23 40.93,-131.19\"/>\n<polygon fill=\"black\" stroke=\"black\" points=\"43.78,-129.11 35.87,-122.05 37.65,-132.5 43.78,-129.11\"/>\n<text text-anchor=\"middle\" x=\"57.5\" y=\"-144.8\" font-family=\"Times,serif\" font-size=\"14.00\">1</text>\n</g>\n<!-- C -->\n<g id=\"node3\" class=\"node\">\n<title>C</title>\n<ellipse fill=\"none\" stroke=\"black\" cx=\"59\" cy=\"-18\" rx=\"27\" ry=\"18\"/>\n<text text-anchor=\"middle\" x=\"59\" y=\"-14.3\" font-family=\"Times,serif\" font-size=\"14.00\">C</text>\n</g>\n<!-- B&#45;&gt;C -->\n<g id=\"edge2\" class=\"edge\">\n<title>B&#45;&gt;C</title>\n<path fill=\"none\" stroke=\"black\" d=\"M33.32,-87.21C37.84,-75.22 44,-58.85 49.15,-45.16\"/>\n<polygon fill=\"black\" stroke=\"black\" points=\"52.44,-46.35 52.69,-35.76 45.89,-43.88 52.44,-46.35\"/>\n<text text-anchor=\"middle\" x=\"48.5\" y=\"-57.8\" font-family=\"Times,serif\" font-size=\"14.00\">2</text>\n</g>\n<!-- C&#45;&gt;A -->\n<g id=\"edge3\" class=\"edge\">\n<title>C&#45;&gt;A</title>\n<path fill=\"none\" stroke=\"black\" d=\"M60.49,-36.05C63.09,-65.88 68.49,-127.76 71.61,-163.64\"/>\n<polygon fill=\"black\" stroke=\"black\" points=\"68.15,-164.22 72.51,-173.88 75.12,-163.61 68.15,-164.22\"/>\n<text text-anchor=\"middle\" x=\"71.5\" y=\"-101.3\" font-family=\"Times,serif\" font-size=\"14.00\">3</text>\n</g>\n</g>\n</svg>\n",
            "text/plain": [
              "<graphviz.graphs.Digraph at 0x7a31aea4b6a0>"
            ]
          },
          "metadata": {},
          "execution_count": 60
        }
      ]
    },
    {
      "cell_type": "code",
      "source": [
        "# Complex Graph\n",
        "G7 = Graph()\n",
        "\n",
        "for i in ['A', 'B', 'C', 'D']:\n",
        "  G7.addVertex(Node(i))\n",
        "\n",
        "V_cycle = G7.vertices\n",
        "G7.addDiEdge(V_cycle[0], V_cycle[1], 3)\n",
        "G7.addDiEdge(V_cycle[0], V_cycle[2], 4)\n",
        "G7.addDiEdge(V_cycle[1], V_cycle[2], 2)\n",
        "G7.addDiEdge(V_cycle[1], V_cycle[3], 4)\n",
        "G7.addDiEdge(V_cycle[2], V_cycle[3], 2)\n",
        "\n",
        "MST = prim(G7, G7.vertices[0]) # Prim\n",
        "\n",
        "# Print MST\n",
        "print(\"Large Graph Test \")\n",
        "for edge in MST:\n",
        "  print(f\"{edge[0].value} - {edge[1].value}\")\n",
        "print()\n",
        "\n",
        "# Visual Graph\n",
        "dot = Digraph()\n",
        "\n",
        "# Add edges to Graph\n",
        "dot.edge('A', 'B', label='3')\n",
        "dot.edge('A', 'C', label='4')\n",
        "dot.edge('B', 'C', label='2')\n",
        "dot.edge('B', 'D', label='4')\n",
        "dot.edge('C', 'D', label='2')\n",
        "dot"
      ],
      "metadata": {
        "colab": {
          "base_uri": "https://localhost:8080/",
          "height": 515
        },
        "id": "xavafRf9ozTU",
        "outputId": "2f44d1a5-f4fd-4258-d4fe-49f002b58b9f"
      },
      "id": "xavafRf9ozTU",
      "execution_count": 69,
      "outputs": [
        {
          "output_type": "stream",
          "name": "stdout",
          "text": [
            "Large Graph Test \n",
            "A - B\n",
            "B - C\n",
            "C - D\n",
            "\n"
          ]
        },
        {
          "output_type": "execute_result",
          "data": {
            "image/svg+xml": "<?xml version=\"1.0\" encoding=\"UTF-8\" standalone=\"no\"?>\n<!DOCTYPE svg PUBLIC \"-//W3C//DTD SVG 1.1//EN\"\n \"http://www.w3.org/Graphics/SVG/1.1/DTD/svg11.dtd\">\n<!-- Generated by graphviz version 2.43.0 (0)\n -->\n<!-- Title: %3 Pages: 1 -->\n<svg width=\"114pt\" height=\"305pt\"\n viewBox=\"0.00 0.00 114.00 305.00\" xmlns=\"http://www.w3.org/2000/svg\" xmlns:xlink=\"http://www.w3.org/1999/xlink\">\n<g id=\"graph0\" class=\"graph\" transform=\"scale(1 1) rotate(0) translate(4 301)\">\n<title>%3</title>\n<polygon fill=\"white\" stroke=\"transparent\" points=\"-4,4 -4,-301 110,-301 110,4 -4,4\"/>\n<!-- A -->\n<g id=\"node1\" class=\"node\">\n<title>A</title>\n<ellipse fill=\"none\" stroke=\"black\" cx=\"74\" cy=\"-279\" rx=\"27\" ry=\"18\"/>\n<text text-anchor=\"middle\" x=\"74\" y=\"-275.3\" font-family=\"Times,serif\" font-size=\"14.00\">A</text>\n</g>\n<!-- B -->\n<g id=\"node2\" class=\"node\">\n<title>B</title>\n<ellipse fill=\"none\" stroke=\"black\" cx=\"27\" cy=\"-192\" rx=\"27\" ry=\"18\"/>\n<text text-anchor=\"middle\" x=\"27\" y=\"-188.3\" font-family=\"Times,serif\" font-size=\"14.00\">B</text>\n</g>\n<!-- A&#45;&gt;B -->\n<g id=\"edge1\" class=\"edge\">\n<title>A&#45;&gt;B</title>\n<path fill=\"none\" stroke=\"black\" d=\"M64.94,-261.61C58.13,-249.3 48.69,-232.23 40.93,-218.19\"/>\n<polygon fill=\"black\" stroke=\"black\" points=\"43.78,-216.11 35.87,-209.05 37.65,-219.5 43.78,-216.11\"/>\n<text text-anchor=\"middle\" x=\"57.5\" y=\"-231.8\" font-family=\"Times,serif\" font-size=\"14.00\">3</text>\n</g>\n<!-- C -->\n<g id=\"node3\" class=\"node\">\n<title>C</title>\n<ellipse fill=\"none\" stroke=\"black\" cx=\"79\" cy=\"-105\" rx=\"27\" ry=\"18\"/>\n<text text-anchor=\"middle\" x=\"79\" y=\"-101.3\" font-family=\"Times,serif\" font-size=\"14.00\">C</text>\n</g>\n<!-- A&#45;&gt;C -->\n<g id=\"edge2\" class=\"edge\">\n<title>A&#45;&gt;C</title>\n<path fill=\"none\" stroke=\"black\" d=\"M74.5,-260.88C75.37,-231 77.17,-169.11 78.21,-133.27\"/>\n<polygon fill=\"black\" stroke=\"black\" points=\"81.71,-133.15 78.5,-123.05 74.72,-132.95 81.71,-133.15\"/>\n<text text-anchor=\"middle\" x=\"79.5\" y=\"-188.3\" font-family=\"Times,serif\" font-size=\"14.00\">4</text>\n</g>\n<!-- B&#45;&gt;C -->\n<g id=\"edge3\" class=\"edge\">\n<title>B&#45;&gt;C</title>\n<path fill=\"none\" stroke=\"black\" d=\"M36.78,-175.01C44.41,-162.55 55.13,-145.01 63.87,-130.74\"/>\n<polygon fill=\"black\" stroke=\"black\" points=\"67.03,-132.27 69.26,-121.92 61.06,-128.62 67.03,-132.27\"/>\n<text text-anchor=\"middle\" x=\"60.5\" y=\"-144.8\" font-family=\"Times,serif\" font-size=\"14.00\">2</text>\n</g>\n<!-- D -->\n<g id=\"node4\" class=\"node\">\n<title>D</title>\n<ellipse fill=\"none\" stroke=\"black\" cx=\"43\" cy=\"-18\" rx=\"27\" ry=\"18\"/>\n<text text-anchor=\"middle\" x=\"43\" y=\"-14.3\" font-family=\"Times,serif\" font-size=\"14.00\">D</text>\n</g>\n<!-- B&#45;&gt;D -->\n<g id=\"edge4\" class=\"edge\">\n<title>B&#45;&gt;D</title>\n<path fill=\"none\" stroke=\"black\" d=\"M28.41,-173.69C30.11,-153.05 33.11,-117.49 36,-87 37.27,-73.57 38.8,-58.65 40.1,-46.22\"/>\n<polygon fill=\"black\" stroke=\"black\" points=\"43.6,-46.35 41.17,-36.04 36.64,-45.62 43.6,-46.35\"/>\n<text text-anchor=\"middle\" x=\"39.5\" y=\"-101.3\" font-family=\"Times,serif\" font-size=\"14.00\">4</text>\n</g>\n<!-- C&#45;&gt;D -->\n<g id=\"edge5\" class=\"edge\">\n<title>C&#45;&gt;D</title>\n<path fill=\"none\" stroke=\"black\" d=\"M71.89,-87.21C66.78,-75.14 59.79,-58.64 53.97,-44.89\"/>\n<polygon fill=\"black\" stroke=\"black\" points=\"57.1,-43.31 49.98,-35.47 50.65,-46.04 57.1,-43.31\"/>\n<text text-anchor=\"middle\" x=\"67.5\" y=\"-57.8\" font-family=\"Times,serif\" font-size=\"14.00\">2</text>\n</g>\n</g>\n</svg>\n",
            "text/plain": [
              "<graphviz.graphs.Digraph at 0x7a31ae998af0>"
            ]
          },
          "metadata": {},
          "execution_count": 69
        }
      ]
    },
    {
      "cell_type": "markdown",
      "source": [
        "## Time Comparison slowPrim and Prim (Priority Queue)\n",
        "- Both algorithms find MST (A - C, A - B)\n",
        "- slowPrim is slower in finding MST then prim algorithm.\n",
        "- Prim algorithm is more efficient then slowPrim in this case, a larger graph would show a greater time distance."
      ],
      "metadata": {
        "id": "SKkHEWRff3VY"
      },
      "id": "SKkHEWRff3VY"
    },
    {
      "cell_type": "code",
      "source": [
        "print(\"Time Comparison slowPrim and Prim (Priority Queue) - Graph\")\n",
        "# slowPrim\n",
        "start_time = time.time()\n",
        "MST1 = slowPrim(G1, G1.vertices[0]) # slowPrim\n",
        "end_time = time.time()\n",
        "slowPrime_time = end_time - start_time\n",
        "\n",
        "# Prim small\n",
        "start_time = time.time()\n",
        "MST2 = prim(G1, G1.vertices[0]) # Prim\n",
        "end_time = time.time()\n",
        "prim_time = end_time - start_time\n",
        "\n",
        "print(\"slowPrim Result\")\n",
        "# Print the MST\n",
        "for edge in MST1:\n",
        "  print(f\"{edge[0].value} - {edge[1].value}\")\n",
        "print()\n",
        "print(\"-\" * 40)\n",
        "\n",
        "print(\"prim Graph Result \")\n",
        "# Print the MST\n",
        "for edge in MST2:\n",
        "  print(f\"{edge[0].value} - {edge[1].value}\")\n",
        "print()\n",
        "print(\"-\" * 40)\n",
        "\n",
        "print(f\"slowPrim Time: {slowPrime_time:.6f} seconds\")\n",
        "print(f\"prim Time: {prim_time:.6f} seconds\")\n",
        "print(\"-\" * 40)"
      ],
      "metadata": {
        "colab": {
          "base_uri": "https://localhost:8080/"
        },
        "id": "jz-tQNOUf25f",
        "outputId": "c9607e45-acd0-4425-d087-f94bc935a97a"
      },
      "id": "jz-tQNOUf25f",
      "execution_count": 74,
      "outputs": [
        {
          "output_type": "stream",
          "name": "stdout",
          "text": [
            "Time Comparison slowPrim and Prim (Priority Queue) - Graph\n",
            "slowPrim Result\n",
            "A - B\n",
            "B - C\n",
            "B - D\n",
            "\n",
            "----------------------------------------\n",
            "prim Graph Result \n",
            "A - B\n",
            "B - C\n",
            "B - D\n",
            "\n",
            "----------------------------------------\n",
            "slowPrim Time: 0.000083 seconds\n",
            "prim Time: 0.000078 seconds\n",
            "----------------------------------------\n"
          ]
        }
      ]
    },
    {
      "cell_type": "markdown",
      "id": "cc0f5215",
      "metadata": {
        "id": "cc0f5215"
      },
      "source": [
        "***"
      ]
    }
  ],
  "metadata": {
    "kernelspec": {
      "display_name": "Python 3 (ipykernel)",
      "language": "python",
      "name": "python3"
    },
    "language_info": {
      "codemirror_mode": {
        "name": "ipython",
        "version": 3
      },
      "file_extension": ".py",
      "mimetype": "text/x-python",
      "name": "python",
      "nbconvert_exporter": "python",
      "pygments_lexer": "ipython3",
      "version": "3.9.17"
    },
    "colab": {
      "provenance": []
    }
  },
  "nbformat": 4,
  "nbformat_minor": 5
}