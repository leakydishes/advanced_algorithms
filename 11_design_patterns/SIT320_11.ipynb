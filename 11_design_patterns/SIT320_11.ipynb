{
  "nbformat": 4,
  "nbformat_minor": 0,
  "metadata": {
    "colab": {
      "provenance": []
    },
    "kernelspec": {
      "name": "python3",
      "display_name": "Python 3"
    },
    "language_info": {
      "name": "python"
    }
  },
  "cells": [
    {
      "cell_type": "markdown",
      "source": [
        "# SIT320 Advanced Algorithms\n",
        "## Task 11\n",
        "\n"
      ],
      "metadata": {
        "id": "UP7IqiA1H_dc"
      }
    },
    {
      "cell_type": "markdown",
      "source": [
        "##Activity 1\n",
        "###Karger’s algorithm finds a minimum cut based on the number of edges. What if we have weights on the edges. How would you modify Karger’s algorithm (or design a new algorithm) to take into account edge weights?\n",
        "- You are not expected to write any code here but design an algorithm. You can present your algorithm in form of a pseudo-code, paragraph, or video recording.\n",
        "- You are expected to make any reasonable assumptions about the problem, to simplify your formulation of proposed algorithm.\n",
        "\n",
        "##### References used include CS:5350 Karger’s Mincut Algorithm by Asad Mahmood [1] and SIT320 Advanced Algorithms Deakin [2]."
      ],
      "metadata": {
        "id": "Bn1F0sNDIIFR"
      }
    },
    {
      "cell_type": "markdown",
      "source": [
        "#### Karger’s Algorithm\n",
        "Karger’s algorithm finds global minimum cuts, it separates a graph into two parts while minimising the total weight of all edges that need to be cut (except for s and t that need to be separated).\n",
        "- Minimum cut = smallest number of edges to be removed for graph disconnection.\n",
        "- This works for unweighted graphs and for graph with positive edge weights (edges selected for contraction with probability proportional to their weight).\n",
        "- The randomness can produce a different result on the same graph, with high probability.\n",
        "- By running it n^2 times, likely to find at least one minimum cut.\n",
        "\n",
        "1. Select an edge at random\n",
        "2. Then contact the chosen edge\n",
        "3. Repeat until only two nodes are left\n",
        "\n",
        "\n",
        "> Function Karger(G) <br>\n",
        ">>// While there are more than 2 supernodes <br>\n",
        "for $i$ &#8592; $1$ to $n - 2$ do <br>\n",
        "Pick an edge $(u, v)$ in $G$ uniformly at random <br>\n",
        "// Merge $u$ and $v$ <br>\n",
        "$G$ &#8592; CONTRACT $(G, {u, v})$ <br>\n",
        "return Edges between two vertices that remain <br>\n",
        "end function <br>\n"
      ],
      "metadata": {
        "id": "wOpSZ5TwIhSD"
      }
    },
    {
      "cell_type": "markdown",
      "source": [
        "### Modified Karger’s Algorithm (Weighted Edges)\n",
        "#### Aim: Modify Karger’s algorithm to hand weighted edges. Need to adjust how edges are selected and contracted (merging two adjacent $v$ (nodes) in graph into single vertex, while maintaining connectivity of graph).\n",
        "\n",
        "##### Assumptions:\n",
        "- Need to adjust the probability distribution for selecting edges.\n",
        "- Edges are chosen uniformly at random, but weighted edges we want to select edges with higher weights more often.\n",
        "- We have an undirected, connected graph with weighted edges.\n",
        "- All edge weights are positive integers, chosen randomly - represent the cost of removing that edge.\n",
        "- No self-loops are present in the graph."
      ],
      "metadata": {
        "id": "5c5my3bdK_BS"
      }
    },
    {
      "cell_type": "markdown",
      "source": [
        "#### Pseudo-code\n",
        "Input: Connected, undirected graph $G$ with weighted edges, $G = (V, E) <br>\n",
        "Output: Two nodes representing min-cut (weighted) and the weight of cut <br>\n",
        "\n",
        "> Function Karger_weights(G)\n",
        ">// Initialise variables for edge selection <br> cumulative_weight <br>\n",
        "selected_edge <br>\n",
        "random_weight <br><br>\n",
        "// While there are more than 2 supernodes\n",
        "1. while number of supernodes in $G > 2$ do:\n",
        "2. total_weight = sum of weights of all edges in $G$<br>\n",
        "3. random_weight = random num between 0 and total_weight<br> <br>\n",
        "\n",
        ">// Iterate through all edges to select based on weights\n",
        "for each edge $(u, v) in G$ do:\n",
        "1. Collect edge weight to the cumulative weight\n",
        "2. Cumulative_weight += weight of $(u, v)$ <br>\n",
        "if cumulative_weight >= random_weight<br>\n",
        ">>Selected_edge = $(u, v)$ <br>\n",
        "// Merge $u, v$ <br>\n",
        "$G$ &#8592; CONTRACT $(G, {u, v}) $<br>\n",
        ">return Edges between two vertices that remain\n",
        "end function\n"
      ],
      "metadata": {
        "id": "8-hlefsDPfY2"
      }
    },
    {
      "cell_type": "markdown",
      "source": [
        "### Time Complexity\n",
        "Karger's Algorithm (without weights), merge $O(n^2)$, for $n$ nodes (single run) $O(n^2)$, optimal solution needs $n^2 log(n)$ runs, thus time complexity = $O(n^4 log(n))$. <br>\n",
        "\n",
        "**Modified Karger's Algorithm ** (with weights), selecting an edge is $O(E)$, $E$ the number of edges. Each step is repeated $n-2$ contractions (merging) where $n$ is the number of nodes, overall complexity is $O((n-2)*E)$, resulting in $O(n*log(E))$.\n",
        "### Analysis\n",
        "This task enabled me to understand Karger’s Algorithm and how the min-cut (random selection) functions. What was interesting was the effects of running the algorithm through different iterations. The modified algorithm ensures that edges with higher weights have a greater chance of being selected for merging (contraction), in finding min-cut.\n",
        "1. Find total weight of all edges in $G$, select an edge randomly based on weights of edges.\n",
        "- Ensures edges with higher weights are more likely to selected.\n",
        "2. Keep track of the cumulative weights of edges and use random value to select an edge.\n",
        "3. Min-cut value is calculated by summing the weight of the remaining edges after contraction (merging). <br>\n",
        "\n",
        "Note: The Karger-Stein algorithm may be better suited as it reduces time complexity to $O(n^2)$, by reducing the nodes to $n/sqrt(2)$ [1].\n"
      ],
      "metadata": {
        "id": "x-tEYMVIPb1T"
      }
    },
    {
      "cell_type": "markdown",
      "source": [
        "##Activity 2\n",
        "\n",
        "###Write code for Ford-fulkerson algorithm and apply it on the following problem\n",
        "- Your algorithm should print the values of max flow and min cut.\n",
        "- Make sure your algorithm prints the edges involved in the minimum-cut.\n",
        "- You are welcome to write code from scratch, but are allowed to look over the internet, e.g., hSps://www.programiz.com/dsa/ford-fulkerson-algorithm. If you are using code from the internet or chatGPT, make sure you document it that demonstrates your understanding of the code. Your tutor will discuss the salient features of the code with you.\n"
      ],
      "metadata": {
        "id": "E8clBOnSIMOW"
      }
    },
    {
      "cell_type": "markdown",
      "source": [
        "### The Ford-fulkerson Algorithm\n",
        "#### Finds min-cuts and max flows.\n",
        "- Graphs are directed and edges have capacities (weights).\n",
        "- Source (vertex $s$) and sink (vertex $t$)\n",
        "- $s$ have only outgoing edges\n",
        "- $t$ has only incoming edges<br>\n",
        "\n",
        "A min s-t cut = a cut that separates $s$ from $t$ with minimum capacity, <br>\n",
        "Each edge has a flow =\n",
        "1. The amount of stuff coming out of $s$\n",
        "2. The amount of stuff flowing into $t$\n",
        "\n",
        "- Flow on an edge must be less than its capacity\n",
        "- At each vertex the incoming flows must equal the outgoing flows\n",
        "- unmarked edges = 0 <br>\n",
        "\n",
        "A maximum flow = is a flow of maximum value\n",
        "- The value of max flow from $s$ to $t$ = the cost of a min s-t cut. <br>\n",
        "\n",
        "I modified the code given in the lecture as it didn’t print the min cut or edges and most importantly needed to find a way of augmenting paths in the residual graph $G_f$. I used the pseudocode to create a class for the Ford-fulkerson algorithm to create more structure in the code. <br>\n",
        "\n",
        "### Original Ford-fulkerson Algorithm Pseudocode\n",
        "Input: connected, undirected graph $G$ with weighted edges, $G = (V, E)$ <br>\n",
        "Output: flow $f=$ optimal/ maximal flow values form $s$ to $t$ in $G_f$ <br>\n",
        "\n",
        ">Ford-fulkerson(G) <br>\n",
        "// Start with zero flow <br>\n",
        "$f $ & &#8592; all zeros\n",
        "$G_f$ &#8592; $G$ <br>\n",
        "while $t$ is reachable from $s$ to $t$ in $G_f$ <br>\n",
        "\n",
        ">>// Repeat process of finding paths between $s$ and $t$ in residual graph until there is none. <br>\n",
        "$f$ &#8592; increase_flow$(p, f)$ <br>\n",
        "update $G_f$ <br>\n",
        "return $f$\n",
        "\n"
      ],
      "metadata": {
        "id": "TtiAPyy9QICs"
      }
    },
    {
      "cell_type": "code",
      "source": [
        "# Ford-fulkerson Algorithm\n",
        "# Augmenting path = path from the source node (s) to the sink node in residual graph\n",
        "# Residual graph = G_f\n",
        "\n",
        "# Modules\n",
        "from collections import defaultdict, deque\n",
        "import time\n",
        "import random\n",
        "\n",
        "# Class\n",
        "'''\n",
        "Inputs: Graph (network as an adjacency list)\n",
        "        Each node if represented as target, capacity, flow\n",
        "        Source: The root node of the network\n",
        "        Sink: Target node of network\n",
        "'''\n",
        "class FordFulkerson:\n",
        "  def __init__(self, graph, source, sink, max_iterations):\n",
        "      self.graph = graph # Original graph (network)\n",
        "      self.source = source # source set (s)\n",
        "      self.sink = sink # sink set (t)\n",
        "      self.max_flow = 0\n",
        "      self.visited = set()\n",
        "      # Added for test case\n",
        "      self.max_iterations = max_iterations\n",
        "\n",
        "# Method find augmenting path in the residual graph (G_f)\n",
        "# Using Breadth First Search O(nm^2)\n",
        "# Push flow to increase the total flow in the network\n",
        "  def find_path(self):\n",
        "    '''\n",
        "    parent: dictionary to track parent node of each visisted node during BFS\n",
        "    queue: A dequeue (double ended queue) for BFS traversal\n",
        "    self.visisted: Set to keep track of visisted nodes, cleared at start of BFS\n",
        "    '''\n",
        "    parent = {}\n",
        "    queue = deque()\n",
        "    queue.append(self.source)\n",
        "    self.visited.clear()\n",
        "\n",
        "    # BFS traversal to search for augmenting path\n",
        "    while queue:\n",
        "      u = queue.popleft()\n",
        "      self.visited.add(u)\n",
        "\n",
        "      # Each node u popped from queue, Neighbors v in g_f\n",
        "      # Iterate over edges connected to node u\n",
        "      for v, capacity, flow in self.graph[u]:\n",
        "        # node u not visited available capacity on edge\n",
        "        if v not in self.visited and capacity - flow > 0:\n",
        "          # u = parent of v to reconstruct path later\n",
        "          parent[v] = (u, capacity, flow) # Updates parent\n",
        "\n",
        "          # If both conditions met for v, start BFS\n",
        "          # IF ONLY v = sink, follow parent pointers backward to source & record edge & min capacity\n",
        "          if v == self.sink: # Found a path from s to t\n",
        "            # Return path (edges), current neighbor & and min capacity\n",
        "            path = []\n",
        "            current = v\n",
        "            min_capacity = float('inf')\n",
        "            # Reconstruct path from sink node to source node\n",
        "            # Calculate min capacity for that path\n",
        "            while current != self.source:\n",
        "              u, capacity, flow = parent[current] # Edge info from parent\n",
        "              # Compare current min capcity with reminaing capacity and update\n",
        "              min_capacity = min(min_capacity, capacity - flow) # Calculate min capacity along current edge\n",
        "              path.append((u, current))\n",
        "              current = u\n",
        "            print(\"Found augmenting path:\", path)  # Path found\n",
        "            return path, min_capacity\n",
        "\n",
        "          queue.append(v) # Else v add to queue to re expore (BFS)\n",
        "\n",
        "    print(\"No augmenting path found\")  # Check Paths\n",
        "    return None, 0 # No augmenting path found\n",
        "\n",
        "# Method find augmenting paths and update flow until no augmenting paths remain\n",
        "# Each iteration calls find_path() which uses BFS O(V+E), vertices and num edges\n",
        "  def ford_fulkerson(self):\n",
        "    # Loops until find_path method (BFS) can find an augmenting path\n",
        "    # DFS determins whether there are any paths left to explore\n",
        "    elapsed_time = 0\n",
        "    while True:\n",
        "      self.visited.clear()  # Clear visited nodes\n",
        "      augmenting_path, min_capacity = self.find_path()\n",
        "      start_time = time.time() # Timer start\n",
        "\n",
        "      if not augmenting_path:\n",
        "        break\n",
        "\n",
        "      print(f\"Updating flow on path: {augmenting_path}, Flow amount: {min_capacity}\")\n",
        "\n",
        "      for u, v in augmenting_path:\n",
        "        # Update edges (forward and backward)\n",
        "        for edge in self.graph[u]:\n",
        "          if edge[0] == v:\n",
        "            edge[2] += min_capacity\n",
        "            break\n",
        "        for edge in self.graph[v]:\n",
        "          if edge[0] == u:\n",
        "            edge[2] -= min_capacity\n",
        "            break\n",
        "\n",
        "      self.max_flow += min_capacity\n",
        "      end_time = time.time() # Timer End\n",
        "      elapsed_time = end_time - start_time\n",
        "    print(f\"Max Flow = {self.max_flow}, Elapsed Time = {elapsed_time} seconds\")\n",
        "    self.min_cut_edges = [] # Clear edges for next case\n",
        "\n",
        "# Method finds the min-cut of the graph flow (network) from s to t\n",
        "  def min_cut(self):\n",
        "\n",
        "    # visited set keeps track of nodes visited by DFS traversal\n",
        "    self.visited.clear()\n",
        "    # DFS used to find nodes in s\n",
        "    # Starts at s and finds all reachable nodes in G_f\n",
        "    self.dfs(self.source)\n",
        "\n",
        "    min_cut_edges = [] # Stores all edges\n",
        "    for u in self.visited: # Check all nodes visited in DFS s of min-cut\n",
        "      # Loop to compare edges connected to node (u) in graph\n",
        "      for v, capacity, flow in self.graph[u]:\n",
        "        # If not visited, v = part of t reachable from u but not s\n",
        "        if v not in self.visited: # in t, add to min_cut_list list\n",
        "          min_cut_edges.append((u, v))\n",
        "\n",
        "    return min_cut_edges # All edges belong to min-cut\n",
        "\n",
        "# Method runs Depth First Search to find nodes/ valid augmenting path s in G_f\n",
        "# Nodes that are neighbors from source node in residual graph\n",
        "# Identifies the nodes in s of min-cut\n",
        "# Terminates the Ford-Fulkerson algorithm when no augementing path from source to sink can be found in residual graph\n",
        "  def dfs(self, u):\n",
        "    self.visited.add(u)\n",
        "    for v, capacity, flow in self.graph[u]:\n",
        "      if v not in self.visited and capacity - flow > 0:\n",
        "        self.dfs(v)\n",
        "\n"
      ],
      "metadata": {
        "id": "sPjPlztmSfs8"
      },
      "execution_count": 17,
      "outputs": []
    },
    {
      "cell_type": "markdown",
      "source": [
        "# Test Case 1\n",
        "### Test a simple graph"
      ],
      "metadata": {
        "id": "Oiq5gY_tgGJ9"
      }
    },
    {
      "cell_type": "code",
      "execution_count": 18,
      "metadata": {
        "colab": {
          "base_uri": "https://localhost:8080/"
        },
        "id": "1PxMNEWEH8od",
        "outputId": "1a9fcd8f-7042-48dc-842d-6c5fca722046"
      },
      "outputs": [
        {
          "output_type": "stream",
          "name": "stdout",
          "text": [
            "Found augmenting path: [('a', 't'), ('s', 'a')]\n",
            "Updating flow on path: [('a', 't'), ('s', 'a')], Flow amount: 3\n",
            "Found augmenting path: [('b', 't'), ('a', 'b'), ('s', 'a')]\n",
            "Updating flow on path: [('b', 't'), ('a', 'b'), ('s', 'a')], Flow amount: 7\n",
            "Found augmenting path: [('b', 't'), ('s', 'b')]\n",
            "Updating flow on path: [('b', 't'), ('s', 'b')], Flow amount: 1\n",
            "No augmenting path found\n",
            "Max Flow = 11, Elapsed Time = 0.00044274330139160156 seconds\n",
            "Min Cut Edges: [('s', 'a'), ('s', 'b')]\n"
          ]
        }
      ],
      "source": [
        "# Test Case\n",
        "# Define graph (adjacency list)\n",
        "# Each edge = target, capacity, flow\n",
        "graph = {\n",
        "    's': [['a', 10, 0], ['b', 1, 0]],\n",
        "    'a': [['b', 15, 0], ['t', 3, 0]],\n",
        "    'b': [['t', 10, 0]],\n",
        "    't': []\n",
        "}\n",
        "\n",
        "source = 's'\n",
        "sink = 't'\n",
        "max_iterations = 1\n",
        "ff = FordFulkerson(graph, source, sink, max_iterations)\n",
        "ff.ford_fulkerson()  # Ford-Fulkerson\n",
        "\n",
        "# Get the maximum flow\n",
        "max_flow = ff.max_flow\n",
        "# Find the minimum cut edges\n",
        "min_cut = ff.min_cut()\n",
        "\n",
        "print(\"Min Cut Edges:\", min_cut)"
      ]
    },
    {
      "cell_type": "markdown",
      "source": [
        "## Test Case 2\n",
        "### Test flow from s to t (different graph)"
      ],
      "metadata": {
        "id": "1PQttbMV0KB0"
      }
    },
    {
      "cell_type": "code",
      "source": [
        "graph1 = {\n",
        "    's': [['a', 10, 0], ['b', 10, 0], ['c', 10, 0]],\n",
        "    'a': [['d', 5, 0]],\n",
        "    'b': [['d', 10, 0]],\n",
        "    'c': [['t', 10, 0]],\n",
        "    'd': [['t', 15, 0]],\n",
        "    't': []\n",
        "}\n",
        "\n",
        "ff1 = FordFulkerson(graph1, source, sink, max_iterations)\n",
        "ff1.ford_fulkerson()\n",
        "max_flow1 = ff1.max_flow\n",
        "min_cut1 = ff1.min_cut()\n",
        "print(\"Min Cut Edges:\", min_cut1)\n"
      ],
      "metadata": {
        "colab": {
          "base_uri": "https://localhost:8080/"
        },
        "id": "5eQ_jgOW0PsW",
        "outputId": "e0d10562-2730-4b08-f083-8e555fb96519"
      },
      "execution_count": 19,
      "outputs": [
        {
          "output_type": "stream",
          "name": "stdout",
          "text": [
            "Found augmenting path: [('c', 't'), ('s', 'c')]\n",
            "Updating flow on path: [('c', 't'), ('s', 'c')], Flow amount: 10\n",
            "Found augmenting path: [('d', 't'), ('b', 'd'), ('s', 'b')]\n",
            "Updating flow on path: [('d', 't'), ('b', 'd'), ('s', 'b')], Flow amount: 10\n",
            "Found augmenting path: [('d', 't'), ('a', 'd'), ('s', 'a')]\n",
            "Updating flow on path: [('d', 't'), ('a', 'd'), ('s', 'a')], Flow amount: 5\n",
            "No augmenting path found\n",
            "Max Flow = 25, Elapsed Time = 2.2172927856445312e-05 seconds\n",
            "Min Cut Edges: [('a', 'd'), ('s', 'b'), ('s', 'c')]\n"
          ]
        }
      ]
    },
    {
      "cell_type": "markdown",
      "source": [
        "## Test Case 3\n",
        "### A disconnected graph (no flow possible)"
      ],
      "metadata": {
        "id": "aqMHzMZy0V6R"
      }
    },
    {
      "cell_type": "code",
      "source": [
        "# A disconnected graph (no flow possible)\n",
        "graph2 = {\n",
        "    's': [('a', 10, 0)],\n",
        "    'a': [],\n",
        "    't': [('b', 5, 0)],\n",
        "    'b': []\n",
        "}\n",
        "\n",
        "ff2 = FordFulkerson(graph2, source, sink, max_iterations)\n",
        "ff2.ford_fulkerson()\n",
        "max_flow2 = ff2.max_flow\n",
        "min_cut2 = ff2.min_cut()\n",
        "print(\"Max Flow:\", max_flow2)\n",
        "print(\"Min Cut Edges:\", min_cut2)\n"
      ],
      "metadata": {
        "colab": {
          "base_uri": "https://localhost:8080/"
        },
        "id": "JmbOx3540WIV",
        "outputId": "14788569-954b-4832-854b-c9d33ee1ee4b"
      },
      "execution_count": 20,
      "outputs": [
        {
          "output_type": "stream",
          "name": "stdout",
          "text": [
            "No augmenting path found\n",
            "Max Flow = 0, Elapsed Time = 0 seconds\n",
            "Max Flow: 0\n",
            "Min Cut Edges: []\n"
          ]
        }
      ]
    },
    {
      "cell_type": "markdown",
      "source": [
        "## Test Case 4\n",
        "### Complex Graph and Change in Capacity/ flow test"
      ],
      "metadata": {
        "id": "IkCpjkp21VIg"
      }
    },
    {
      "cell_type": "code",
      "source": [
        "# Define a complex graph for testing\n",
        "complex_graph = {\n",
        "    's': [['a', 4, 0], ['b', 2, 0], ['c', 6, 0]],\n",
        "    'a': [['e', 6, 0], ['d', 3, 0]],\n",
        "    'b': [['e', 3, 0], ['f', 3, 0]],\n",
        "    'c': [['f', 10, 0]],\n",
        "    'd': [['t', 4, 0]],\n",
        "    'e': [['t', 4, 0]],\n",
        "    'f': [['t', 4, 0]],\n",
        "    't': []\n",
        "}\n",
        "\n",
        "# Number of iterations and reset interval\n",
        "max_iterations = 100\n",
        "reset_interval = 10\n",
        "\n",
        "ff_complex = FordFulkerson(complex_graph, source, sink, max_iterations)\n",
        "ff_complex.ford_fulkerson()\n",
        "max_flow3 = ff_complex.max_flow\n",
        "min_cut3 = ff_complex.min_cut()\n",
        "print(\"Max Flow:\", max_flow3)\n",
        "print(\"Min Cut Edges:\", min_cut3)\n",
        "\n",
        "print(\"\")\n",
        "print(\"Change capacity and flow b -> e\")\n",
        "# Increase capacity on edge from 'b' to 'e'\n",
        "complex_graph['b'][0] = ['e', 5, 0]\n",
        "\n",
        "# Decrease initial flow on edge from 's' to 'a'\n",
        "complex_graph['s'][0] = ['a', 3, 0]  # Decreased flow from 4 to 3\n",
        "ff_complex.ford_fulkerson()\n",
        "max_flow3 = ff_complex.max_flow\n",
        "min_cut3 = ff_complex.min_cut()\n",
        "print(\"Max Flow:\", max_flow3)\n",
        "print(\"Min Cut Edges:\", min_cut3)"
      ],
      "metadata": {
        "colab": {
          "base_uri": "https://localhost:8080/"
        },
        "id": "qro8HX261YGn",
        "outputId": "1375a5a0-3789-4f90-82f3-9b4c61fef003"
      },
      "execution_count": 21,
      "outputs": [
        {
          "output_type": "stream",
          "name": "stdout",
          "text": [
            "Found augmenting path: [('e', 't'), ('b', 'e'), ('s', 'b')]\n",
            "Updating flow on path: [('e', 't'), ('b', 'e'), ('s', 'b')], Flow amount: 2\n",
            "Found augmenting path: [('e', 't'), ('a', 'e'), ('s', 'a')]\n",
            "Updating flow on path: [('e', 't'), ('a', 'e'), ('s', 'a')], Flow amount: 2\n",
            "Found augmenting path: [('d', 't'), ('a', 'd'), ('s', 'a')]\n",
            "Updating flow on path: [('d', 't'), ('a', 'd'), ('s', 'a')], Flow amount: 2\n",
            "Found augmenting path: [('f', 't'), ('c', 'f'), ('s', 'c')]\n",
            "Updating flow on path: [('f', 't'), ('c', 'f'), ('s', 'c')], Flow amount: 4\n",
            "No augmenting path found\n",
            "Max Flow = 10, Elapsed Time = 2.0503997802734375e-05 seconds\n",
            "Max Flow: 10\n",
            "Min Cut Edges: [('f', 't'), ('s', 'a'), ('s', 'b')]\n",
            "\n",
            "Change capacity and flow b -> e\n",
            "Found augmenting path: [('d', 't'), ('a', 'd'), ('s', 'a')]\n",
            "Updating flow on path: [('d', 't'), ('a', 'd'), ('s', 'a')], Flow amount: 1\n",
            "No augmenting path found\n",
            "Max Flow = 11, Elapsed Time = 2.3603439331054688e-05 seconds\n",
            "Max Flow: 11\n",
            "Min Cut Edges: [('a', 'd'), ('s', 'b'), ('e', 't'), ('f', 't')]\n"
          ]
        }
      ]
    },
    {
      "cell_type": "markdown",
      "source": [
        "### Ford-fulkerson Algorithm Analyses\n",
        "If there is no max capacity, capacity is  C, then algorithm can take >= C iterations\n",
        "- Some choices lead to exponential algorithms, but smart choices lead to polynomial algorithms.\n",
        "- If edges capacities are irrational, ‘no guarantee that Ford-Fulkerson terminates (or converges to a maximum flow)’ [8]. I used BFS to find the augmenting path with fewest edges [8].\n",
        "\n",
        "### Resolving Issues\n",
        "If I had more time for this task implementing an adaptive strategy, where the algorithm adjusts behaviour based on past performance may reduce the number of iterations and still find the most optimal path. I create a random augmentation path selection and kept track of which iteration was the best for max flow. One issue with this code is that it assumes the initial flow on all edges is 0, for future applications this may need to be modified to be more flexible. I also had an issue with clearing visited nodes after each different runs of the algorithm which I fixed.\n",
        "\n",
        "\n",
        "### Ford-Fulkerson Time Complexity\n",
        "Normal running time is O(mnC) <br>\n",
        "I use BFS to find the augmenting path with fewest edges, based on Edmonds-Karp [8] and DFS to create time complexity of O(V*E^2).\n"
      ],
      "metadata": {
        "id": "f_M6Pnx8MZ7f"
      }
    },
    {
      "cell_type": "markdown",
      "source": [
        "#### References\n",
        "- [1]\tCLRS, et al, “Introduction to Algorithms,” in Chapter 26 Maximum Flow, Cambridge, Massachusetts, MIT Press Academic, 2022.\n",
        "- [2]\tH. Satopay, “The Ultimate Markdown Guide (for Jupyter Notebook),” 18 11 2019. [Online]. Available: https://medium.com/analytics-vidhya/the-ultimate-markdown-guide-for-jupyter-notebook-d5e5abf728fd. [Accessed 23 9 2023].\n",
        "- [3]\tA. Mahood, “CS:5350 Karger’s Mincut Algorithm,” The University of Iowa, Iowa, USA, 2019.\n",
        "- [4]\tDeakin University, “Module 11: Network-based Algorithms,” Deakin University, Melbourne, Australia, 2023.\n",
        "- [5]\tE. Maheshwari, “Karger’s Algorithm,” Medium, 24 6 2018. [Online]. Available: https://medium.com/@dev.elect.iitd/kargers-algorithm-d8067eb1b790. [Accessed 20 9 2023].\n"
      ],
      "metadata": {
        "id": "6ujjLm-beYbR"
      }
    }
  ]
}