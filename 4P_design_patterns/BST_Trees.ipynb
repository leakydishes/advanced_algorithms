{
  "cells": [
    {
      "cell_type": "markdown",
      "id": "imposed-playlist",
      "metadata": {
        "id": "imposed-playlist"
      },
      "source": [
        "# Lab: Trees"
      ]
    },
    {
      "cell_type": "markdown",
      "id": "d97cce87",
      "metadata": {
        "id": "d97cce87"
      },
      "source": [
        "Lab associated with Module: Trees"
      ]
    },
    {
      "cell_type": "markdown",
      "id": "5c7f2e9d",
      "metadata": {
        "id": "5c7f2e9d"
      },
      "source": [
        "***"
      ]
    },
    {
      "cell_type": "code",
      "execution_count": null,
      "id": "5b495ad0",
      "metadata": {
        "colab": {
          "base_uri": "https://localhost:8080/",
          "height": 17
        },
        "id": "5b495ad0",
        "outputId": "c484e680-c320-4889-899f-c2a5d2005b06"
      },
      "outputs": [
        {
          "output_type": "display_data",
          "data": {
            "text/plain": [
              "<IPython.core.display.HTML object>"
            ],
            "text/html": [
              "<style>.container { width:95% !important; }</style>"
            ]
          },
          "metadata": {}
        }
      ],
      "source": [
        "# The following lines are used to increase the width of cells to utilize more space on the screen\n",
        "from IPython.core.display import display, HTML\n",
        "display(HTML(\"<style>.container { width:95% !important; }</style>\"))"
      ]
    },
    {
      "cell_type": "markdown",
      "id": "3a2b855c",
      "metadata": {
        "id": "3a2b855c"
      },
      "source": [
        "***"
      ]
    },
    {
      "cell_type": "markdown",
      "id": "9d0921a0",
      "metadata": {
        "id": "9d0921a0"
      },
      "source": [
        "### Section 0: Imports"
      ]
    },
    {
      "cell_type": "code",
      "execution_count": null,
      "id": "477622d5",
      "metadata": {
        "id": "477622d5"
      },
      "outputs": [],
      "source": [
        "import numpy as np"
      ]
    },
    {
      "cell_type": "markdown",
      "id": "88f9f12c",
      "metadata": {
        "id": "88f9f12c"
      },
      "source": [
        "Following libraries have to be installed on your computer. Try to install graphviz by using: conda install python-graphviz\n",
        "\n",
        "I made use of some of the following links to get rid of errors:\n",
        "    \n",
        "https://github.com/quadram-institute-bioscience/albatradis/issues/7\n",
        "\n",
        "https://stackoverflow.com/questions/35064304/runtimeerror-make-sure-the-graphviz-executables-are-on-your-systems-path-aft\n",
        "\n",
        "https://github.com/xflr6/graphviz/issues/68\n",
        "\n",
        "https://github.com/RedaOps/ann-visualizer/issues/12\n",
        "\n",
        "\n",
        "On my mac computer I had to install some packages using brew to get rid of following error: \"ExecutableNotFound: failed to execute ['dot', '-Tsvg'], make sure the Graphviz executables are on your systems' PATH\"\n",
        "\n",
        "brew install graphviz"
      ]
    },
    {
      "cell_type": "code",
      "execution_count": null,
      "id": "965de108",
      "metadata": {
        "id": "965de108"
      },
      "outputs": [],
      "source": [
        "from IPython.display import Image\n",
        "from graphviz import Digraph"
      ]
    },
    {
      "cell_type": "markdown",
      "id": "214d69eb",
      "metadata": {
        "id": "214d69eb"
      },
      "source": [
        "Details of Digraph package: https://h1ros.github.io/posts/introduction-to-graphviz-in-jupyter-notebook/"
      ]
    },
    {
      "cell_type": "markdown",
      "id": "7f9321f8",
      "metadata": {
        "id": "7f9321f8"
      },
      "source": [
        "***"
      ]
    },
    {
      "cell_type": "markdown",
      "id": "317d9bca",
      "metadata": {
        "id": "317d9bca"
      },
      "source": [
        "### Section 1: Testing Visualization Package"
      ]
    },
    {
      "cell_type": "markdown",
      "id": "cc820c0e",
      "metadata": {
        "id": "cc820c0e"
      },
      "source": [
        "Let us test this visualization Digraph Pacakge, it is only a tool for displaying tree or graph, this will come handy as it helps to visualize our solution."
      ]
    },
    {
      "cell_type": "code",
      "execution_count": null,
      "id": "d8e6550f",
      "metadata": {
        "id": "d8e6550f"
      },
      "outputs": [],
      "source": [
        "dot = Digraph()\n",
        "\n",
        "dot.node(\"1\")\n",
        "dot.node(\"2\")\n",
        "dot.edges(['12'])"
      ]
    },
    {
      "cell_type": "code",
      "execution_count": null,
      "id": "c86f2017",
      "metadata": {
        "colab": {
          "base_uri": "https://localhost:8080/",
          "height": 176
        },
        "id": "c86f2017",
        "outputId": "39584046-b3fc-4143-e3f0-cb9b43886920"
      },
      "outputs": [
        {
          "output_type": "execute_result",
          "data": {
            "image/svg+xml": "<?xml version=\"1.0\" encoding=\"UTF-8\" standalone=\"no\"?>\n<!DOCTYPE svg PUBLIC \"-//W3C//DTD SVG 1.1//EN\"\n \"http://www.w3.org/Graphics/SVG/1.1/DTD/svg11.dtd\">\n<!-- Generated by graphviz version 2.43.0 (0)\n -->\n<!-- Title: %3 Pages: 1 -->\n<svg width=\"62pt\" height=\"116pt\"\n viewBox=\"0.00 0.00 62.00 116.00\" xmlns=\"http://www.w3.org/2000/svg\" xmlns:xlink=\"http://www.w3.org/1999/xlink\">\n<g id=\"graph0\" class=\"graph\" transform=\"scale(1 1) rotate(0) translate(4 112)\">\n<title>%3</title>\n<polygon fill=\"white\" stroke=\"transparent\" points=\"-4,4 -4,-112 58,-112 58,4 -4,4\"/>\n<!-- 1 -->\n<g id=\"node1\" class=\"node\">\n<title>1</title>\n<ellipse fill=\"none\" stroke=\"black\" cx=\"27\" cy=\"-90\" rx=\"27\" ry=\"18\"/>\n<text text-anchor=\"middle\" x=\"27\" y=\"-86.3\" font-family=\"Times,serif\" font-size=\"14.00\">1</text>\n</g>\n<!-- 2 -->\n<g id=\"node2\" class=\"node\">\n<title>2</title>\n<ellipse fill=\"none\" stroke=\"black\" cx=\"27\" cy=\"-18\" rx=\"27\" ry=\"18\"/>\n<text text-anchor=\"middle\" x=\"27\" y=\"-14.3\" font-family=\"Times,serif\" font-size=\"14.00\">2</text>\n</g>\n<!-- 1&#45;&gt;2 -->\n<g id=\"edge1\" class=\"edge\">\n<title>1&#45;&gt;2</title>\n<path fill=\"none\" stroke=\"black\" d=\"M27,-71.7C27,-63.98 27,-54.71 27,-46.11\"/>\n<polygon fill=\"black\" stroke=\"black\" points=\"30.5,-46.1 27,-36.1 23.5,-46.1 30.5,-46.1\"/>\n</g>\n</g>\n</svg>\n",
            "text/plain": [
              "<graphviz.graphs.Digraph at 0x7d8f4057fbb0>"
            ]
          },
          "metadata": {},
          "execution_count": 1345
        }
      ],
      "source": [
        "dot"
      ]
    },
    {
      "cell_type": "code",
      "execution_count": null,
      "id": "1fc3ebf2",
      "metadata": {
        "colab": {
          "base_uri": "https://localhost:8080/",
          "height": 272
        },
        "id": "1fc3ebf2",
        "outputId": "52f1aceb-09ad-4409-96c1-280c4517c77c"
      },
      "outputs": [
        {
          "output_type": "execute_result",
          "data": {
            "image/svg+xml": "<?xml version=\"1.0\" encoding=\"UTF-8\" standalone=\"no\"?>\n<!DOCTYPE svg PUBLIC \"-//W3C//DTD SVG 1.1//EN\"\n \"http://www.w3.org/Graphics/SVG/1.1/DTD/svg11.dtd\">\n<!-- Generated by graphviz version 2.43.0 (0)\n -->\n<!-- Title: %3 Pages: 1 -->\n<svg width=\"206pt\" height=\"188pt\"\n viewBox=\"0.00 0.00 206.00 188.00\" xmlns=\"http://www.w3.org/2000/svg\" xmlns:xlink=\"http://www.w3.org/1999/xlink\">\n<g id=\"graph0\" class=\"graph\" transform=\"scale(1 1) rotate(0) translate(4 184)\">\n<title>%3</title>\n<polygon fill=\"white\" stroke=\"transparent\" points=\"-4,4 -4,-184 202,-184 202,4 -4,4\"/>\n<!-- 1 -->\n<g id=\"node1\" class=\"node\">\n<title>1</title>\n<ellipse fill=\"none\" stroke=\"black\" cx=\"135\" cy=\"-162\" rx=\"27\" ry=\"18\"/>\n<text text-anchor=\"middle\" x=\"135\" y=\"-158.3\" font-family=\"Times,serif\" font-size=\"14.00\">1</text>\n</g>\n<!-- 3 -->\n<g id=\"node2\" class=\"node\">\n<title>3</title>\n<ellipse fill=\"none\" stroke=\"black\" cx=\"99\" cy=\"-90\" rx=\"27\" ry=\"18\"/>\n<text text-anchor=\"middle\" x=\"99\" y=\"-86.3\" font-family=\"Times,serif\" font-size=\"14.00\">3</text>\n</g>\n<!-- 1&#45;&gt;3 -->\n<g id=\"edge2\" class=\"edge\">\n<title>1&#45;&gt;3</title>\n<path fill=\"none\" stroke=\"black\" d=\"M126.65,-144.76C122.29,-136.28 116.85,-125.71 111.96,-116.2\"/>\n<polygon fill=\"black\" stroke=\"black\" points=\"114.99,-114.44 107.3,-107.15 108.77,-117.64 114.99,-114.44\"/>\n</g>\n<!-- 2 -->\n<g id=\"node3\" class=\"node\">\n<title>2</title>\n<ellipse fill=\"none\" stroke=\"black\" cx=\"171\" cy=\"-90\" rx=\"27\" ry=\"18\"/>\n<text text-anchor=\"middle\" x=\"171\" y=\"-86.3\" font-family=\"Times,serif\" font-size=\"14.00\">2</text>\n</g>\n<!-- 1&#45;&gt;2 -->\n<g id=\"edge1\" class=\"edge\">\n<title>1&#45;&gt;2</title>\n<path fill=\"none\" stroke=\"black\" d=\"M137.84,-144.05C141.44,-135.22 146.89,-124.28 152.42,-114.63\"/>\n<polygon fill=\"black\" stroke=\"black\" points=\"155.53,-116.26 157.7,-105.89 149.54,-112.64 155.53,-116.26\"/>\n</g>\n<!-- 5 -->\n<g id=\"node4\" class=\"node\">\n<title>5</title>\n<ellipse fill=\"none\" stroke=\"black\" cx=\"27\" cy=\"-18\" rx=\"27\" ry=\"18\"/>\n<text text-anchor=\"middle\" x=\"27\" y=\"-14.3\" font-family=\"Times,serif\" font-size=\"14.00\">5</text>\n</g>\n<!-- 1&#45;&gt;5 -->\n<g id=\"edge4\" class=\"edge\">\n<title>1&#45;&gt;5</title>\n<path fill=\"none\" stroke=\"black\" d=\"M114.57,-150.16C98.66,-140.82 76.99,-126.02 63,-108 48.59,-89.45 39.14,-64.36 33.55,-45.54\"/>\n<polygon fill=\"black\" stroke=\"black\" points=\"36.9,-44.51 30.84,-35.82 30.15,-46.39 36.9,-44.51\"/>\n</g>\n<!-- 3&#45;&gt;5 -->\n<g id=\"edge3\" class=\"edge\">\n<title>3&#45;&gt;5</title>\n<path fill=\"none\" stroke=\"black\" d=\"M84.43,-74.83C74.25,-64.94 60.48,-51.55 48.97,-40.36\"/>\n<polygon fill=\"black\" stroke=\"black\" points=\"51.41,-37.85 41.8,-33.38 46.53,-42.87 51.41,-37.85\"/>\n</g>\n<!-- 6 -->\n<g id=\"node5\" class=\"node\">\n<title>6</title>\n<ellipse fill=\"none\" stroke=\"black\" cx=\"171\" cy=\"-18\" rx=\"27\" ry=\"18\"/>\n<text text-anchor=\"middle\" x=\"171\" y=\"-14.3\" font-family=\"Times,serif\" font-size=\"14.00\">6</text>\n</g>\n<!-- 3&#45;&gt;6 -->\n<g id=\"edge7\" class=\"edge\">\n<title>3&#45;&gt;6</title>\n<path fill=\"none\" stroke=\"black\" d=\"M113.57,-74.83C123.75,-64.94 137.52,-51.55 149.03,-40.36\"/>\n<polygon fill=\"black\" stroke=\"black\" points=\"151.47,-42.87 156.2,-33.38 146.59,-37.85 151.47,-42.87\"/>\n</g>\n<!-- 7 -->\n<g id=\"node6\" class=\"node\">\n<title>7</title>\n<ellipse fill=\"none\" stroke=\"black\" cx=\"99\" cy=\"-18\" rx=\"27\" ry=\"18\"/>\n<text text-anchor=\"middle\" x=\"99\" y=\"-14.3\" font-family=\"Times,serif\" font-size=\"14.00\">7</text>\n</g>\n<!-- 3&#45;&gt;7 -->\n<g id=\"edge6\" class=\"edge\">\n<title>3&#45;&gt;7</title>\n<path fill=\"none\" stroke=\"black\" d=\"M99,-71.7C99,-63.98 99,-54.71 99,-46.11\"/>\n<polygon fill=\"black\" stroke=\"black\" points=\"102.5,-46.1 99,-36.1 95.5,-46.1 102.5,-46.1\"/>\n</g>\n<!-- 2&#45;&gt;1 -->\n<g id=\"edge5\" class=\"edge\">\n<title>2&#45;&gt;1</title>\n<path fill=\"none\" stroke=\"black\" d=\"M168.12,-108.04C164.51,-116.87 159.07,-127.8 153.54,-137.43\"/>\n<polygon fill=\"black\" stroke=\"black\" points=\"150.45,-135.79 148.27,-146.15 156.44,-139.4 150.45,-135.79\"/>\n</g>\n<!-- 2&#45;&gt;6 -->\n<g id=\"edge8\" class=\"edge\">\n<title>2&#45;&gt;6</title>\n<path fill=\"none\" stroke=\"black\" d=\"M171,-71.7C171,-63.98 171,-54.71 171,-46.11\"/>\n<polygon fill=\"black\" stroke=\"black\" points=\"174.5,-46.1 171,-36.1 167.5,-46.1 174.5,-46.1\"/>\n</g>\n</g>\n</svg>\n",
            "text/plain": [
              "<graphviz.graphs.Digraph at 0x7d8f4057e560>"
            ]
          },
          "metadata": {},
          "execution_count": 1346
        }
      ],
      "source": [
        "# Create Digraph object\n",
        "dot = Digraph()\n",
        "\n",
        "# Add nodes\n",
        "dot.node('1')\n",
        "dot.node('3')\n",
        "dot.node('2')\n",
        "dot.node('5')\n",
        "dot.node('6')\n",
        "dot.node('7')\n",
        "\n",
        "# Add edges\n",
        "dot.edges(['12', '13', '35', '15', '21', '37', '36', '26'])\n",
        "\n",
        "# Visualize the graph\n",
        "dot"
      ]
    },
    {
      "cell_type": "markdown",
      "id": "9ef3277e",
      "metadata": {
        "id": "9ef3277e"
      },
      "source": [
        "***"
      ]
    },
    {
      "cell_type": "markdown",
      "id": "657f5146",
      "metadata": {
        "id": "657f5146"
      },
      "source": [
        "### Section 2: Creating a Binary Search Tree"
      ]
    },
    {
      "cell_type": "markdown",
      "id": "090921d3",
      "metadata": {
        "id": "090921d3"
      },
      "source": [
        "Let us start by creating a BST"
      ]
    },
    {
      "cell_type": "markdown",
      "id": "96b0985c",
      "metadata": {
        "id": "96b0985c"
      },
      "source": [
        "We will keep code simple in the sense that we will make a node class, and then build functions outside the class to implement various functionality."
      ]
    },
    {
      "cell_type": "code",
      "execution_count": null,
      "id": "fc9711e4",
      "metadata": {
        "id": "fc9711e4"
      },
      "outputs": [],
      "source": [
        "class Node:\n",
        "\n",
        "    def __init__(self, value):\n",
        "\n",
        "        self.val = value\n",
        "        self.right = None\n",
        "        self.left = None\n",
        "\n",
        "\n",
        "def buildBinaryTree(nodes):\n",
        "\n",
        "    if len(nodes) == 0:\n",
        "        raise ValueError('list is empty')\n",
        "\n",
        "    return binaryTree(nodes, 0, len(nodes) - 1)\n",
        "\n",
        "def binaryTree(nodes, start, end):\n",
        "\n",
        "    if start > end:\n",
        "        return\n",
        "\n",
        "    middle = (start + end) // 2\n",
        "    root = Node(nodes[middle])\n",
        "    root.left = binaryTree(nodes, start, middle - 1)\n",
        "    root.right = binaryTree(nodes, middle + 1, end)\n",
        "\n",
        "    return root"
      ]
    },
    {
      "cell_type": "code",
      "execution_count": null,
      "id": "f6673a70",
      "metadata": {
        "id": "f6673a70"
      },
      "outputs": [],
      "source": [
        "test1 = [1, 2, 3, 4, 5, 6, 7, 8]\n",
        "test2 = [-1, 0, 9, 10]"
      ]
    },
    {
      "cell_type": "code",
      "execution_count": null,
      "id": "61844dee",
      "metadata": {
        "id": "61844dee"
      },
      "outputs": [],
      "source": [
        "test1_tree = buildBinaryTree(test1)\n",
        "test2_tree = buildBinaryTree(test2)"
      ]
    },
    {
      "cell_type": "markdown",
      "id": "b04fe14f",
      "metadata": {
        "id": "b04fe14f"
      },
      "source": [
        "We will make the simpler assumption that all the keys are unique when we are inserting"
      ]
    },
    {
      "cell_type": "code",
      "execution_count": null,
      "id": "508e47ad",
      "metadata": {
        "id": "508e47ad"
      },
      "outputs": [],
      "source": [
        "test3 = [0, 1, 2, 3, 3, 3, 5]\n",
        "test3 = np.unique(test3)"
      ]
    },
    {
      "cell_type": "code",
      "execution_count": null,
      "id": "58d627f7",
      "metadata": {
        "id": "58d627f7"
      },
      "outputs": [],
      "source": [
        "test3_tree = buildBinaryTree(test3)"
      ]
    },
    {
      "cell_type": "markdown",
      "id": "a5662c0b",
      "metadata": {
        "id": "a5662c0b"
      },
      "source": [
        "Okay now that we have build three trees, let us visualize them. For visualization, we will have to write another function."
      ]
    },
    {
      "cell_type": "code",
      "execution_count": null,
      "id": "a4524de8",
      "metadata": {
        "id": "a4524de8"
      },
      "outputs": [],
      "source": [
        "def visualize_tree(tree):\n",
        "\n",
        "    def add_nodes_edges(tree, dot=None):\n",
        "        # Create Digraph object\n",
        "        if dot is None:\n",
        "            dot = Digraph()\n",
        "            dot.node(name=str(tree), label=str(tree.val))\n",
        "\n",
        "        # Add nodes\n",
        "        if tree.left:\n",
        "            dot.node(name=str(tree.left) ,label=str(tree.left.val))\n",
        "            dot.edge(str(tree), str(tree.left))\n",
        "            dot = add_nodes_edges(tree.left, dot=dot)\n",
        "\n",
        "        if tree.right:\n",
        "            dot.node(name=str(tree.right) ,label=str(tree.right.val))\n",
        "            dot.edge(str(tree), str(tree.right))\n",
        "            dot = add_nodes_edges(tree.right, dot=dot)\n",
        "\n",
        "        return dot\n",
        "\n",
        "    # Add nodes recursively and create a list of edges\n",
        "    dot = add_nodes_edges(tree)\n",
        "\n",
        "    # Visualize the graph\n",
        "    display(dot)\n",
        "\n",
        "    return dot"
      ]
    },
    {
      "cell_type": "code",
      "execution_count": null,
      "id": "55ca6fe6",
      "metadata": {
        "colab": {
          "base_uri": "https://localhost:8080/",
          "height": 368
        },
        "id": "55ca6fe6",
        "outputId": "7f8a95cd-4f77-450f-a4cd-de357524db5f"
      },
      "outputs": [
        {
          "output_type": "display_data",
          "data": {
            "image/svg+xml": "<?xml version=\"1.0\" encoding=\"UTF-8\" standalone=\"no\"?>\n<!DOCTYPE svg PUBLIC \"-//W3C//DTD SVG 1.1//EN\"\n \"http://www.w3.org/Graphics/SVG/1.1/DTD/svg11.dtd\">\n<!-- Generated by graphviz version 2.43.0 (0)\n -->\n<!-- Title: %3 Pages: 1 -->\n<svg width=\"278pt\" height=\"260pt\"\n viewBox=\"0.00 0.00 278.00 260.00\" xmlns=\"http://www.w3.org/2000/svg\" xmlns:xlink=\"http://www.w3.org/1999/xlink\">\n<g id=\"graph0\" class=\"graph\" transform=\"scale(1 1) rotate(0) translate(4 256)\">\n<title>%3</title>\n<polygon fill=\"white\" stroke=\"transparent\" points=\"-4,4 -4,-256 274,-256 274,4 -4,4\"/>\n<!-- __main__.Node object at 0x7d8f31aad2d0 -->\n<g id=\"node1\" class=\"node\">\n<title>__main__.Node object at 0x7d8f31aad2d0</title>\n<ellipse fill=\"none\" stroke=\"black\" cx=\"135\" cy=\"-234\" rx=\"27\" ry=\"18\"/>\n<text text-anchor=\"middle\" x=\"135\" y=\"-230.3\" font-family=\"Times,serif\" font-size=\"14.00\">4</text>\n</g>\n<!-- __main__.Node object at 0x7d8f31aafc10 -->\n<g id=\"node2\" class=\"node\">\n<title>__main__.Node object at 0x7d8f31aafc10</title>\n<ellipse fill=\"none\" stroke=\"black\" cx=\"99\" cy=\"-162\" rx=\"27\" ry=\"18\"/>\n<text text-anchor=\"middle\" x=\"99\" y=\"-158.3\" font-family=\"Times,serif\" font-size=\"14.00\">2</text>\n</g>\n<!-- __main__.Node object at 0x7d8f31aad2d0&#45;&gt;__main__.Node object at 0x7d8f31aafc10 -->\n<g id=\"edge1\" class=\"edge\">\n<title>__main__.Node object at 0x7d8f31aad2d0&#45;&gt;__main__.Node object at 0x7d8f31aafc10</title>\n<path fill=\"none\" stroke=\"black\" d=\"M126.65,-216.76C122.29,-208.28 116.85,-197.71 111.96,-188.2\"/>\n<polygon fill=\"black\" stroke=\"black\" points=\"114.99,-186.44 107.3,-179.15 108.77,-189.64 114.99,-186.44\"/>\n</g>\n<!-- __main__.Node object at 0x7d8f31aafaf0 -->\n<g id=\"node5\" class=\"node\">\n<title>__main__.Node object at 0x7d8f31aafaf0</title>\n<ellipse fill=\"none\" stroke=\"black\" cx=\"171\" cy=\"-162\" rx=\"27\" ry=\"18\"/>\n<text text-anchor=\"middle\" x=\"171\" y=\"-158.3\" font-family=\"Times,serif\" font-size=\"14.00\">6</text>\n</g>\n<!-- __main__.Node object at 0x7d8f31aad2d0&#45;&gt;__main__.Node object at 0x7d8f31aafaf0 -->\n<g id=\"edge4\" class=\"edge\">\n<title>__main__.Node object at 0x7d8f31aad2d0&#45;&gt;__main__.Node object at 0x7d8f31aafaf0</title>\n<path fill=\"none\" stroke=\"black\" d=\"M143.35,-216.76C147.71,-208.28 153.15,-197.71 158.04,-188.2\"/>\n<polygon fill=\"black\" stroke=\"black\" points=\"161.23,-189.64 162.7,-179.15 155.01,-186.44 161.23,-189.64\"/>\n</g>\n<!-- __main__.Node object at 0x7d8f31aad330 -->\n<g id=\"node3\" class=\"node\">\n<title>__main__.Node object at 0x7d8f31aad330</title>\n<ellipse fill=\"none\" stroke=\"black\" cx=\"27\" cy=\"-90\" rx=\"27\" ry=\"18\"/>\n<text text-anchor=\"middle\" x=\"27\" y=\"-86.3\" font-family=\"Times,serif\" font-size=\"14.00\">1</text>\n</g>\n<!-- __main__.Node object at 0x7d8f31aafc10&#45;&gt;__main__.Node object at 0x7d8f31aad330 -->\n<g id=\"edge2\" class=\"edge\">\n<title>__main__.Node object at 0x7d8f31aafc10&#45;&gt;__main__.Node object at 0x7d8f31aad330</title>\n<path fill=\"none\" stroke=\"black\" d=\"M84.43,-146.83C74.25,-136.94 60.48,-123.55 48.97,-112.36\"/>\n<polygon fill=\"black\" stroke=\"black\" points=\"51.41,-109.85 41.8,-105.38 46.53,-114.87 51.41,-109.85\"/>\n</g>\n<!-- __main__.Node object at 0x7d8f31aae860 -->\n<g id=\"node4\" class=\"node\">\n<title>__main__.Node object at 0x7d8f31aae860</title>\n<ellipse fill=\"none\" stroke=\"black\" cx=\"99\" cy=\"-90\" rx=\"27\" ry=\"18\"/>\n<text text-anchor=\"middle\" x=\"99\" y=\"-86.3\" font-family=\"Times,serif\" font-size=\"14.00\">3</text>\n</g>\n<!-- __main__.Node object at 0x7d8f31aafc10&#45;&gt;__main__.Node object at 0x7d8f31aae860 -->\n<g id=\"edge3\" class=\"edge\">\n<title>__main__.Node object at 0x7d8f31aafc10&#45;&gt;__main__.Node object at 0x7d8f31aae860</title>\n<path fill=\"none\" stroke=\"black\" d=\"M99,-143.7C99,-135.98 99,-126.71 99,-118.11\"/>\n<polygon fill=\"black\" stroke=\"black\" points=\"102.5,-118.1 99,-108.1 95.5,-118.1 102.5,-118.1\"/>\n</g>\n<!-- __main__.Node object at 0x7d8f31aadc60 -->\n<g id=\"node6\" class=\"node\">\n<title>__main__.Node object at 0x7d8f31aadc60</title>\n<ellipse fill=\"none\" stroke=\"black\" cx=\"171\" cy=\"-90\" rx=\"27\" ry=\"18\"/>\n<text text-anchor=\"middle\" x=\"171\" y=\"-86.3\" font-family=\"Times,serif\" font-size=\"14.00\">5</text>\n</g>\n<!-- __main__.Node object at 0x7d8f31aafaf0&#45;&gt;__main__.Node object at 0x7d8f31aadc60 -->\n<g id=\"edge5\" class=\"edge\">\n<title>__main__.Node object at 0x7d8f31aafaf0&#45;&gt;__main__.Node object at 0x7d8f31aadc60</title>\n<path fill=\"none\" stroke=\"black\" d=\"M171,-143.7C171,-135.98 171,-126.71 171,-118.11\"/>\n<polygon fill=\"black\" stroke=\"black\" points=\"174.5,-118.1 171,-108.1 167.5,-118.1 174.5,-118.1\"/>\n</g>\n<!-- __main__.Node object at 0x7d8f31aacee0 -->\n<g id=\"node7\" class=\"node\">\n<title>__main__.Node object at 0x7d8f31aacee0</title>\n<ellipse fill=\"none\" stroke=\"black\" cx=\"243\" cy=\"-90\" rx=\"27\" ry=\"18\"/>\n<text text-anchor=\"middle\" x=\"243\" y=\"-86.3\" font-family=\"Times,serif\" font-size=\"14.00\">7</text>\n</g>\n<!-- __main__.Node object at 0x7d8f31aafaf0&#45;&gt;__main__.Node object at 0x7d8f31aacee0 -->\n<g id=\"edge6\" class=\"edge\">\n<title>__main__.Node object at 0x7d8f31aafaf0&#45;&gt;__main__.Node object at 0x7d8f31aacee0</title>\n<path fill=\"none\" stroke=\"black\" d=\"M185.57,-146.83C195.75,-136.94 209.52,-123.55 221.03,-112.36\"/>\n<polygon fill=\"black\" stroke=\"black\" points=\"223.47,-114.87 228.2,-105.38 218.59,-109.85 223.47,-114.87\"/>\n</g>\n<!-- __main__.Node object at 0x7d8f31aae320 -->\n<g id=\"node8\" class=\"node\">\n<title>__main__.Node object at 0x7d8f31aae320</title>\n<ellipse fill=\"none\" stroke=\"black\" cx=\"243\" cy=\"-18\" rx=\"27\" ry=\"18\"/>\n<text text-anchor=\"middle\" x=\"243\" y=\"-14.3\" font-family=\"Times,serif\" font-size=\"14.00\">8</text>\n</g>\n<!-- __main__.Node object at 0x7d8f31aacee0&#45;&gt;__main__.Node object at 0x7d8f31aae320 -->\n<g id=\"edge7\" class=\"edge\">\n<title>__main__.Node object at 0x7d8f31aacee0&#45;&gt;__main__.Node object at 0x7d8f31aae320</title>\n<path fill=\"none\" stroke=\"black\" d=\"M243,-71.7C243,-63.98 243,-54.71 243,-46.11\"/>\n<polygon fill=\"black\" stroke=\"black\" points=\"246.5,-46.1 243,-36.1 239.5,-46.1 246.5,-46.1\"/>\n</g>\n</g>\n</svg>\n",
            "text/plain": [
              "<graphviz.graphs.Digraph at 0x7d8f4057fc40>"
            ]
          },
          "metadata": {}
        }
      ],
      "source": [
        "dot = visualize_tree(test1_tree)"
      ]
    },
    {
      "cell_type": "code",
      "execution_count": null,
      "id": "9d55d1a9",
      "metadata": {
        "colab": {
          "base_uri": "https://localhost:8080/",
          "height": 272
        },
        "id": "9d55d1a9",
        "outputId": "2ccb6158-2aff-45a9-dbd4-4168365e94e4"
      },
      "outputs": [
        {
          "output_type": "display_data",
          "data": {
            "image/svg+xml": "<?xml version=\"1.0\" encoding=\"UTF-8\" standalone=\"no\"?>\n<!DOCTYPE svg PUBLIC \"-//W3C//DTD SVG 1.1//EN\"\n \"http://www.w3.org/Graphics/SVG/1.1/DTD/svg11.dtd\">\n<!-- Generated by graphviz version 2.43.0 (0)\n -->\n<!-- Title: %3 Pages: 1 -->\n<svg width=\"134pt\" height=\"188pt\"\n viewBox=\"0.00 0.00 134.00 188.00\" xmlns=\"http://www.w3.org/2000/svg\" xmlns:xlink=\"http://www.w3.org/1999/xlink\">\n<g id=\"graph0\" class=\"graph\" transform=\"scale(1 1) rotate(0) translate(4 184)\">\n<title>%3</title>\n<polygon fill=\"white\" stroke=\"transparent\" points=\"-4,4 -4,-184 130,-184 130,4 -4,4\"/>\n<!-- __main__.Node object at 0x7d8f31aaf250 -->\n<g id=\"node1\" class=\"node\">\n<title>__main__.Node object at 0x7d8f31aaf250</title>\n<ellipse fill=\"none\" stroke=\"black\" cx=\"63\" cy=\"-162\" rx=\"27\" ry=\"18\"/>\n<text text-anchor=\"middle\" x=\"63\" y=\"-158.3\" font-family=\"Times,serif\" font-size=\"14.00\">0</text>\n</g>\n<!-- __main__.Node object at 0x7d8f31aad0f0 -->\n<g id=\"node2\" class=\"node\">\n<title>__main__.Node object at 0x7d8f31aad0f0</title>\n<ellipse fill=\"none\" stroke=\"black\" cx=\"27\" cy=\"-90\" rx=\"27\" ry=\"18\"/>\n<text text-anchor=\"middle\" x=\"27\" y=\"-86.3\" font-family=\"Times,serif\" font-size=\"14.00\">&#45;1</text>\n</g>\n<!-- __main__.Node object at 0x7d8f31aaf250&#45;&gt;__main__.Node object at 0x7d8f31aad0f0 -->\n<g id=\"edge1\" class=\"edge\">\n<title>__main__.Node object at 0x7d8f31aaf250&#45;&gt;__main__.Node object at 0x7d8f31aad0f0</title>\n<path fill=\"none\" stroke=\"black\" d=\"M54.65,-144.76C50.29,-136.28 44.85,-125.71 39.96,-116.2\"/>\n<polygon fill=\"black\" stroke=\"black\" points=\"42.99,-114.44 35.3,-107.15 36.77,-117.64 42.99,-114.44\"/>\n</g>\n<!-- __main__.Node object at 0x7d8f31aad540 -->\n<g id=\"node3\" class=\"node\">\n<title>__main__.Node object at 0x7d8f31aad540</title>\n<ellipse fill=\"none\" stroke=\"black\" cx=\"99\" cy=\"-90\" rx=\"27\" ry=\"18\"/>\n<text text-anchor=\"middle\" x=\"99\" y=\"-86.3\" font-family=\"Times,serif\" font-size=\"14.00\">9</text>\n</g>\n<!-- __main__.Node object at 0x7d8f31aaf250&#45;&gt;__main__.Node object at 0x7d8f31aad540 -->\n<g id=\"edge2\" class=\"edge\">\n<title>__main__.Node object at 0x7d8f31aaf250&#45;&gt;__main__.Node object at 0x7d8f31aad540</title>\n<path fill=\"none\" stroke=\"black\" d=\"M71.35,-144.76C75.71,-136.28 81.15,-125.71 86.04,-116.2\"/>\n<polygon fill=\"black\" stroke=\"black\" points=\"89.23,-117.64 90.7,-107.15 83.01,-114.44 89.23,-117.64\"/>\n</g>\n<!-- __main__.Node object at 0x7d8f31aac280 -->\n<g id=\"node4\" class=\"node\">\n<title>__main__.Node object at 0x7d8f31aac280</title>\n<ellipse fill=\"none\" stroke=\"black\" cx=\"99\" cy=\"-18\" rx=\"27\" ry=\"18\"/>\n<text text-anchor=\"middle\" x=\"99\" y=\"-14.3\" font-family=\"Times,serif\" font-size=\"14.00\">10</text>\n</g>\n<!-- __main__.Node object at 0x7d8f31aad540&#45;&gt;__main__.Node object at 0x7d8f31aac280 -->\n<g id=\"edge3\" class=\"edge\">\n<title>__main__.Node object at 0x7d8f31aad540&#45;&gt;__main__.Node object at 0x7d8f31aac280</title>\n<path fill=\"none\" stroke=\"black\" d=\"M99,-71.7C99,-63.98 99,-54.71 99,-46.11\"/>\n<polygon fill=\"black\" stroke=\"black\" points=\"102.5,-46.1 99,-36.1 95.5,-46.1 102.5,-46.1\"/>\n</g>\n</g>\n</svg>\n",
            "text/plain": [
              "<graphviz.graphs.Digraph at 0x7d8f4057ec50>"
            ]
          },
          "metadata": {}
        }
      ],
      "source": [
        "dot = visualize_tree(test2_tree)"
      ]
    },
    {
      "cell_type": "code",
      "execution_count": null,
      "id": "5596016b",
      "metadata": {
        "colab": {
          "base_uri": "https://localhost:8080/",
          "height": 272
        },
        "id": "5596016b",
        "outputId": "7e9807cf-33cc-43a3-efbc-e0b6ea55a466"
      },
      "outputs": [
        {
          "output_type": "display_data",
          "data": {
            "image/svg+xml": "<?xml version=\"1.0\" encoding=\"UTF-8\" standalone=\"no\"?>\n<!DOCTYPE svg PUBLIC \"-//W3C//DTD SVG 1.1//EN\"\n \"http://www.w3.org/Graphics/SVG/1.1/DTD/svg11.dtd\">\n<!-- Generated by graphviz version 2.43.0 (0)\n -->\n<!-- Title: %3 Pages: 1 -->\n<svg width=\"134pt\" height=\"188pt\"\n viewBox=\"0.00 0.00 134.00 188.00\" xmlns=\"http://www.w3.org/2000/svg\" xmlns:xlink=\"http://www.w3.org/1999/xlink\">\n<g id=\"graph0\" class=\"graph\" transform=\"scale(1 1) rotate(0) translate(4 184)\">\n<title>%3</title>\n<polygon fill=\"white\" stroke=\"transparent\" points=\"-4,4 -4,-184 130,-184 130,4 -4,4\"/>\n<!-- __main__.Node object at 0x7d8f31aac760 -->\n<g id=\"node1\" class=\"node\">\n<title>__main__.Node object at 0x7d8f31aac760</title>\n<ellipse fill=\"none\" stroke=\"black\" cx=\"63\" cy=\"-162\" rx=\"27\" ry=\"18\"/>\n<text text-anchor=\"middle\" x=\"63\" y=\"-158.3\" font-family=\"Times,serif\" font-size=\"14.00\">2</text>\n</g>\n<!-- __main__.Node object at 0x7d8f31aad990 -->\n<g id=\"node2\" class=\"node\">\n<title>__main__.Node object at 0x7d8f31aad990</title>\n<ellipse fill=\"none\" stroke=\"black\" cx=\"27\" cy=\"-90\" rx=\"27\" ry=\"18\"/>\n<text text-anchor=\"middle\" x=\"27\" y=\"-86.3\" font-family=\"Times,serif\" font-size=\"14.00\">0</text>\n</g>\n<!-- __main__.Node object at 0x7d8f31aac760&#45;&gt;__main__.Node object at 0x7d8f31aad990 -->\n<g id=\"edge1\" class=\"edge\">\n<title>__main__.Node object at 0x7d8f31aac760&#45;&gt;__main__.Node object at 0x7d8f31aad990</title>\n<path fill=\"none\" stroke=\"black\" d=\"M54.65,-144.76C50.29,-136.28 44.85,-125.71 39.96,-116.2\"/>\n<polygon fill=\"black\" stroke=\"black\" points=\"42.99,-114.44 35.3,-107.15 36.77,-117.64 42.99,-114.44\"/>\n</g>\n<!-- __main__.Node object at 0x7d8f31aaf010 -->\n<g id=\"node4\" class=\"node\">\n<title>__main__.Node object at 0x7d8f31aaf010</title>\n<ellipse fill=\"none\" stroke=\"black\" cx=\"99\" cy=\"-90\" rx=\"27\" ry=\"18\"/>\n<text text-anchor=\"middle\" x=\"99\" y=\"-86.3\" font-family=\"Times,serif\" font-size=\"14.00\">3</text>\n</g>\n<!-- __main__.Node object at 0x7d8f31aac760&#45;&gt;__main__.Node object at 0x7d8f31aaf010 -->\n<g id=\"edge3\" class=\"edge\">\n<title>__main__.Node object at 0x7d8f31aac760&#45;&gt;__main__.Node object at 0x7d8f31aaf010</title>\n<path fill=\"none\" stroke=\"black\" d=\"M71.35,-144.76C75.71,-136.28 81.15,-125.71 86.04,-116.2\"/>\n<polygon fill=\"black\" stroke=\"black\" points=\"89.23,-117.64 90.7,-107.15 83.01,-114.44 89.23,-117.64\"/>\n</g>\n<!-- __main__.Node object at 0x7d8f31aadae0 -->\n<g id=\"node3\" class=\"node\">\n<title>__main__.Node object at 0x7d8f31aadae0</title>\n<ellipse fill=\"none\" stroke=\"black\" cx=\"27\" cy=\"-18\" rx=\"27\" ry=\"18\"/>\n<text text-anchor=\"middle\" x=\"27\" y=\"-14.3\" font-family=\"Times,serif\" font-size=\"14.00\">1</text>\n</g>\n<!-- __main__.Node object at 0x7d8f31aad990&#45;&gt;__main__.Node object at 0x7d8f31aadae0 -->\n<g id=\"edge2\" class=\"edge\">\n<title>__main__.Node object at 0x7d8f31aad990&#45;&gt;__main__.Node object at 0x7d8f31aadae0</title>\n<path fill=\"none\" stroke=\"black\" d=\"M27,-71.7C27,-63.98 27,-54.71 27,-46.11\"/>\n<polygon fill=\"black\" stroke=\"black\" points=\"30.5,-46.1 27,-36.1 23.5,-46.1 30.5,-46.1\"/>\n</g>\n<!-- __main__.Node object at 0x7d8f31aadbd0 -->\n<g id=\"node5\" class=\"node\">\n<title>__main__.Node object at 0x7d8f31aadbd0</title>\n<ellipse fill=\"none\" stroke=\"black\" cx=\"99\" cy=\"-18\" rx=\"27\" ry=\"18\"/>\n<text text-anchor=\"middle\" x=\"99\" y=\"-14.3\" font-family=\"Times,serif\" font-size=\"14.00\">5</text>\n</g>\n<!-- __main__.Node object at 0x7d8f31aaf010&#45;&gt;__main__.Node object at 0x7d8f31aadbd0 -->\n<g id=\"edge4\" class=\"edge\">\n<title>__main__.Node object at 0x7d8f31aaf010&#45;&gt;__main__.Node object at 0x7d8f31aadbd0</title>\n<path fill=\"none\" stroke=\"black\" d=\"M99,-71.7C99,-63.98 99,-54.71 99,-46.11\"/>\n<polygon fill=\"black\" stroke=\"black\" points=\"102.5,-46.1 99,-36.1 95.5,-46.1 102.5,-46.1\"/>\n</g>\n</g>\n</svg>\n",
            "text/plain": [
              "<graphviz.graphs.Digraph at 0x7d8f4057f0d0>"
            ]
          },
          "metadata": {}
        }
      ],
      "source": [
        "dot = visualize_tree(test3_tree)"
      ]
    },
    {
      "cell_type": "markdown",
      "id": "679135ba",
      "metadata": {
        "id": "679135ba"
      },
      "source": [
        "***"
      ]
    },
    {
      "cell_type": "markdown",
      "id": "e7b3ec46",
      "metadata": {
        "id": "e7b3ec46"
      },
      "source": [
        "### Section 3: Implementing Search, Insert and Delete Operations"
      ]
    },
    {
      "cell_type": "markdown",
      "id": "08f4c3ee",
      "metadata": {
        "id": "08f4c3ee"
      },
      "source": [
        "Let us implement IDS operations on the BST we have built"
      ]
    },
    {
      "cell_type": "markdown",
      "id": "b07d8136",
      "metadata": {
        "id": "b07d8136"
      },
      "source": [
        "Search operation should look like:"
      ]
    },
    {
      "cell_type": "code",
      "execution_count": null,
      "id": "e4d264b9",
      "metadata": {
        "id": "e4d264b9"
      },
      "outputs": [],
      "source": [
        "def search(nodes, val):\n",
        "\n",
        "    if val == nodes.val:\n",
        "        return True\n",
        "\n",
        "    if val < nodes.val:\n",
        "\n",
        "        if nodes.left == None:\n",
        "            return False\n",
        "\n",
        "        return search(nodes.left, val)\n",
        "\n",
        "    elif val >= nodes.val:\n",
        "\n",
        "        if nodes.right == None:\n",
        "            return False\n",
        "\n",
        "        return search(nodes.right, val)"
      ]
    },
    {
      "cell_type": "code",
      "execution_count": null,
      "id": "facb622b",
      "metadata": {
        "colab": {
          "base_uri": "https://localhost:8080/"
        },
        "id": "facb622b",
        "outputId": "17ffd0be-398d-4e38-9fb7-b796b8f92e02"
      },
      "outputs": [
        {
          "output_type": "execute_result",
          "data": {
            "text/plain": [
              "True"
            ]
          },
          "metadata": {},
          "execution_count": 1357
        }
      ],
      "source": [
        "search(test3_tree, 3)"
      ]
    },
    {
      "cell_type": "code",
      "execution_count": null,
      "id": "48de85cf",
      "metadata": {
        "colab": {
          "base_uri": "https://localhost:8080/"
        },
        "id": "48de85cf",
        "outputId": "54c6b1fb-acc3-40d9-b70d-ee464d396a25"
      },
      "outputs": [
        {
          "output_type": "execute_result",
          "data": {
            "text/plain": [
              "False"
            ]
          },
          "metadata": {},
          "execution_count": 1358
        }
      ],
      "source": [
        "search(test1_tree, 18)"
      ]
    },
    {
      "cell_type": "markdown",
      "id": "5e11e2e0",
      "metadata": {
        "id": "5e11e2e0"
      },
      "source": [
        "Let us write insert function now:"
      ]
    },
    {
      "cell_type": "code",
      "execution_count": null,
      "id": "8fca8d65",
      "metadata": {
        "id": "8fca8d65"
      },
      "outputs": [],
      "source": [
        "def insert(nodes, val):\n",
        "\n",
        "    # Empty Tree\n",
        "    if nodes == None:\n",
        "        nodes = Node(val)\n",
        "        return\n",
        "\n",
        "    # Value already exist on the node\n",
        "    if nodes.val == val:\n",
        "        return\n",
        "\n",
        "    if val < nodes.val:\n",
        "\n",
        "        if nodes.left == None:\n",
        "            nodes.left = Node(val)\n",
        "            return\n",
        "        else:\n",
        "            insert(nodes.left, val)\n",
        "            return\n",
        "\n",
        "    elif val >= nodes.val:\n",
        "\n",
        "        if nodes.right == None:\n",
        "            nodes.right = Node(val)\n",
        "            return\n",
        "        else:\n",
        "            insert(nodes.right, val)\n",
        "            return"
      ]
    },
    {
      "cell_type": "code",
      "execution_count": null,
      "id": "8df84f57",
      "metadata": {
        "colab": {
          "base_uri": "https://localhost:8080/",
          "height": 272
        },
        "id": "8df84f57",
        "outputId": "72fc759e-e538-40d1-fffd-93bb01180cfe"
      },
      "outputs": [
        {
          "output_type": "display_data",
          "data": {
            "image/svg+xml": "<?xml version=\"1.0\" encoding=\"UTF-8\" standalone=\"no\"?>\n<!DOCTYPE svg PUBLIC \"-//W3C//DTD SVG 1.1//EN\"\n \"http://www.w3.org/Graphics/SVG/1.1/DTD/svg11.dtd\">\n<!-- Generated by graphviz version 2.43.0 (0)\n -->\n<!-- Title: %3 Pages: 1 -->\n<svg width=\"134pt\" height=\"188pt\"\n viewBox=\"0.00 0.00 134.00 188.00\" xmlns=\"http://www.w3.org/2000/svg\" xmlns:xlink=\"http://www.w3.org/1999/xlink\">\n<g id=\"graph0\" class=\"graph\" transform=\"scale(1 1) rotate(0) translate(4 184)\">\n<title>%3</title>\n<polygon fill=\"white\" stroke=\"transparent\" points=\"-4,4 -4,-184 130,-184 130,4 -4,4\"/>\n<!-- __main__.Node object at 0x7d8f31aaf2b0 -->\n<g id=\"node1\" class=\"node\">\n<title>__main__.Node object at 0x7d8f31aaf2b0</title>\n<ellipse fill=\"none\" stroke=\"black\" cx=\"63\" cy=\"-162\" rx=\"27\" ry=\"18\"/>\n<text text-anchor=\"middle\" x=\"63\" y=\"-158.3\" font-family=\"Times,serif\" font-size=\"14.00\">2</text>\n</g>\n<!-- __main__.Node object at 0x7d8f31aacd90 -->\n<g id=\"node2\" class=\"node\">\n<title>__main__.Node object at 0x7d8f31aacd90</title>\n<ellipse fill=\"none\" stroke=\"black\" cx=\"27\" cy=\"-90\" rx=\"27\" ry=\"18\"/>\n<text text-anchor=\"middle\" x=\"27\" y=\"-86.3\" font-family=\"Times,serif\" font-size=\"14.00\">0</text>\n</g>\n<!-- __main__.Node object at 0x7d8f31aaf2b0&#45;&gt;__main__.Node object at 0x7d8f31aacd90 -->\n<g id=\"edge1\" class=\"edge\">\n<title>__main__.Node object at 0x7d8f31aaf2b0&#45;&gt;__main__.Node object at 0x7d8f31aacd90</title>\n<path fill=\"none\" stroke=\"black\" d=\"M54.65,-144.76C50.29,-136.28 44.85,-125.71 39.96,-116.2\"/>\n<polygon fill=\"black\" stroke=\"black\" points=\"42.99,-114.44 35.3,-107.15 36.77,-117.64 42.99,-114.44\"/>\n</g>\n<!-- __main__.Node object at 0x7d8f31aaeb30 -->\n<g id=\"node4\" class=\"node\">\n<title>__main__.Node object at 0x7d8f31aaeb30</title>\n<ellipse fill=\"none\" stroke=\"black\" cx=\"99\" cy=\"-90\" rx=\"27\" ry=\"18\"/>\n<text text-anchor=\"middle\" x=\"99\" y=\"-86.3\" font-family=\"Times,serif\" font-size=\"14.00\">3</text>\n</g>\n<!-- __main__.Node object at 0x7d8f31aaf2b0&#45;&gt;__main__.Node object at 0x7d8f31aaeb30 -->\n<g id=\"edge3\" class=\"edge\">\n<title>__main__.Node object at 0x7d8f31aaf2b0&#45;&gt;__main__.Node object at 0x7d8f31aaeb30</title>\n<path fill=\"none\" stroke=\"black\" d=\"M71.35,-144.76C75.71,-136.28 81.15,-125.71 86.04,-116.2\"/>\n<polygon fill=\"black\" stroke=\"black\" points=\"89.23,-117.64 90.7,-107.15 83.01,-114.44 89.23,-117.64\"/>\n</g>\n<!-- __main__.Node object at 0x7d8f31aac880 -->\n<g id=\"node3\" class=\"node\">\n<title>__main__.Node object at 0x7d8f31aac880</title>\n<ellipse fill=\"none\" stroke=\"black\" cx=\"27\" cy=\"-18\" rx=\"27\" ry=\"18\"/>\n<text text-anchor=\"middle\" x=\"27\" y=\"-14.3\" font-family=\"Times,serif\" font-size=\"14.00\">1</text>\n</g>\n<!-- __main__.Node object at 0x7d8f31aacd90&#45;&gt;__main__.Node object at 0x7d8f31aac880 -->\n<g id=\"edge2\" class=\"edge\">\n<title>__main__.Node object at 0x7d8f31aacd90&#45;&gt;__main__.Node object at 0x7d8f31aac880</title>\n<path fill=\"none\" stroke=\"black\" d=\"M27,-71.7C27,-63.98 27,-54.71 27,-46.11\"/>\n<polygon fill=\"black\" stroke=\"black\" points=\"30.5,-46.1 27,-36.1 23.5,-46.1 30.5,-46.1\"/>\n</g>\n<!-- __main__.Node object at 0x7d8f31aafac0 -->\n<g id=\"node5\" class=\"node\">\n<title>__main__.Node object at 0x7d8f31aafac0</title>\n<ellipse fill=\"none\" stroke=\"black\" cx=\"99\" cy=\"-18\" rx=\"27\" ry=\"18\"/>\n<text text-anchor=\"middle\" x=\"99\" y=\"-14.3\" font-family=\"Times,serif\" font-size=\"14.00\">5</text>\n</g>\n<!-- __main__.Node object at 0x7d8f31aaeb30&#45;&gt;__main__.Node object at 0x7d8f31aafac0 -->\n<g id=\"edge4\" class=\"edge\">\n<title>__main__.Node object at 0x7d8f31aaeb30&#45;&gt;__main__.Node object at 0x7d8f31aafac0</title>\n<path fill=\"none\" stroke=\"black\" d=\"M99,-71.7C99,-63.98 99,-54.71 99,-46.11\"/>\n<polygon fill=\"black\" stroke=\"black\" points=\"102.5,-46.1 99,-36.1 95.5,-46.1 102.5,-46.1\"/>\n</g>\n</g>\n</svg>\n",
            "text/plain": [
              "<graphviz.graphs.Digraph at 0x7d8f31aaed40>"
            ]
          },
          "metadata": {}
        }
      ],
      "source": [
        "test3 = [0, 1, 2, 3, 3, 3, 5]\n",
        "test3 = np.unique(test3)\n",
        "\n",
        "test3_tree = buildBinaryTree(test3)\n",
        "dot = visualize_tree(test3_tree)"
      ]
    },
    {
      "cell_type": "code",
      "execution_count": null,
      "id": "c483c78b",
      "metadata": {
        "colab": {
          "base_uri": "https://localhost:8080/",
          "height": 272
        },
        "id": "c483c78b",
        "outputId": "ea22106a-47fd-498e-e7eb-c2024adf191a"
      },
      "outputs": [
        {
          "output_type": "display_data",
          "data": {
            "image/svg+xml": "<?xml version=\"1.0\" encoding=\"UTF-8\" standalone=\"no\"?>\n<!DOCTYPE svg PUBLIC \"-//W3C//DTD SVG 1.1//EN\"\n \"http://www.w3.org/Graphics/SVG/1.1/DTD/svg11.dtd\">\n<!-- Generated by graphviz version 2.43.0 (0)\n -->\n<!-- Title: %3 Pages: 1 -->\n<svg width=\"206pt\" height=\"188pt\"\n viewBox=\"0.00 0.00 206.00 188.00\" xmlns=\"http://www.w3.org/2000/svg\" xmlns:xlink=\"http://www.w3.org/1999/xlink\">\n<g id=\"graph0\" class=\"graph\" transform=\"scale(1 1) rotate(0) translate(4 184)\">\n<title>%3</title>\n<polygon fill=\"white\" stroke=\"transparent\" points=\"-4,4 -4,-184 202,-184 202,4 -4,4\"/>\n<!-- __main__.Node object at 0x7d8f31aaf2b0 -->\n<g id=\"node1\" class=\"node\">\n<title>__main__.Node object at 0x7d8f31aaf2b0</title>\n<ellipse fill=\"none\" stroke=\"black\" cx=\"135\" cy=\"-162\" rx=\"27\" ry=\"18\"/>\n<text text-anchor=\"middle\" x=\"135\" y=\"-158.3\" font-family=\"Times,serif\" font-size=\"14.00\">2</text>\n</g>\n<!-- __main__.Node object at 0x7d8f31aacd90 -->\n<g id=\"node2\" class=\"node\">\n<title>__main__.Node object at 0x7d8f31aacd90</title>\n<ellipse fill=\"none\" stroke=\"black\" cx=\"99\" cy=\"-90\" rx=\"27\" ry=\"18\"/>\n<text text-anchor=\"middle\" x=\"99\" y=\"-86.3\" font-family=\"Times,serif\" font-size=\"14.00\">0</text>\n</g>\n<!-- __main__.Node object at 0x7d8f31aaf2b0&#45;&gt;__main__.Node object at 0x7d8f31aacd90 -->\n<g id=\"edge1\" class=\"edge\">\n<title>__main__.Node object at 0x7d8f31aaf2b0&#45;&gt;__main__.Node object at 0x7d8f31aacd90</title>\n<path fill=\"none\" stroke=\"black\" d=\"M126.65,-144.76C122.29,-136.28 116.85,-125.71 111.96,-116.2\"/>\n<polygon fill=\"black\" stroke=\"black\" points=\"114.99,-114.44 107.3,-107.15 108.77,-117.64 114.99,-114.44\"/>\n</g>\n<!-- __main__.Node object at 0x7d8f31aaeb30 -->\n<g id=\"node5\" class=\"node\">\n<title>__main__.Node object at 0x7d8f31aaeb30</title>\n<ellipse fill=\"none\" stroke=\"black\" cx=\"171\" cy=\"-90\" rx=\"27\" ry=\"18\"/>\n<text text-anchor=\"middle\" x=\"171\" y=\"-86.3\" font-family=\"Times,serif\" font-size=\"14.00\">3</text>\n</g>\n<!-- __main__.Node object at 0x7d8f31aaf2b0&#45;&gt;__main__.Node object at 0x7d8f31aaeb30 -->\n<g id=\"edge4\" class=\"edge\">\n<title>__main__.Node object at 0x7d8f31aaf2b0&#45;&gt;__main__.Node object at 0x7d8f31aaeb30</title>\n<path fill=\"none\" stroke=\"black\" d=\"M143.35,-144.76C147.71,-136.28 153.15,-125.71 158.04,-116.2\"/>\n<polygon fill=\"black\" stroke=\"black\" points=\"161.23,-117.64 162.7,-107.15 155.01,-114.44 161.23,-117.64\"/>\n</g>\n<!-- __main__.Node object at 0x7d8f31aafc40 -->\n<g id=\"node3\" class=\"node\">\n<title>__main__.Node object at 0x7d8f31aafc40</title>\n<ellipse fill=\"none\" stroke=\"black\" cx=\"27\" cy=\"-18\" rx=\"27\" ry=\"18\"/>\n<text text-anchor=\"middle\" x=\"27\" y=\"-14.3\" font-family=\"Times,serif\" font-size=\"14.00\">&#45;1.5</text>\n</g>\n<!-- __main__.Node object at 0x7d8f31aacd90&#45;&gt;__main__.Node object at 0x7d8f31aafc40 -->\n<g id=\"edge2\" class=\"edge\">\n<title>__main__.Node object at 0x7d8f31aacd90&#45;&gt;__main__.Node object at 0x7d8f31aafc40</title>\n<path fill=\"none\" stroke=\"black\" d=\"M84.43,-74.83C74.25,-64.94 60.48,-51.55 48.97,-40.36\"/>\n<polygon fill=\"black\" stroke=\"black\" points=\"51.41,-37.85 41.8,-33.38 46.53,-42.87 51.41,-37.85\"/>\n</g>\n<!-- __main__.Node object at 0x7d8f31aac880 -->\n<g id=\"node4\" class=\"node\">\n<title>__main__.Node object at 0x7d8f31aac880</title>\n<ellipse fill=\"none\" stroke=\"black\" cx=\"99\" cy=\"-18\" rx=\"27\" ry=\"18\"/>\n<text text-anchor=\"middle\" x=\"99\" y=\"-14.3\" font-family=\"Times,serif\" font-size=\"14.00\">1</text>\n</g>\n<!-- __main__.Node object at 0x7d8f31aacd90&#45;&gt;__main__.Node object at 0x7d8f31aac880 -->\n<g id=\"edge3\" class=\"edge\">\n<title>__main__.Node object at 0x7d8f31aacd90&#45;&gt;__main__.Node object at 0x7d8f31aac880</title>\n<path fill=\"none\" stroke=\"black\" d=\"M99,-71.7C99,-63.98 99,-54.71 99,-46.11\"/>\n<polygon fill=\"black\" stroke=\"black\" points=\"102.5,-46.1 99,-36.1 95.5,-46.1 102.5,-46.1\"/>\n</g>\n<!-- __main__.Node object at 0x7d8f31aafac0 -->\n<g id=\"node6\" class=\"node\">\n<title>__main__.Node object at 0x7d8f31aafac0</title>\n<ellipse fill=\"none\" stroke=\"black\" cx=\"171\" cy=\"-18\" rx=\"27\" ry=\"18\"/>\n<text text-anchor=\"middle\" x=\"171\" y=\"-14.3\" font-family=\"Times,serif\" font-size=\"14.00\">5</text>\n</g>\n<!-- __main__.Node object at 0x7d8f31aaeb30&#45;&gt;__main__.Node object at 0x7d8f31aafac0 -->\n<g id=\"edge5\" class=\"edge\">\n<title>__main__.Node object at 0x7d8f31aaeb30&#45;&gt;__main__.Node object at 0x7d8f31aafac0</title>\n<path fill=\"none\" stroke=\"black\" d=\"M171,-71.7C171,-63.98 171,-54.71 171,-46.11\"/>\n<polygon fill=\"black\" stroke=\"black\" points=\"174.5,-46.1 171,-36.1 167.5,-46.1 174.5,-46.1\"/>\n</g>\n</g>\n</svg>\n",
            "text/plain": [
              "<graphviz.graphs.Digraph at 0x7d8f31aadf90>"
            ]
          },
          "metadata": {}
        }
      ],
      "source": [
        "insert(test3_tree, -1.5)\n",
        "dot = visualize_tree(test3_tree)"
      ]
    },
    {
      "cell_type": "markdown",
      "id": "d2e36c91",
      "metadata": {
        "id": "d2e36c91"
      },
      "source": [
        "Let us write delete opertion. We will write another function minValueNode as well."
      ]
    },
    {
      "cell_type": "code",
      "execution_count": null,
      "id": "d16f9745",
      "metadata": {
        "id": "d16f9745"
      },
      "outputs": [],
      "source": [
        "def minValueNode(node):\n",
        "    current = node\n",
        "\n",
        "    # loop down to find the leftmost leaf\n",
        "    while(current.left is not None):\n",
        "        current = current.left\n",
        "\n",
        "    return current\n",
        "\n",
        "def delete(nodes, val):\n",
        "\n",
        "    if nodes == None:\n",
        "        return nodes\n",
        "\n",
        "    if val < nodes.val:\n",
        "\n",
        "        #if nodes.left:\n",
        "        nodes.left = delete(nodes.left, val)\n",
        "\n",
        "    elif val > nodes.val:\n",
        "\n",
        "        #if nodes.right:\n",
        "        nodes.right = delete(nodes.right, val)\n",
        "\n",
        "    else:\n",
        "\n",
        "        # Node with only one child or no child\n",
        "\n",
        "        if nodes.left is None:\n",
        "            temp = nodes.right\n",
        "            nodes = None\n",
        "            return temp\n",
        "        elif nodes.right is None:\n",
        "            temp = nodes.left\n",
        "            nodes = None\n",
        "            return temp\n",
        "\n",
        "        # Nodes with two children: Get the inorder successor\n",
        "        temp = minValueNode(nodes.right)\n",
        "\n",
        "        nodes.val = temp.val\n",
        "\n",
        "        nodes.right = delete(nodes.right, temp.val)\n",
        "\n",
        "    return nodes"
      ]
    },
    {
      "cell_type": "code",
      "execution_count": null,
      "id": "5e12f007",
      "metadata": {
        "colab": {
          "base_uri": "https://localhost:8080/",
          "height": 80
        },
        "id": "5e12f007",
        "outputId": "fb570e80-048f-42ab-c9be-4b85e25e3286"
      },
      "outputs": [
        {
          "output_type": "display_data",
          "data": {
            "image/svg+xml": "<?xml version=\"1.0\" encoding=\"UTF-8\" standalone=\"no\"?>\n<!DOCTYPE svg PUBLIC \"-//W3C//DTD SVG 1.1//EN\"\n \"http://www.w3.org/Graphics/SVG/1.1/DTD/svg11.dtd\">\n<!-- Generated by graphviz version 2.43.0 (0)\n -->\n<!-- Title: %3 Pages: 1 -->\n<svg width=\"62pt\" height=\"44pt\"\n viewBox=\"0.00 0.00 62.00 44.00\" xmlns=\"http://www.w3.org/2000/svg\" xmlns:xlink=\"http://www.w3.org/1999/xlink\">\n<g id=\"graph0\" class=\"graph\" transform=\"scale(1 1) rotate(0) translate(4 40)\">\n<title>%3</title>\n<polygon fill=\"white\" stroke=\"transparent\" points=\"-4,4 -4,-40 58,-40 58,4 -4,4\"/>\n<!-- __main__.Node object at 0x7d8f31aad4b0 -->\n<g id=\"node1\" class=\"node\">\n<title>__main__.Node object at 0x7d8f31aad4b0</title>\n<ellipse fill=\"none\" stroke=\"black\" cx=\"27\" cy=\"-18\" rx=\"27\" ry=\"18\"/>\n<text text-anchor=\"middle\" x=\"27\" y=\"-14.3\" font-family=\"Times,serif\" font-size=\"14.00\">50</text>\n</g>\n</g>\n</svg>\n",
            "text/plain": [
              "<graphviz.graphs.Digraph at 0x7d8f31aae050>"
            ]
          },
          "metadata": {}
        }
      ],
      "source": [
        "test3_tree = buildBinaryTree([50])\n",
        "dot = visualize_tree(test3_tree)"
      ]
    },
    {
      "cell_type": "code",
      "execution_count": null,
      "id": "892ef4f2",
      "metadata": {
        "colab": {
          "base_uri": "https://localhost:8080/",
          "height": 272
        },
        "id": "892ef4f2",
        "outputId": "107f39a9-a364-4b03-80bc-eae5ba2f82ac"
      },
      "outputs": [
        {
          "output_type": "display_data",
          "data": {
            "image/svg+xml": "<?xml version=\"1.0\" encoding=\"UTF-8\" standalone=\"no\"?>\n<!DOCTYPE svg PUBLIC \"-//W3C//DTD SVG 1.1//EN\"\n \"http://www.w3.org/Graphics/SVG/1.1/DTD/svg11.dtd\">\n<!-- Generated by graphviz version 2.43.0 (0)\n -->\n<!-- Title: %3 Pages: 1 -->\n<svg width=\"278pt\" height=\"188pt\"\n viewBox=\"0.00 0.00 278.00 188.00\" xmlns=\"http://www.w3.org/2000/svg\" xmlns:xlink=\"http://www.w3.org/1999/xlink\">\n<g id=\"graph0\" class=\"graph\" transform=\"scale(1 1) rotate(0) translate(4 184)\">\n<title>%3</title>\n<polygon fill=\"white\" stroke=\"transparent\" points=\"-4,4 -4,-184 274,-184 274,4 -4,4\"/>\n<!-- __main__.Node object at 0x7d8f31aad4b0 -->\n<g id=\"node1\" class=\"node\">\n<title>__main__.Node object at 0x7d8f31aad4b0</title>\n<ellipse fill=\"none\" stroke=\"black\" cx=\"135\" cy=\"-162\" rx=\"27\" ry=\"18\"/>\n<text text-anchor=\"middle\" x=\"135\" y=\"-158.3\" font-family=\"Times,serif\" font-size=\"14.00\">50</text>\n</g>\n<!-- __main__.Node object at 0x7d8f31aaea10 -->\n<g id=\"node2\" class=\"node\">\n<title>__main__.Node object at 0x7d8f31aaea10</title>\n<ellipse fill=\"none\" stroke=\"black\" cx=\"99\" cy=\"-90\" rx=\"27\" ry=\"18\"/>\n<text text-anchor=\"middle\" x=\"99\" y=\"-86.3\" font-family=\"Times,serif\" font-size=\"14.00\">30</text>\n</g>\n<!-- __main__.Node object at 0x7d8f31aad4b0&#45;&gt;__main__.Node object at 0x7d8f31aaea10 -->\n<g id=\"edge1\" class=\"edge\">\n<title>__main__.Node object at 0x7d8f31aad4b0&#45;&gt;__main__.Node object at 0x7d8f31aaea10</title>\n<path fill=\"none\" stroke=\"black\" d=\"M126.65,-144.76C122.29,-136.28 116.85,-125.71 111.96,-116.2\"/>\n<polygon fill=\"black\" stroke=\"black\" points=\"114.99,-114.44 107.3,-107.15 108.77,-117.64 114.99,-114.44\"/>\n</g>\n<!-- __main__.Node object at 0x7d8f31aafc70 -->\n<g id=\"node5\" class=\"node\">\n<title>__main__.Node object at 0x7d8f31aafc70</title>\n<ellipse fill=\"none\" stroke=\"black\" cx=\"171\" cy=\"-90\" rx=\"27\" ry=\"18\"/>\n<text text-anchor=\"middle\" x=\"171\" y=\"-86.3\" font-family=\"Times,serif\" font-size=\"14.00\">70</text>\n</g>\n<!-- __main__.Node object at 0x7d8f31aad4b0&#45;&gt;__main__.Node object at 0x7d8f31aafc70 -->\n<g id=\"edge4\" class=\"edge\">\n<title>__main__.Node object at 0x7d8f31aad4b0&#45;&gt;__main__.Node object at 0x7d8f31aafc70</title>\n<path fill=\"none\" stroke=\"black\" d=\"M143.35,-144.76C147.71,-136.28 153.15,-125.71 158.04,-116.2\"/>\n<polygon fill=\"black\" stroke=\"black\" points=\"161.23,-117.64 162.7,-107.15 155.01,-114.44 161.23,-117.64\"/>\n</g>\n<!-- __main__.Node object at 0x7d8f31aac1c0 -->\n<g id=\"node3\" class=\"node\">\n<title>__main__.Node object at 0x7d8f31aac1c0</title>\n<ellipse fill=\"none\" stroke=\"black\" cx=\"27\" cy=\"-18\" rx=\"27\" ry=\"18\"/>\n<text text-anchor=\"middle\" x=\"27\" y=\"-14.3\" font-family=\"Times,serif\" font-size=\"14.00\">20</text>\n</g>\n<!-- __main__.Node object at 0x7d8f31aaea10&#45;&gt;__main__.Node object at 0x7d8f31aac1c0 -->\n<g id=\"edge2\" class=\"edge\">\n<title>__main__.Node object at 0x7d8f31aaea10&#45;&gt;__main__.Node object at 0x7d8f31aac1c0</title>\n<path fill=\"none\" stroke=\"black\" d=\"M84.43,-74.83C74.25,-64.94 60.48,-51.55 48.97,-40.36\"/>\n<polygon fill=\"black\" stroke=\"black\" points=\"51.41,-37.85 41.8,-33.38 46.53,-42.87 51.41,-37.85\"/>\n</g>\n<!-- __main__.Node object at 0x7d8f31aac880 -->\n<g id=\"node4\" class=\"node\">\n<title>__main__.Node object at 0x7d8f31aac880</title>\n<ellipse fill=\"none\" stroke=\"black\" cx=\"99\" cy=\"-18\" rx=\"27\" ry=\"18\"/>\n<text text-anchor=\"middle\" x=\"99\" y=\"-14.3\" font-family=\"Times,serif\" font-size=\"14.00\">40</text>\n</g>\n<!-- __main__.Node object at 0x7d8f31aaea10&#45;&gt;__main__.Node object at 0x7d8f31aac880 -->\n<g id=\"edge3\" class=\"edge\">\n<title>__main__.Node object at 0x7d8f31aaea10&#45;&gt;__main__.Node object at 0x7d8f31aac880</title>\n<path fill=\"none\" stroke=\"black\" d=\"M99,-71.7C99,-63.98 99,-54.71 99,-46.11\"/>\n<polygon fill=\"black\" stroke=\"black\" points=\"102.5,-46.1 99,-36.1 95.5,-46.1 102.5,-46.1\"/>\n</g>\n<!-- __main__.Node object at 0x7d8f31aada80 -->\n<g id=\"node6\" class=\"node\">\n<title>__main__.Node object at 0x7d8f31aada80</title>\n<ellipse fill=\"none\" stroke=\"black\" cx=\"171\" cy=\"-18\" rx=\"27\" ry=\"18\"/>\n<text text-anchor=\"middle\" x=\"171\" y=\"-14.3\" font-family=\"Times,serif\" font-size=\"14.00\">60</text>\n</g>\n<!-- __main__.Node object at 0x7d8f31aafc70&#45;&gt;__main__.Node object at 0x7d8f31aada80 -->\n<g id=\"edge5\" class=\"edge\">\n<title>__main__.Node object at 0x7d8f31aafc70&#45;&gt;__main__.Node object at 0x7d8f31aada80</title>\n<path fill=\"none\" stroke=\"black\" d=\"M171,-71.7C171,-63.98 171,-54.71 171,-46.11\"/>\n<polygon fill=\"black\" stroke=\"black\" points=\"174.5,-46.1 171,-36.1 167.5,-46.1 174.5,-46.1\"/>\n</g>\n<!-- __main__.Node object at 0x7d8f31aad750 -->\n<g id=\"node7\" class=\"node\">\n<title>__main__.Node object at 0x7d8f31aad750</title>\n<ellipse fill=\"none\" stroke=\"black\" cx=\"243\" cy=\"-18\" rx=\"27\" ry=\"18\"/>\n<text text-anchor=\"middle\" x=\"243\" y=\"-14.3\" font-family=\"Times,serif\" font-size=\"14.00\">80</text>\n</g>\n<!-- __main__.Node object at 0x7d8f31aafc70&#45;&gt;__main__.Node object at 0x7d8f31aad750 -->\n<g id=\"edge6\" class=\"edge\">\n<title>__main__.Node object at 0x7d8f31aafc70&#45;&gt;__main__.Node object at 0x7d8f31aad750</title>\n<path fill=\"none\" stroke=\"black\" d=\"M185.57,-74.83C195.75,-64.94 209.52,-51.55 221.03,-40.36\"/>\n<polygon fill=\"black\" stroke=\"black\" points=\"223.47,-42.87 228.2,-33.38 218.59,-37.85 223.47,-42.87\"/>\n</g>\n</g>\n</svg>\n",
            "text/plain": [
              "<graphviz.graphs.Digraph at 0x7d8f31aacb80>"
            ]
          },
          "metadata": {}
        }
      ],
      "source": [
        "insert(test3_tree, 50)\n",
        "insert(test3_tree, 30)\n",
        "insert(test3_tree, 20)\n",
        "insert(test3_tree, 40)\n",
        "insert(test3_tree, 70)\n",
        "insert(test3_tree, 60)\n",
        "insert(test3_tree, 80)\n",
        "dot = visualize_tree(test3_tree)"
      ]
    },
    {
      "cell_type": "code",
      "execution_count": null,
      "id": "e232f617",
      "metadata": {
        "colab": {
          "base_uri": "https://localhost:8080/",
          "height": 272
        },
        "id": "e232f617",
        "outputId": "6d7bf209-b375-4b76-8459-16cf36dc8827"
      },
      "outputs": [
        {
          "output_type": "display_data",
          "data": {
            "image/svg+xml": "<?xml version=\"1.0\" encoding=\"UTF-8\" standalone=\"no\"?>\n<!DOCTYPE svg PUBLIC \"-//W3C//DTD SVG 1.1//EN\"\n \"http://www.w3.org/Graphics/SVG/1.1/DTD/svg11.dtd\">\n<!-- Generated by graphviz version 2.43.0 (0)\n -->\n<!-- Title: %3 Pages: 1 -->\n<svg width=\"206pt\" height=\"188pt\"\n viewBox=\"0.00 0.00 206.00 188.00\" xmlns=\"http://www.w3.org/2000/svg\" xmlns:xlink=\"http://www.w3.org/1999/xlink\">\n<g id=\"graph0\" class=\"graph\" transform=\"scale(1 1) rotate(0) translate(4 184)\">\n<title>%3</title>\n<polygon fill=\"white\" stroke=\"transparent\" points=\"-4,4 -4,-184 202,-184 202,4 -4,4\"/>\n<!-- __main__.Node object at 0x7d8f31aad4b0 -->\n<g id=\"node1\" class=\"node\">\n<title>__main__.Node object at 0x7d8f31aad4b0</title>\n<ellipse fill=\"none\" stroke=\"black\" cx=\"135\" cy=\"-162\" rx=\"27\" ry=\"18\"/>\n<text text-anchor=\"middle\" x=\"135\" y=\"-158.3\" font-family=\"Times,serif\" font-size=\"14.00\">60</text>\n</g>\n<!-- __main__.Node object at 0x7d8f31aaea10 -->\n<g id=\"node2\" class=\"node\">\n<title>__main__.Node object at 0x7d8f31aaea10</title>\n<ellipse fill=\"none\" stroke=\"black\" cx=\"99\" cy=\"-90\" rx=\"27\" ry=\"18\"/>\n<text text-anchor=\"middle\" x=\"99\" y=\"-86.3\" font-family=\"Times,serif\" font-size=\"14.00\">30</text>\n</g>\n<!-- __main__.Node object at 0x7d8f31aad4b0&#45;&gt;__main__.Node object at 0x7d8f31aaea10 -->\n<g id=\"edge1\" class=\"edge\">\n<title>__main__.Node object at 0x7d8f31aad4b0&#45;&gt;__main__.Node object at 0x7d8f31aaea10</title>\n<path fill=\"none\" stroke=\"black\" d=\"M126.65,-144.76C122.29,-136.28 116.85,-125.71 111.96,-116.2\"/>\n<polygon fill=\"black\" stroke=\"black\" points=\"114.99,-114.44 107.3,-107.15 108.77,-117.64 114.99,-114.44\"/>\n</g>\n<!-- __main__.Node object at 0x7d8f31aafc70 -->\n<g id=\"node5\" class=\"node\">\n<title>__main__.Node object at 0x7d8f31aafc70</title>\n<ellipse fill=\"none\" stroke=\"black\" cx=\"171\" cy=\"-90\" rx=\"27\" ry=\"18\"/>\n<text text-anchor=\"middle\" x=\"171\" y=\"-86.3\" font-family=\"Times,serif\" font-size=\"14.00\">70</text>\n</g>\n<!-- __main__.Node object at 0x7d8f31aad4b0&#45;&gt;__main__.Node object at 0x7d8f31aafc70 -->\n<g id=\"edge4\" class=\"edge\">\n<title>__main__.Node object at 0x7d8f31aad4b0&#45;&gt;__main__.Node object at 0x7d8f31aafc70</title>\n<path fill=\"none\" stroke=\"black\" d=\"M143.35,-144.76C147.71,-136.28 153.15,-125.71 158.04,-116.2\"/>\n<polygon fill=\"black\" stroke=\"black\" points=\"161.23,-117.64 162.7,-107.15 155.01,-114.44 161.23,-117.64\"/>\n</g>\n<!-- __main__.Node object at 0x7d8f31aac1c0 -->\n<g id=\"node3\" class=\"node\">\n<title>__main__.Node object at 0x7d8f31aac1c0</title>\n<ellipse fill=\"none\" stroke=\"black\" cx=\"27\" cy=\"-18\" rx=\"27\" ry=\"18\"/>\n<text text-anchor=\"middle\" x=\"27\" y=\"-14.3\" font-family=\"Times,serif\" font-size=\"14.00\">20</text>\n</g>\n<!-- __main__.Node object at 0x7d8f31aaea10&#45;&gt;__main__.Node object at 0x7d8f31aac1c0 -->\n<g id=\"edge2\" class=\"edge\">\n<title>__main__.Node object at 0x7d8f31aaea10&#45;&gt;__main__.Node object at 0x7d8f31aac1c0</title>\n<path fill=\"none\" stroke=\"black\" d=\"M84.43,-74.83C74.25,-64.94 60.48,-51.55 48.97,-40.36\"/>\n<polygon fill=\"black\" stroke=\"black\" points=\"51.41,-37.85 41.8,-33.38 46.53,-42.87 51.41,-37.85\"/>\n</g>\n<!-- __main__.Node object at 0x7d8f31aac880 -->\n<g id=\"node4\" class=\"node\">\n<title>__main__.Node object at 0x7d8f31aac880</title>\n<ellipse fill=\"none\" stroke=\"black\" cx=\"99\" cy=\"-18\" rx=\"27\" ry=\"18\"/>\n<text text-anchor=\"middle\" x=\"99\" y=\"-14.3\" font-family=\"Times,serif\" font-size=\"14.00\">40</text>\n</g>\n<!-- __main__.Node object at 0x7d8f31aaea10&#45;&gt;__main__.Node object at 0x7d8f31aac880 -->\n<g id=\"edge3\" class=\"edge\">\n<title>__main__.Node object at 0x7d8f31aaea10&#45;&gt;__main__.Node object at 0x7d8f31aac880</title>\n<path fill=\"none\" stroke=\"black\" d=\"M99,-71.7C99,-63.98 99,-54.71 99,-46.11\"/>\n<polygon fill=\"black\" stroke=\"black\" points=\"102.5,-46.1 99,-36.1 95.5,-46.1 102.5,-46.1\"/>\n</g>\n<!-- __main__.Node object at 0x7d8f31aad750 -->\n<g id=\"node6\" class=\"node\">\n<title>__main__.Node object at 0x7d8f31aad750</title>\n<ellipse fill=\"none\" stroke=\"black\" cx=\"171\" cy=\"-18\" rx=\"27\" ry=\"18\"/>\n<text text-anchor=\"middle\" x=\"171\" y=\"-14.3\" font-family=\"Times,serif\" font-size=\"14.00\">80</text>\n</g>\n<!-- __main__.Node object at 0x7d8f31aafc70&#45;&gt;__main__.Node object at 0x7d8f31aad750 -->\n<g id=\"edge5\" class=\"edge\">\n<title>__main__.Node object at 0x7d8f31aafc70&#45;&gt;__main__.Node object at 0x7d8f31aad750</title>\n<path fill=\"none\" stroke=\"black\" d=\"M171,-71.7C171,-63.98 171,-54.71 171,-46.11\"/>\n<polygon fill=\"black\" stroke=\"black\" points=\"174.5,-46.1 171,-36.1 167.5,-46.1 174.5,-46.1\"/>\n</g>\n</g>\n</svg>\n",
            "text/plain": [
              "<graphviz.graphs.Digraph at 0x7d8f31aafa00>"
            ]
          },
          "metadata": {}
        }
      ],
      "source": [
        "delete(test3_tree, 50)\n",
        "dot = visualize_tree(test3_tree)"
      ]
    },
    {
      "cell_type": "markdown",
      "id": "e3b820f2",
      "metadata": {
        "id": "e3b820f2"
      },
      "source": [
        "***"
      ]
    },
    {
      "cell_type": "markdown",
      "id": "f9b31a04",
      "metadata": {
        "id": "f9b31a04"
      },
      "source": [
        "#Code Implementations\n",
        "##(1) Modify the BST so that it can keep track of its balance.\n",
        "####For the purpose of this question, a balanced tree is defined to be a tree such that the heights of the two subtrees of any node never differs by more than one.\n",
        "#####- You are expected to create a new field in each node which stores the balance of the node.\n",
        "#####- Note, when a node is inserted and deleted, the balance must be updated.\n",
        "#####-Write a function to test the balance of a tree, which returns True or False depending if the\n",
        "tree is balanced or not."
      ]
    },
    {
      "cell_type": "code",
      "source": [
        "class Node:\n",
        "    def __init__(self, val):\n",
        "        self.val = val\n",
        "        self.right = None\n",
        "        self.left = None\n",
        "        self.balance = 0 #New field\n",
        "        self.parent = None\n",
        "\n",
        "def buildBinaryTree(nodes):\n",
        "    if len(nodes) == 0:\n",
        "        raise ValueError('No values in list')\n",
        "    return binaryTree(nodes, 0, len(nodes) - 1)\n",
        "\n",
        "def binaryTree(nodes, start, end):\n",
        "    if start > end:\n",
        "        return\n",
        "    middle = (start + end) // 2\n",
        "    root = Node(nodes[middle])\n",
        "    root.left = binaryTree(nodes, start, middle - 1)\n",
        "    root.right = binaryTree(nodes, middle + 1, end)\n",
        "    return root\n",
        "\n",
        "#Test the balance of a tree, which returns True or False depending on balance\n",
        "def is_balanced(tree):\n",
        "    if tree is None:\n",
        "        return True\n",
        "    left_height = tree.left.balance if tree.left else -1\n",
        "    right_height = tree.right.balance if tree.right else -1\n",
        "    return abs(left_height - right_height) <= 1 and is_balanced(tree.left) and is_balanced(tree.right)\n",
        "\n",
        "def height(node):\n",
        "    if node is None:\n",
        "        return -1\n",
        "    left_height = height(node.left)\n",
        "    right_height = height(node.right)\n",
        "    return max(left_height, right_height) + 1\n",
        "\n",
        "def update_balance(node):\n",
        "    left_height = height(node.left)\n",
        "    right_height = height(node.right)\n",
        "    node.balance = right_height - left_height\n",
        "\n",
        "def insert(nodes, val):\n",
        "    if nodes is None:\n",
        "        return Node(val)\n",
        "\n",
        "    if val < nodes.val:\n",
        "        nodes.left = insert(nodes.left, val)\n",
        "    else:\n",
        "        nodes.right = insert(nodes.right, val)\n",
        "\n",
        "    update_balance(nodes) #balance updated\n",
        "    return nodes\n",
        "\n",
        "def delete(nodes, val):\n",
        "    if nodes is None:\n",
        "        return nodes\n",
        "\n",
        "    if val < nodes.val:\n",
        "        nodes.left = delete(nodes.left, val)\n",
        "    elif val > nodes.val:\n",
        "        nodes.right = delete(nodes.right, val)\n",
        "    else:\n",
        "        if nodes.left is None:\n",
        "            return nodes.right\n",
        "        elif nodes.right is None:\n",
        "            return nodes.left\n",
        "\n",
        "        temp = minValueNode(nodes.right) #use above function\n",
        "        nodes.val = temp.val\n",
        "        nodes.right = delete(nodes.right, temp.val)\n",
        "\n",
        "    update_balance(nodes) #balance updated\n",
        "    return nodes"
      ],
      "metadata": {
        "id": "YXVGOCnRVBky"
      },
      "id": "YXVGOCnRVBky",
      "execution_count": null,
      "outputs": []
    },
    {
      "cell_type": "code",
      "source": [
        "def visualize_tree(tree):\n",
        "    dot = Digraph()\n",
        "\n",
        "    def add_nodes_edges(node, dot):\n",
        "        if node:\n",
        "            dot.node(name=str(node), label=f\"{node.val}    (B: {node.balance})\")  # Include balance\n",
        "            if node.left:\n",
        "                dot.edge(str(node), str(node.left))\n",
        "                dot = add_nodes_edges(node.left, dot)\n",
        "\n",
        "            if node.right:\n",
        "                dot.edge(str(node), str(node.right))\n",
        "                dot = add_nodes_edges(node.right, dot)\n",
        "\n",
        "        return dot\n",
        "\n",
        "    dot = add_nodes_edges(tree, dot)\n",
        "    display(dot)\n",
        "    return dot"
      ],
      "metadata": {
        "id": "HGhAy-3fZ1Ul"
      },
      "id": "HGhAy-3fZ1Ul",
      "execution_count": null,
      "outputs": []
    },
    {
      "cell_type": "markdown",
      "source": [
        "## *Test Cases 1*"
      ],
      "metadata": {
        "id": "0Vau8qtXt_Cz"
      },
      "id": "0Vau8qtXt_Cz"
    },
    {
      "cell_type": "code",
      "source": [
        "# Test cases\n",
        "test1 = [1, 2, 3, 4, 5, 6, 7, 8]\n",
        "test1_tree = buildBinaryTree(test1)\n",
        "print(f\"Insert values: {test1}\")\n",
        "print(f\"Check for Balanced Tree: {is_balanced(test1_tree)}\")\n",
        "dot = visualize_tree(test1_tree)\n",
        "print()\n",
        "\n",
        "# Inserting a new value\n",
        "insert(test1_tree, 9)\n",
        "print(\"Insert Value: 9\")\n",
        "print(f\"Check for Balanced Tree: {is_balanced(test1_tree)}\")\n",
        "dot = visualize_tree(test1_tree)\n",
        "print()\n",
        "\n",
        "# Deletion in test1_tree\n",
        "delete(test1_tree, 5)\n",
        "print(\"Delete Value: 5\")\n",
        "print(f\"Check for Balanced Tree: {is_balanced(test1_tree)}\")\n",
        "dot = visualize_tree(test1_tree)\n",
        "print()"
      ],
      "metadata": {
        "colab": {
          "base_uri": "https://localhost:8080/",
          "height": 1000
        },
        "id": "2ufj4CjcXdv0",
        "outputId": "b0ac7861-cf89-4e81-80c3-0da07a7f6d9e"
      },
      "id": "2ufj4CjcXdv0",
      "execution_count": null,
      "outputs": [
        {
          "output_type": "stream",
          "name": "stdout",
          "text": [
            "Insert values: [1, 2, 3, 4, 5, 6, 7, 8]\n",
            "Check for Balanced Tree: True\n"
          ]
        },
        {
          "output_type": "display_data",
          "data": {
            "image/svg+xml": "<?xml version=\"1.0\" encoding=\"UTF-8\" standalone=\"no\"?>\n<!DOCTYPE svg PUBLIC \"-//W3C//DTD SVG 1.1//EN\"\n \"http://www.w3.org/Graphics/SVG/1.1/DTD/svg11.dtd\">\n<!-- Generated by graphviz version 2.43.0 (0)\n -->\n<!-- Title: %3 Pages: 1 -->\n<svg width=\"430pt\" height=\"260pt\"\n viewBox=\"0.00 0.00 430.29 260.00\" xmlns=\"http://www.w3.org/2000/svg\" xmlns:xlink=\"http://www.w3.org/1999/xlink\">\n<g id=\"graph0\" class=\"graph\" transform=\"scale(1 1) rotate(0) translate(4 256)\">\n<title>%3</title>\n<polygon fill=\"white\" stroke=\"transparent\" points=\"-4,4 -4,-256 426.29,-256 426.29,4 -4,4\"/>\n<!-- __main__.Node object at 0x7d8f4057dd80 -->\n<g id=\"node1\" class=\"node\">\n<title>__main__.Node object at 0x7d8f4057dd80</title>\n<ellipse fill=\"none\" stroke=\"black\" cx=\"211.15\" cy=\"-234\" rx=\"46.29\" ry=\"18\"/>\n<text text-anchor=\"middle\" x=\"211.15\" y=\"-230.3\" font-family=\"Times,serif\" font-size=\"14.00\">4 &#160;&#160;&#160;(B: 0)</text>\n</g>\n<!-- __main__.Node object at 0x7d8fd0378e20 -->\n<g id=\"node2\" class=\"node\">\n<title>__main__.Node object at 0x7d8fd0378e20</title>\n<ellipse fill=\"none\" stroke=\"black\" cx=\"156.15\" cy=\"-162\" rx=\"46.29\" ry=\"18\"/>\n<text text-anchor=\"middle\" x=\"156.15\" y=\"-158.3\" font-family=\"Times,serif\" font-size=\"14.00\">2 &#160;&#160;&#160;(B: 0)</text>\n</g>\n<!-- __main__.Node object at 0x7d8f4057dd80&#45;&gt;__main__.Node object at 0x7d8fd0378e20 -->\n<g id=\"edge1\" class=\"edge\">\n<title>__main__.Node object at 0x7d8f4057dd80&#45;&gt;__main__.Node object at 0x7d8fd0378e20</title>\n<path fill=\"none\" stroke=\"black\" d=\"M198.11,-216.41C191.33,-207.78 182.91,-197.06 175.39,-187.5\"/>\n<polygon fill=\"black\" stroke=\"black\" points=\"178.02,-185.17 169.09,-179.47 172.51,-189.5 178.02,-185.17\"/>\n</g>\n<!-- __main__.Node object at 0x7d8fd037ac50 -->\n<g id=\"node5\" class=\"node\">\n<title>__main__.Node object at 0x7d8fd037ac50</title>\n<ellipse fill=\"none\" stroke=\"black\" cx=\"266.15\" cy=\"-162\" rx=\"46.29\" ry=\"18\"/>\n<text text-anchor=\"middle\" x=\"266.15\" y=\"-158.3\" font-family=\"Times,serif\" font-size=\"14.00\">6 &#160;&#160;&#160;(B: 0)</text>\n</g>\n<!-- __main__.Node object at 0x7d8f4057dd80&#45;&gt;__main__.Node object at 0x7d8fd037ac50 -->\n<g id=\"edge4\" class=\"edge\">\n<title>__main__.Node object at 0x7d8f4057dd80&#45;&gt;__main__.Node object at 0x7d8fd037ac50</title>\n<path fill=\"none\" stroke=\"black\" d=\"M224.18,-216.41C230.96,-207.78 239.38,-197.06 246.9,-187.5\"/>\n<polygon fill=\"black\" stroke=\"black\" points=\"249.78,-189.5 253.21,-179.47 244.27,-185.17 249.78,-189.5\"/>\n</g>\n<!-- __main__.Node object at 0x7d8fd03790c0 -->\n<g id=\"node3\" class=\"node\">\n<title>__main__.Node object at 0x7d8fd03790c0</title>\n<ellipse fill=\"none\" stroke=\"black\" cx=\"46.15\" cy=\"-90\" rx=\"46.29\" ry=\"18\"/>\n<text text-anchor=\"middle\" x=\"46.15\" y=\"-86.3\" font-family=\"Times,serif\" font-size=\"14.00\">1 &#160;&#160;&#160;(B: 0)</text>\n</g>\n<!-- __main__.Node object at 0x7d8fd0378e20&#45;&gt;__main__.Node object at 0x7d8fd03790c0 -->\n<g id=\"edge2\" class=\"edge\">\n<title>__main__.Node object at 0x7d8fd0378e20&#45;&gt;__main__.Node object at 0x7d8fd03790c0</title>\n<path fill=\"none\" stroke=\"black\" d=\"M133.09,-146.33C117.1,-136.15 95.6,-122.47 77.98,-111.26\"/>\n<polygon fill=\"black\" stroke=\"black\" points=\"79.49,-108.07 69.18,-105.65 75.73,-113.98 79.49,-108.07\"/>\n</g>\n<!-- __main__.Node object at 0x7d8fd0379cf0 -->\n<g id=\"node4\" class=\"node\">\n<title>__main__.Node object at 0x7d8fd0379cf0</title>\n<ellipse fill=\"none\" stroke=\"black\" cx=\"156.15\" cy=\"-90\" rx=\"46.29\" ry=\"18\"/>\n<text text-anchor=\"middle\" x=\"156.15\" y=\"-86.3\" font-family=\"Times,serif\" font-size=\"14.00\">3 &#160;&#160;&#160;(B: 0)</text>\n</g>\n<!-- __main__.Node object at 0x7d8fd0378e20&#45;&gt;__main__.Node object at 0x7d8fd0379cf0 -->\n<g id=\"edge3\" class=\"edge\">\n<title>__main__.Node object at 0x7d8fd0378e20&#45;&gt;__main__.Node object at 0x7d8fd0379cf0</title>\n<path fill=\"none\" stroke=\"black\" d=\"M156.15,-143.7C156.15,-135.98 156.15,-126.71 156.15,-118.11\"/>\n<polygon fill=\"black\" stroke=\"black\" points=\"159.65,-118.1 156.15,-108.1 152.65,-118.1 159.65,-118.1\"/>\n</g>\n<!-- __main__.Node object at 0x7d8f405485e0 -->\n<g id=\"node6\" class=\"node\">\n<title>__main__.Node object at 0x7d8f405485e0</title>\n<ellipse fill=\"none\" stroke=\"black\" cx=\"266.15\" cy=\"-90\" rx=\"46.29\" ry=\"18\"/>\n<text text-anchor=\"middle\" x=\"266.15\" y=\"-86.3\" font-family=\"Times,serif\" font-size=\"14.00\">5 &#160;&#160;&#160;(B: 0)</text>\n</g>\n<!-- __main__.Node object at 0x7d8fd037ac50&#45;&gt;__main__.Node object at 0x7d8f405485e0 -->\n<g id=\"edge5\" class=\"edge\">\n<title>__main__.Node object at 0x7d8fd037ac50&#45;&gt;__main__.Node object at 0x7d8f405485e0</title>\n<path fill=\"none\" stroke=\"black\" d=\"M266.15,-143.7C266.15,-135.98 266.15,-126.71 266.15,-118.11\"/>\n<polygon fill=\"black\" stroke=\"black\" points=\"269.65,-118.1 266.15,-108.1 262.65,-118.1 269.65,-118.1\"/>\n</g>\n<!-- __main__.Node object at 0x7d8f405e06a0 -->\n<g id=\"node7\" class=\"node\">\n<title>__main__.Node object at 0x7d8f405e06a0</title>\n<ellipse fill=\"none\" stroke=\"black\" cx=\"376.15\" cy=\"-90\" rx=\"46.29\" ry=\"18\"/>\n<text text-anchor=\"middle\" x=\"376.15\" y=\"-86.3\" font-family=\"Times,serif\" font-size=\"14.00\">7 &#160;&#160;&#160;(B: 0)</text>\n</g>\n<!-- __main__.Node object at 0x7d8fd037ac50&#45;&gt;__main__.Node object at 0x7d8f405e06a0 -->\n<g id=\"edge6\" class=\"edge\">\n<title>__main__.Node object at 0x7d8fd037ac50&#45;&gt;__main__.Node object at 0x7d8f405e06a0</title>\n<path fill=\"none\" stroke=\"black\" d=\"M289.21,-146.33C305.19,-136.15 326.69,-122.47 344.31,-111.26\"/>\n<polygon fill=\"black\" stroke=\"black\" points=\"346.56,-113.98 353.12,-105.65 342.8,-108.07 346.56,-113.98\"/>\n</g>\n<!-- __main__.Node object at 0x7d8f405e19c0 -->\n<g id=\"node8\" class=\"node\">\n<title>__main__.Node object at 0x7d8f405e19c0</title>\n<ellipse fill=\"none\" stroke=\"black\" cx=\"376.15\" cy=\"-18\" rx=\"46.29\" ry=\"18\"/>\n<text text-anchor=\"middle\" x=\"376.15\" y=\"-14.3\" font-family=\"Times,serif\" font-size=\"14.00\">8 &#160;&#160;&#160;(B: 0)</text>\n</g>\n<!-- __main__.Node object at 0x7d8f405e06a0&#45;&gt;__main__.Node object at 0x7d8f405e19c0 -->\n<g id=\"edge7\" class=\"edge\">\n<title>__main__.Node object at 0x7d8f405e06a0&#45;&gt;__main__.Node object at 0x7d8f405e19c0</title>\n<path fill=\"none\" stroke=\"black\" d=\"M376.15,-71.7C376.15,-63.98 376.15,-54.71 376.15,-46.11\"/>\n<polygon fill=\"black\" stroke=\"black\" points=\"379.65,-46.1 376.15,-36.1 372.65,-46.1 379.65,-46.1\"/>\n</g>\n</g>\n</svg>\n",
            "text/plain": [
              "<graphviz.graphs.Digraph at 0x7d8f405e1c00>"
            ]
          },
          "metadata": {}
        },
        {
          "output_type": "stream",
          "name": "stdout",
          "text": [
            "\n",
            "Insert Value: 9\n",
            "Check for Balanced Tree: False\n"
          ]
        },
        {
          "output_type": "display_data",
          "data": {
            "image/svg+xml": "<?xml version=\"1.0\" encoding=\"UTF-8\" standalone=\"no\"?>\n<!DOCTYPE svg PUBLIC \"-//W3C//DTD SVG 1.1//EN\"\n \"http://www.w3.org/Graphics/SVG/1.1/DTD/svg11.dtd\">\n<!-- Generated by graphviz version 2.43.0 (0)\n -->\n<!-- Title: %3 Pages: 1 -->\n<svg width=\"430pt\" height=\"332pt\"\n viewBox=\"0.00 0.00 430.29 332.00\" xmlns=\"http://www.w3.org/2000/svg\" xmlns:xlink=\"http://www.w3.org/1999/xlink\">\n<g id=\"graph0\" class=\"graph\" transform=\"scale(1 1) rotate(0) translate(4 328)\">\n<title>%3</title>\n<polygon fill=\"white\" stroke=\"transparent\" points=\"-4,4 -4,-328 426.29,-328 426.29,4 -4,4\"/>\n<!-- __main__.Node object at 0x7d8f4057dd80 -->\n<g id=\"node1\" class=\"node\">\n<title>__main__.Node object at 0x7d8f4057dd80</title>\n<ellipse fill=\"none\" stroke=\"black\" cx=\"211.15\" cy=\"-306\" rx=\"46.29\" ry=\"18\"/>\n<text text-anchor=\"middle\" x=\"211.15\" y=\"-302.3\" font-family=\"Times,serif\" font-size=\"14.00\">4 &#160;&#160;&#160;(B: 2)</text>\n</g>\n<!-- __main__.Node object at 0x7d8fd0378e20 -->\n<g id=\"node2\" class=\"node\">\n<title>__main__.Node object at 0x7d8fd0378e20</title>\n<ellipse fill=\"none\" stroke=\"black\" cx=\"156.15\" cy=\"-234\" rx=\"46.29\" ry=\"18\"/>\n<text text-anchor=\"middle\" x=\"156.15\" y=\"-230.3\" font-family=\"Times,serif\" font-size=\"14.00\">2 &#160;&#160;&#160;(B: 0)</text>\n</g>\n<!-- __main__.Node object at 0x7d8f4057dd80&#45;&gt;__main__.Node object at 0x7d8fd0378e20 -->\n<g id=\"edge1\" class=\"edge\">\n<title>__main__.Node object at 0x7d8f4057dd80&#45;&gt;__main__.Node object at 0x7d8fd0378e20</title>\n<path fill=\"none\" stroke=\"black\" d=\"M198.11,-288.41C191.33,-279.78 182.91,-269.06 175.39,-259.5\"/>\n<polygon fill=\"black\" stroke=\"black\" points=\"178.02,-257.17 169.09,-251.47 172.51,-261.5 178.02,-257.17\"/>\n</g>\n<!-- __main__.Node object at 0x7d8fd037ac50 -->\n<g id=\"node5\" class=\"node\">\n<title>__main__.Node object at 0x7d8fd037ac50</title>\n<ellipse fill=\"none\" stroke=\"black\" cx=\"266.15\" cy=\"-234\" rx=\"46.29\" ry=\"18\"/>\n<text text-anchor=\"middle\" x=\"266.15\" y=\"-230.3\" font-family=\"Times,serif\" font-size=\"14.00\">6 &#160;&#160;&#160;(B: 2)</text>\n</g>\n<!-- __main__.Node object at 0x7d8f4057dd80&#45;&gt;__main__.Node object at 0x7d8fd037ac50 -->\n<g id=\"edge4\" class=\"edge\">\n<title>__main__.Node object at 0x7d8f4057dd80&#45;&gt;__main__.Node object at 0x7d8fd037ac50</title>\n<path fill=\"none\" stroke=\"black\" d=\"M224.18,-288.41C230.96,-279.78 239.38,-269.06 246.9,-259.5\"/>\n<polygon fill=\"black\" stroke=\"black\" points=\"249.78,-261.5 253.21,-251.47 244.27,-257.17 249.78,-261.5\"/>\n</g>\n<!-- __main__.Node object at 0x7d8fd03790c0 -->\n<g id=\"node3\" class=\"node\">\n<title>__main__.Node object at 0x7d8fd03790c0</title>\n<ellipse fill=\"none\" stroke=\"black\" cx=\"46.15\" cy=\"-162\" rx=\"46.29\" ry=\"18\"/>\n<text text-anchor=\"middle\" x=\"46.15\" y=\"-158.3\" font-family=\"Times,serif\" font-size=\"14.00\">1 &#160;&#160;&#160;(B: 0)</text>\n</g>\n<!-- __main__.Node object at 0x7d8fd0378e20&#45;&gt;__main__.Node object at 0x7d8fd03790c0 -->\n<g id=\"edge2\" class=\"edge\">\n<title>__main__.Node object at 0x7d8fd0378e20&#45;&gt;__main__.Node object at 0x7d8fd03790c0</title>\n<path fill=\"none\" stroke=\"black\" d=\"M133.09,-218.33C117.1,-208.15 95.6,-194.47 77.98,-183.26\"/>\n<polygon fill=\"black\" stroke=\"black\" points=\"79.49,-180.07 69.18,-177.65 75.73,-185.98 79.49,-180.07\"/>\n</g>\n<!-- __main__.Node object at 0x7d8fd0379cf0 -->\n<g id=\"node4\" class=\"node\">\n<title>__main__.Node object at 0x7d8fd0379cf0</title>\n<ellipse fill=\"none\" stroke=\"black\" cx=\"156.15\" cy=\"-162\" rx=\"46.29\" ry=\"18\"/>\n<text text-anchor=\"middle\" x=\"156.15\" y=\"-158.3\" font-family=\"Times,serif\" font-size=\"14.00\">3 &#160;&#160;&#160;(B: 0)</text>\n</g>\n<!-- __main__.Node object at 0x7d8fd0378e20&#45;&gt;__main__.Node object at 0x7d8fd0379cf0 -->\n<g id=\"edge3\" class=\"edge\">\n<title>__main__.Node object at 0x7d8fd0378e20&#45;&gt;__main__.Node object at 0x7d8fd0379cf0</title>\n<path fill=\"none\" stroke=\"black\" d=\"M156.15,-215.7C156.15,-207.98 156.15,-198.71 156.15,-190.11\"/>\n<polygon fill=\"black\" stroke=\"black\" points=\"159.65,-190.1 156.15,-180.1 152.65,-190.1 159.65,-190.1\"/>\n</g>\n<!-- __main__.Node object at 0x7d8f405485e0 -->\n<g id=\"node6\" class=\"node\">\n<title>__main__.Node object at 0x7d8f405485e0</title>\n<ellipse fill=\"none\" stroke=\"black\" cx=\"266.15\" cy=\"-162\" rx=\"46.29\" ry=\"18\"/>\n<text text-anchor=\"middle\" x=\"266.15\" y=\"-158.3\" font-family=\"Times,serif\" font-size=\"14.00\">5 &#160;&#160;&#160;(B: 0)</text>\n</g>\n<!-- __main__.Node object at 0x7d8fd037ac50&#45;&gt;__main__.Node object at 0x7d8f405485e0 -->\n<g id=\"edge5\" class=\"edge\">\n<title>__main__.Node object at 0x7d8fd037ac50&#45;&gt;__main__.Node object at 0x7d8f405485e0</title>\n<path fill=\"none\" stroke=\"black\" d=\"M266.15,-215.7C266.15,-207.98 266.15,-198.71 266.15,-190.11\"/>\n<polygon fill=\"black\" stroke=\"black\" points=\"269.65,-190.1 266.15,-180.1 262.65,-190.1 269.65,-190.1\"/>\n</g>\n<!-- __main__.Node object at 0x7d8f405e06a0 -->\n<g id=\"node7\" class=\"node\">\n<title>__main__.Node object at 0x7d8f405e06a0</title>\n<ellipse fill=\"none\" stroke=\"black\" cx=\"376.15\" cy=\"-162\" rx=\"46.29\" ry=\"18\"/>\n<text text-anchor=\"middle\" x=\"376.15\" y=\"-158.3\" font-family=\"Times,serif\" font-size=\"14.00\">7 &#160;&#160;&#160;(B: 2)</text>\n</g>\n<!-- __main__.Node object at 0x7d8fd037ac50&#45;&gt;__main__.Node object at 0x7d8f405e06a0 -->\n<g id=\"edge6\" class=\"edge\">\n<title>__main__.Node object at 0x7d8fd037ac50&#45;&gt;__main__.Node object at 0x7d8f405e06a0</title>\n<path fill=\"none\" stroke=\"black\" d=\"M289.21,-218.33C305.19,-208.15 326.69,-194.47 344.31,-183.26\"/>\n<polygon fill=\"black\" stroke=\"black\" points=\"346.56,-185.98 353.12,-177.65 342.8,-180.07 346.56,-185.98\"/>\n</g>\n<!-- __main__.Node object at 0x7d8f405e19c0 -->\n<g id=\"node8\" class=\"node\">\n<title>__main__.Node object at 0x7d8f405e19c0</title>\n<ellipse fill=\"none\" stroke=\"black\" cx=\"376.15\" cy=\"-90\" rx=\"46.29\" ry=\"18\"/>\n<text text-anchor=\"middle\" x=\"376.15\" y=\"-86.3\" font-family=\"Times,serif\" font-size=\"14.00\">8 &#160;&#160;&#160;(B: 1)</text>\n</g>\n<!-- __main__.Node object at 0x7d8f405e06a0&#45;&gt;__main__.Node object at 0x7d8f405e19c0 -->\n<g id=\"edge7\" class=\"edge\">\n<title>__main__.Node object at 0x7d8f405e06a0&#45;&gt;__main__.Node object at 0x7d8f405e19c0</title>\n<path fill=\"none\" stroke=\"black\" d=\"M376.15,-143.7C376.15,-135.98 376.15,-126.71 376.15,-118.11\"/>\n<polygon fill=\"black\" stroke=\"black\" points=\"379.65,-118.1 376.15,-108.1 372.65,-118.1 379.65,-118.1\"/>\n</g>\n<!-- __main__.Node object at 0x7d8fd0378bb0 -->\n<g id=\"node9\" class=\"node\">\n<title>__main__.Node object at 0x7d8fd0378bb0</title>\n<ellipse fill=\"none\" stroke=\"black\" cx=\"376.15\" cy=\"-18\" rx=\"46.29\" ry=\"18\"/>\n<text text-anchor=\"middle\" x=\"376.15\" y=\"-14.3\" font-family=\"Times,serif\" font-size=\"14.00\">9 &#160;&#160;&#160;(B: 0)</text>\n</g>\n<!-- __main__.Node object at 0x7d8f405e19c0&#45;&gt;__main__.Node object at 0x7d8fd0378bb0 -->\n<g id=\"edge8\" class=\"edge\">\n<title>__main__.Node object at 0x7d8f405e19c0&#45;&gt;__main__.Node object at 0x7d8fd0378bb0</title>\n<path fill=\"none\" stroke=\"black\" d=\"M376.15,-71.7C376.15,-63.98 376.15,-54.71 376.15,-46.11\"/>\n<polygon fill=\"black\" stroke=\"black\" points=\"379.65,-46.1 376.15,-36.1 372.65,-46.1 379.65,-46.1\"/>\n</g>\n</g>\n</svg>\n",
            "text/plain": [
              "<graphviz.graphs.Digraph at 0x7d8f405e0310>"
            ]
          },
          "metadata": {}
        },
        {
          "output_type": "stream",
          "name": "stdout",
          "text": [
            "\n",
            "Delete Value: 5\n",
            "Check for Balanced Tree: False\n"
          ]
        },
        {
          "output_type": "display_data",
          "data": {
            "image/svg+xml": "<?xml version=\"1.0\" encoding=\"UTF-8\" standalone=\"no\"?>\n<!DOCTYPE svg PUBLIC \"-//W3C//DTD SVG 1.1//EN\"\n \"http://www.w3.org/Graphics/SVG/1.1/DTD/svg11.dtd\">\n<!-- Generated by graphviz version 2.43.0 (0)\n -->\n<!-- Title: %3 Pages: 1 -->\n<svg width=\"320pt\" height=\"332pt\"\n viewBox=\"0.00 0.00 320.29 332.00\" xmlns=\"http://www.w3.org/2000/svg\" xmlns:xlink=\"http://www.w3.org/1999/xlink\">\n<g id=\"graph0\" class=\"graph\" transform=\"scale(1 1) rotate(0) translate(4 328)\">\n<title>%3</title>\n<polygon fill=\"white\" stroke=\"transparent\" points=\"-4,4 -4,-328 316.29,-328 316.29,4 -4,4\"/>\n<!-- __main__.Node object at 0x7d8f4057dd80 -->\n<g id=\"node1\" class=\"node\">\n<title>__main__.Node object at 0x7d8f4057dd80</title>\n<ellipse fill=\"none\" stroke=\"black\" cx=\"211.15\" cy=\"-306\" rx=\"46.29\" ry=\"18\"/>\n<text text-anchor=\"middle\" x=\"211.15\" y=\"-302.3\" font-family=\"Times,serif\" font-size=\"14.00\">4 &#160;&#160;&#160;(B: 2)</text>\n</g>\n<!-- __main__.Node object at 0x7d8fd0378e20 -->\n<g id=\"node2\" class=\"node\">\n<title>__main__.Node object at 0x7d8fd0378e20</title>\n<ellipse fill=\"none\" stroke=\"black\" cx=\"156.15\" cy=\"-234\" rx=\"46.29\" ry=\"18\"/>\n<text text-anchor=\"middle\" x=\"156.15\" y=\"-230.3\" font-family=\"Times,serif\" font-size=\"14.00\">2 &#160;&#160;&#160;(B: 0)</text>\n</g>\n<!-- __main__.Node object at 0x7d8f4057dd80&#45;&gt;__main__.Node object at 0x7d8fd0378e20 -->\n<g id=\"edge1\" class=\"edge\">\n<title>__main__.Node object at 0x7d8f4057dd80&#45;&gt;__main__.Node object at 0x7d8fd0378e20</title>\n<path fill=\"none\" stroke=\"black\" d=\"M198.11,-288.41C191.33,-279.78 182.91,-269.06 175.39,-259.5\"/>\n<polygon fill=\"black\" stroke=\"black\" points=\"178.02,-257.17 169.09,-251.47 172.51,-261.5 178.02,-257.17\"/>\n</g>\n<!-- __main__.Node object at 0x7d8fd037ac50 -->\n<g id=\"node5\" class=\"node\">\n<title>__main__.Node object at 0x7d8fd037ac50</title>\n<ellipse fill=\"none\" stroke=\"black\" cx=\"266.15\" cy=\"-234\" rx=\"46.29\" ry=\"18\"/>\n<text text-anchor=\"middle\" x=\"266.15\" y=\"-230.3\" font-family=\"Times,serif\" font-size=\"14.00\">6 &#160;&#160;&#160;(B: 3)</text>\n</g>\n<!-- __main__.Node object at 0x7d8f4057dd80&#45;&gt;__main__.Node object at 0x7d8fd037ac50 -->\n<g id=\"edge4\" class=\"edge\">\n<title>__main__.Node object at 0x7d8f4057dd80&#45;&gt;__main__.Node object at 0x7d8fd037ac50</title>\n<path fill=\"none\" stroke=\"black\" d=\"M224.18,-288.41C230.96,-279.78 239.38,-269.06 246.9,-259.5\"/>\n<polygon fill=\"black\" stroke=\"black\" points=\"249.78,-261.5 253.21,-251.47 244.27,-257.17 249.78,-261.5\"/>\n</g>\n<!-- __main__.Node object at 0x7d8fd03790c0 -->\n<g id=\"node3\" class=\"node\">\n<title>__main__.Node object at 0x7d8fd03790c0</title>\n<ellipse fill=\"none\" stroke=\"black\" cx=\"46.15\" cy=\"-162\" rx=\"46.29\" ry=\"18\"/>\n<text text-anchor=\"middle\" x=\"46.15\" y=\"-158.3\" font-family=\"Times,serif\" font-size=\"14.00\">1 &#160;&#160;&#160;(B: 0)</text>\n</g>\n<!-- __main__.Node object at 0x7d8fd0378e20&#45;&gt;__main__.Node object at 0x7d8fd03790c0 -->\n<g id=\"edge2\" class=\"edge\">\n<title>__main__.Node object at 0x7d8fd0378e20&#45;&gt;__main__.Node object at 0x7d8fd03790c0</title>\n<path fill=\"none\" stroke=\"black\" d=\"M133.09,-218.33C117.1,-208.15 95.6,-194.47 77.98,-183.26\"/>\n<polygon fill=\"black\" stroke=\"black\" points=\"79.49,-180.07 69.18,-177.65 75.73,-185.98 79.49,-180.07\"/>\n</g>\n<!-- __main__.Node object at 0x7d8fd0379cf0 -->\n<g id=\"node4\" class=\"node\">\n<title>__main__.Node object at 0x7d8fd0379cf0</title>\n<ellipse fill=\"none\" stroke=\"black\" cx=\"156.15\" cy=\"-162\" rx=\"46.29\" ry=\"18\"/>\n<text text-anchor=\"middle\" x=\"156.15\" y=\"-158.3\" font-family=\"Times,serif\" font-size=\"14.00\">3 &#160;&#160;&#160;(B: 0)</text>\n</g>\n<!-- __main__.Node object at 0x7d8fd0378e20&#45;&gt;__main__.Node object at 0x7d8fd0379cf0 -->\n<g id=\"edge3\" class=\"edge\">\n<title>__main__.Node object at 0x7d8fd0378e20&#45;&gt;__main__.Node object at 0x7d8fd0379cf0</title>\n<path fill=\"none\" stroke=\"black\" d=\"M156.15,-215.7C156.15,-207.98 156.15,-198.71 156.15,-190.11\"/>\n<polygon fill=\"black\" stroke=\"black\" points=\"159.65,-190.1 156.15,-180.1 152.65,-190.1 159.65,-190.1\"/>\n</g>\n<!-- __main__.Node object at 0x7d8f405e06a0 -->\n<g id=\"node6\" class=\"node\">\n<title>__main__.Node object at 0x7d8f405e06a0</title>\n<ellipse fill=\"none\" stroke=\"black\" cx=\"266.15\" cy=\"-162\" rx=\"46.29\" ry=\"18\"/>\n<text text-anchor=\"middle\" x=\"266.15\" y=\"-158.3\" font-family=\"Times,serif\" font-size=\"14.00\">7 &#160;&#160;&#160;(B: 2)</text>\n</g>\n<!-- __main__.Node object at 0x7d8fd037ac50&#45;&gt;__main__.Node object at 0x7d8f405e06a0 -->\n<g id=\"edge5\" class=\"edge\">\n<title>__main__.Node object at 0x7d8fd037ac50&#45;&gt;__main__.Node object at 0x7d8f405e06a0</title>\n<path fill=\"none\" stroke=\"black\" d=\"M266.15,-215.7C266.15,-207.98 266.15,-198.71 266.15,-190.11\"/>\n<polygon fill=\"black\" stroke=\"black\" points=\"269.65,-190.1 266.15,-180.1 262.65,-190.1 269.65,-190.1\"/>\n</g>\n<!-- __main__.Node object at 0x7d8f405e19c0 -->\n<g id=\"node7\" class=\"node\">\n<title>__main__.Node object at 0x7d8f405e19c0</title>\n<ellipse fill=\"none\" stroke=\"black\" cx=\"266.15\" cy=\"-90\" rx=\"46.29\" ry=\"18\"/>\n<text text-anchor=\"middle\" x=\"266.15\" y=\"-86.3\" font-family=\"Times,serif\" font-size=\"14.00\">8 &#160;&#160;&#160;(B: 1)</text>\n</g>\n<!-- __main__.Node object at 0x7d8f405e06a0&#45;&gt;__main__.Node object at 0x7d8f405e19c0 -->\n<g id=\"edge6\" class=\"edge\">\n<title>__main__.Node object at 0x7d8f405e06a0&#45;&gt;__main__.Node object at 0x7d8f405e19c0</title>\n<path fill=\"none\" stroke=\"black\" d=\"M266.15,-143.7C266.15,-135.98 266.15,-126.71 266.15,-118.11\"/>\n<polygon fill=\"black\" stroke=\"black\" points=\"269.65,-118.1 266.15,-108.1 262.65,-118.1 269.65,-118.1\"/>\n</g>\n<!-- __main__.Node object at 0x7d8fd0378bb0 -->\n<g id=\"node8\" class=\"node\">\n<title>__main__.Node object at 0x7d8fd0378bb0</title>\n<ellipse fill=\"none\" stroke=\"black\" cx=\"266.15\" cy=\"-18\" rx=\"46.29\" ry=\"18\"/>\n<text text-anchor=\"middle\" x=\"266.15\" y=\"-14.3\" font-family=\"Times,serif\" font-size=\"14.00\">9 &#160;&#160;&#160;(B: 0)</text>\n</g>\n<!-- __main__.Node object at 0x7d8f405e19c0&#45;&gt;__main__.Node object at 0x7d8fd0378bb0 -->\n<g id=\"edge7\" class=\"edge\">\n<title>__main__.Node object at 0x7d8f405e19c0&#45;&gt;__main__.Node object at 0x7d8fd0378bb0</title>\n<path fill=\"none\" stroke=\"black\" d=\"M266.15,-71.7C266.15,-63.98 266.15,-54.71 266.15,-46.11\"/>\n<polygon fill=\"black\" stroke=\"black\" points=\"269.65,-46.1 266.15,-36.1 262.65,-46.1 269.65,-46.1\"/>\n</g>\n</g>\n</svg>\n",
            "text/plain": [
              "<graphviz.graphs.Digraph at 0x7d8f405e2f50>"
            ]
          },
          "metadata": {}
        },
        {
          "output_type": "stream",
          "name": "stdout",
          "text": [
            "\n"
          ]
        }
      ]
    },
    {
      "cell_type": "markdown",
      "source": [
        "***"
      ],
      "metadata": {
        "id": "wI_luVp3texB"
      },
      "id": "wI_luVp3texB"
    },
    {
      "cell_type": "markdown",
      "source": [
        "##(2) Write an algorithm (and code) to find the first common ancestor of two nodes in a binary search tree.\n",
        "#### Your function will take as input arguments: two nodes and a Binary Search Trees (BST). Your algorithm should first search the nodes and then determine what is the first common ancestor node. The common ancestor node should be returned."
      ],
      "metadata": {
        "id": "72ctyWC9tPIN"
      },
      "id": "72ctyWC9tPIN"
    },
    {
      "cell_type": "code",
      "source": [
        "def find_common_ancestor(root, node1, node2):\n",
        "    # Function added with test case of checking unknown values\n",
        "    def find_node(root, target):\n",
        "        if root is None:\n",
        "            return False\n",
        "        if root.val == target.val:\n",
        "            return True\n",
        "        if root.val > target.val:\n",
        "            return find_node(root.left, target)\n",
        "        return find_node(root.right, target)\n",
        "\n",
        "    # Check if both nodes are present in the BST\n",
        "    if not find_node(root, node1) or not find_node(root, node2):\n",
        "        return Node(\"unknown\")\n",
        "\n",
        "    # Find the common ancestor\n",
        "    current = root\n",
        "    while current is not None:\n",
        "        if current.val > node1.val and current.val > node2.val:\n",
        "            current = current.left\n",
        "        elif current.val < node1.val and current.val < node2.val:\n",
        "            current = current.right\n",
        "        else:\n",
        "            return current # Found first common ancestor\n",
        "\n",
        "    return Node(\"unknown\")  # No common ancestor found\n"
      ],
      "metadata": {
        "id": "39fOVq6Kye2B"
      },
      "id": "39fOVq6Kye2B",
      "execution_count": null,
      "outputs": []
    },
    {
      "cell_type": "markdown",
      "source": [
        "## *Test Cases 2*"
      ],
      "metadata": {
        "id": "E6zymFf9yHP5"
      },
      "id": "E6zymFf9yHP5"
    },
    {
      "cell_type": "code",
      "source": [
        "# Find the first common ancestor of nodes with values 1 and 3\n",
        "node1 = Node(1)\n",
        "node2 = Node(3)\n",
        "common_ancestor = find_common_ancestor(test1_tree, node1, node2)\n",
        "print(\"First Common Ancestor (1 & 3):\", common_ancestor.val)\n",
        "print()\n",
        "\n",
        "# Find the first common ancestor of nodes with values 2 and 6\n",
        "node3 = Node(2)\n",
        "node4 = Node(6)\n",
        "common_ancestor2 = find_common_ancestor(test1_tree, node3, node4)\n",
        "print(\"First Common Ancestor (2 & 6):\", common_ancestor2.val)\n",
        "print()\n",
        "\n",
        "# Find the first common ancestor of nodes not in BST\n",
        "node3 = Node(10)\n",
        "node4 = Node(5)\n",
        "common_ancestor2 = find_common_ancestor(test1_tree, node3, node4)\n",
        "print(\"First Common Ancestor (10 & 5):\", common_ancestor2.val)\n",
        "print()\n",
        "\n",
        "#Visualise Tree\n",
        "dot = visualize_tree(test1_tree)"
      ],
      "metadata": {
        "colab": {
          "base_uri": "https://localhost:8080/",
          "height": 568
        },
        "id": "vbL3Hl230chq",
        "outputId": "4feb6841-c4fe-4d23-e04d-a00b0ffb8387"
      },
      "id": "vbL3Hl230chq",
      "execution_count": null,
      "outputs": [
        {
          "output_type": "stream",
          "name": "stdout",
          "text": [
            "First Common Ancestor (1 & 3): 2\n",
            "\n",
            "First Common Ancestor (2 & 6): 4\n",
            "\n",
            "First Common Ancestor (10 & 5): unknown\n",
            "\n"
          ]
        },
        {
          "output_type": "display_data",
          "data": {
            "image/svg+xml": "<?xml version=\"1.0\" encoding=\"UTF-8\" standalone=\"no\"?>\n<!DOCTYPE svg PUBLIC \"-//W3C//DTD SVG 1.1//EN\"\n \"http://www.w3.org/Graphics/SVG/1.1/DTD/svg11.dtd\">\n<!-- Generated by graphviz version 2.43.0 (0)\n -->\n<!-- Title: %3 Pages: 1 -->\n<svg width=\"320pt\" height=\"332pt\"\n viewBox=\"0.00 0.00 320.29 332.00\" xmlns=\"http://www.w3.org/2000/svg\" xmlns:xlink=\"http://www.w3.org/1999/xlink\">\n<g id=\"graph0\" class=\"graph\" transform=\"scale(1 1) rotate(0) translate(4 328)\">\n<title>%3</title>\n<polygon fill=\"white\" stroke=\"transparent\" points=\"-4,4 -4,-328 316.29,-328 316.29,4 -4,4\"/>\n<!-- __main__.Node object at 0x7d8f4057dd80 -->\n<g id=\"node1\" class=\"node\">\n<title>__main__.Node object at 0x7d8f4057dd80</title>\n<ellipse fill=\"none\" stroke=\"black\" cx=\"211.15\" cy=\"-306\" rx=\"46.29\" ry=\"18\"/>\n<text text-anchor=\"middle\" x=\"211.15\" y=\"-302.3\" font-family=\"Times,serif\" font-size=\"14.00\">4 &#160;&#160;&#160;(B: 2)</text>\n</g>\n<!-- __main__.Node object at 0x7d8fd0378e20 -->\n<g id=\"node2\" class=\"node\">\n<title>__main__.Node object at 0x7d8fd0378e20</title>\n<ellipse fill=\"none\" stroke=\"black\" cx=\"156.15\" cy=\"-234\" rx=\"46.29\" ry=\"18\"/>\n<text text-anchor=\"middle\" x=\"156.15\" y=\"-230.3\" font-family=\"Times,serif\" font-size=\"14.00\">2 &#160;&#160;&#160;(B: 0)</text>\n</g>\n<!-- __main__.Node object at 0x7d8f4057dd80&#45;&gt;__main__.Node object at 0x7d8fd0378e20 -->\n<g id=\"edge1\" class=\"edge\">\n<title>__main__.Node object at 0x7d8f4057dd80&#45;&gt;__main__.Node object at 0x7d8fd0378e20</title>\n<path fill=\"none\" stroke=\"black\" d=\"M198.11,-288.41C191.33,-279.78 182.91,-269.06 175.39,-259.5\"/>\n<polygon fill=\"black\" stroke=\"black\" points=\"178.02,-257.17 169.09,-251.47 172.51,-261.5 178.02,-257.17\"/>\n</g>\n<!-- __main__.Node object at 0x7d8fd037ac50 -->\n<g id=\"node5\" class=\"node\">\n<title>__main__.Node object at 0x7d8fd037ac50</title>\n<ellipse fill=\"none\" stroke=\"black\" cx=\"266.15\" cy=\"-234\" rx=\"46.29\" ry=\"18\"/>\n<text text-anchor=\"middle\" x=\"266.15\" y=\"-230.3\" font-family=\"Times,serif\" font-size=\"14.00\">6 &#160;&#160;&#160;(B: 3)</text>\n</g>\n<!-- __main__.Node object at 0x7d8f4057dd80&#45;&gt;__main__.Node object at 0x7d8fd037ac50 -->\n<g id=\"edge4\" class=\"edge\">\n<title>__main__.Node object at 0x7d8f4057dd80&#45;&gt;__main__.Node object at 0x7d8fd037ac50</title>\n<path fill=\"none\" stroke=\"black\" d=\"M224.18,-288.41C230.96,-279.78 239.38,-269.06 246.9,-259.5\"/>\n<polygon fill=\"black\" stroke=\"black\" points=\"249.78,-261.5 253.21,-251.47 244.27,-257.17 249.78,-261.5\"/>\n</g>\n<!-- __main__.Node object at 0x7d8fd03790c0 -->\n<g id=\"node3\" class=\"node\">\n<title>__main__.Node object at 0x7d8fd03790c0</title>\n<ellipse fill=\"none\" stroke=\"black\" cx=\"46.15\" cy=\"-162\" rx=\"46.29\" ry=\"18\"/>\n<text text-anchor=\"middle\" x=\"46.15\" y=\"-158.3\" font-family=\"Times,serif\" font-size=\"14.00\">1 &#160;&#160;&#160;(B: 0)</text>\n</g>\n<!-- __main__.Node object at 0x7d8fd0378e20&#45;&gt;__main__.Node object at 0x7d8fd03790c0 -->\n<g id=\"edge2\" class=\"edge\">\n<title>__main__.Node object at 0x7d8fd0378e20&#45;&gt;__main__.Node object at 0x7d8fd03790c0</title>\n<path fill=\"none\" stroke=\"black\" d=\"M133.09,-218.33C117.1,-208.15 95.6,-194.47 77.98,-183.26\"/>\n<polygon fill=\"black\" stroke=\"black\" points=\"79.49,-180.07 69.18,-177.65 75.73,-185.98 79.49,-180.07\"/>\n</g>\n<!-- __main__.Node object at 0x7d8fd0379cf0 -->\n<g id=\"node4\" class=\"node\">\n<title>__main__.Node object at 0x7d8fd0379cf0</title>\n<ellipse fill=\"none\" stroke=\"black\" cx=\"156.15\" cy=\"-162\" rx=\"46.29\" ry=\"18\"/>\n<text text-anchor=\"middle\" x=\"156.15\" y=\"-158.3\" font-family=\"Times,serif\" font-size=\"14.00\">3 &#160;&#160;&#160;(B: 0)</text>\n</g>\n<!-- __main__.Node object at 0x7d8fd0378e20&#45;&gt;__main__.Node object at 0x7d8fd0379cf0 -->\n<g id=\"edge3\" class=\"edge\">\n<title>__main__.Node object at 0x7d8fd0378e20&#45;&gt;__main__.Node object at 0x7d8fd0379cf0</title>\n<path fill=\"none\" stroke=\"black\" d=\"M156.15,-215.7C156.15,-207.98 156.15,-198.71 156.15,-190.11\"/>\n<polygon fill=\"black\" stroke=\"black\" points=\"159.65,-190.1 156.15,-180.1 152.65,-190.1 159.65,-190.1\"/>\n</g>\n<!-- __main__.Node object at 0x7d8f405e06a0 -->\n<g id=\"node6\" class=\"node\">\n<title>__main__.Node object at 0x7d8f405e06a0</title>\n<ellipse fill=\"none\" stroke=\"black\" cx=\"266.15\" cy=\"-162\" rx=\"46.29\" ry=\"18\"/>\n<text text-anchor=\"middle\" x=\"266.15\" y=\"-158.3\" font-family=\"Times,serif\" font-size=\"14.00\">7 &#160;&#160;&#160;(B: 2)</text>\n</g>\n<!-- __main__.Node object at 0x7d8fd037ac50&#45;&gt;__main__.Node object at 0x7d8f405e06a0 -->\n<g id=\"edge5\" class=\"edge\">\n<title>__main__.Node object at 0x7d8fd037ac50&#45;&gt;__main__.Node object at 0x7d8f405e06a0</title>\n<path fill=\"none\" stroke=\"black\" d=\"M266.15,-215.7C266.15,-207.98 266.15,-198.71 266.15,-190.11\"/>\n<polygon fill=\"black\" stroke=\"black\" points=\"269.65,-190.1 266.15,-180.1 262.65,-190.1 269.65,-190.1\"/>\n</g>\n<!-- __main__.Node object at 0x7d8f405e19c0 -->\n<g id=\"node7\" class=\"node\">\n<title>__main__.Node object at 0x7d8f405e19c0</title>\n<ellipse fill=\"none\" stroke=\"black\" cx=\"266.15\" cy=\"-90\" rx=\"46.29\" ry=\"18\"/>\n<text text-anchor=\"middle\" x=\"266.15\" y=\"-86.3\" font-family=\"Times,serif\" font-size=\"14.00\">8 &#160;&#160;&#160;(B: 1)</text>\n</g>\n<!-- __main__.Node object at 0x7d8f405e06a0&#45;&gt;__main__.Node object at 0x7d8f405e19c0 -->\n<g id=\"edge6\" class=\"edge\">\n<title>__main__.Node object at 0x7d8f405e06a0&#45;&gt;__main__.Node object at 0x7d8f405e19c0</title>\n<path fill=\"none\" stroke=\"black\" d=\"M266.15,-143.7C266.15,-135.98 266.15,-126.71 266.15,-118.11\"/>\n<polygon fill=\"black\" stroke=\"black\" points=\"269.65,-118.1 266.15,-108.1 262.65,-118.1 269.65,-118.1\"/>\n</g>\n<!-- __main__.Node object at 0x7d8fd0378bb0 -->\n<g id=\"node8\" class=\"node\">\n<title>__main__.Node object at 0x7d8fd0378bb0</title>\n<ellipse fill=\"none\" stroke=\"black\" cx=\"266.15\" cy=\"-18\" rx=\"46.29\" ry=\"18\"/>\n<text text-anchor=\"middle\" x=\"266.15\" y=\"-14.3\" font-family=\"Times,serif\" font-size=\"14.00\">9 &#160;&#160;&#160;(B: 0)</text>\n</g>\n<!-- __main__.Node object at 0x7d8f405e19c0&#45;&gt;__main__.Node object at 0x7d8fd0378bb0 -->\n<g id=\"edge7\" class=\"edge\">\n<title>__main__.Node object at 0x7d8f405e19c0&#45;&gt;__main__.Node object at 0x7d8fd0378bb0</title>\n<path fill=\"none\" stroke=\"black\" d=\"M266.15,-71.7C266.15,-63.98 266.15,-54.71 266.15,-46.11\"/>\n<polygon fill=\"black\" stroke=\"black\" points=\"269.65,-46.1 266.15,-36.1 262.65,-46.1 269.65,-46.1\"/>\n</g>\n</g>\n</svg>\n",
            "text/plain": [
              "<graphviz.graphs.Digraph at 0x7d8f405e3b80>"
            ]
          },
          "metadata": {}
        }
      ]
    },
    {
      "cell_type": "markdown",
      "id": "01e640cf",
      "metadata": {
        "id": "01e640cf"
      },
      "source": [
        "***"
      ]
    },
    {
      "cell_type": "markdown",
      "source": [
        "## (3) In the seminar, we discussed how various trees such as AVL or Red Black trees make extensive use of rotation operation.\n",
        "##### In fact, if you can perform rotations easily, you can code insertion and deletion in AVL and RB trees. Write an algorithm (and code) to perform following form of rotations on any specified node of a BST? You can assume that nodes P, Q and C does exist in your tree. Your function should take the tree as well as a node at which to perform rotation, as input arguments, and then return a tree in which rotation is performed:\n",
        "#### - a right rotation,\n",
        "#### - a left rotation,\n",
        "#### - a left-right rotation,\n",
        "#### - a right-left rotation."
      ],
      "metadata": {
        "id": "U7Q3fsYqtkDh"
      },
      "id": "U7Q3fsYqtkDh"
    },
    {
      "cell_type": "code",
      "source": [
        "# I spent more time on code comments in this cell as rotations initially confused me\n",
        "# Function for right rotation\n",
        "def rotate_right(nodes, val):\n",
        "  # Find parent of input node (val)\n",
        "  parent = findParent(nodes, val)\n",
        "  p = val.left # Store left child of val in p\n",
        "  q = p.right # Store right child of p in q\n",
        "\n",
        "  # Perform rotation\n",
        "  p.right = val\n",
        "  val.left = q\n",
        "\n",
        "  update_balance(val)  # Update balance rotated node\n",
        "  update_balance(p)    # Update balance new root of subtree\n",
        "\n",
        "  # Update parent pointers\n",
        "  if parent != None:\n",
        "      if parent.right == val:\n",
        "          parent.right = p\n",
        "      else:\n",
        "          parent.left = p\n",
        "\n",
        "  update_balance(nodes) # Upgate balance tree\n",
        "  return p\n",
        "\n",
        "# Function for left rotation\n",
        "def rotate_left(nodes, val):\n",
        "  # Find parent of input node (val)\n",
        "  parent = findParent(nodes, val)\n",
        "  p = val.right # Store right child of val in p\n",
        "  q = p.left # Store left child of p in q\n",
        "\n",
        "  # Perform rotation\n",
        "  p.left = val\n",
        "  val.right = q\n",
        "\n",
        "  update_balance(val)  # Update balance rotated node\n",
        "  update_balance(p)    # Update balance new root of subtree\n",
        "\n",
        "  # Update parent pointers\n",
        "  if parent != None:\n",
        "      if parent.left == val:\n",
        "          parent.left = p\n",
        "      else:\n",
        "          parent.right = p\n",
        "\n",
        "  update_balance(nodes) # Upgate balance tree\n",
        "  return p\n",
        "\n",
        "# Function for left-right rotation\n",
        "def left_right_rotation(nodes, val):\n",
        "  test_tree = rotate_left(nodes, val) # Left rotation\n",
        "  test_tree2 = rotate_right(test_tree, val) # Right rotation\n",
        "  return test_tree2 # new subtree\n",
        "\n",
        "# Function for right-left rotation\n",
        "def right_left_rotation(nodes, val):\n",
        "  test_tree3 = rotate_right(nodes, val) # Right rotation\n",
        "  test_tree3 = rotate_left(test_tree3, val) # Left rotation\n",
        "  return test_tree3 # new subtree\n",
        "\n",
        "# Find node\n",
        "def find_node(nodes, val):\n",
        "  # Current node has val\n",
        "  if val == nodes.val:\n",
        "      return nodes\n",
        "\n",
        "  if val < nodes.val: # Search in left subtree\n",
        "      if nodes.left == None:\n",
        "          return False\n",
        "      return find_node(nodes.left, val)\n",
        "\n",
        "  elif val >= nodes.val: # Search in right subtree\n",
        "      if nodes.right == None:\n",
        "          return False\n",
        "      return find_node(nodes.right, val)\n",
        "\n",
        "# Find Parent, searching left subtree to avoid recursion\n",
        "def findParent(tree, node):\n",
        "  # Current node no children = root and parent\n",
        "  if tree.left is None and tree.right is None:\n",
        "      return tree\n",
        "\n",
        "  # Current node = target node, current = parent\n",
        "  if tree.val == node:\n",
        "      return tree\n",
        "  elif tree.val > node.val: # Search left tree\n",
        "      if tree.left.val == node.val:\n",
        "          return tree\n",
        "      else:\n",
        "          return findParent(tree.left, node)"
      ],
      "metadata": {
        "id": "ZrVekaUq6FvI"
      },
      "id": "ZrVekaUq6FvI",
      "execution_count": null,
      "outputs": []
    },
    {
      "cell_type": "markdown",
      "source": [
        "## *Test Cases 3.1*\n",
        "#### - Left Rotation"
      ],
      "metadata": {
        "id": "YX3GavFmt8jf"
      },
      "id": "YX3GavFmt8jf"
    },
    {
      "cell_type": "code",
      "source": [
        "# Left Rotation Test\n",
        "test1 = [1, 2, 3, 4, 5, 6, 7, 8]\n",
        "test2_tree = buildBinaryTree(test1)\n",
        "\n",
        "# Display the original tree\n",
        "print(\"Original Tree:\")\n",
        "visualize_tree(test2_tree)\n",
        "print()\n",
        "\n",
        "# Performing left rotation at node with value 4\n",
        "test_node1 = find_node(test2_tree, 4)\n",
        "test2_tree = rotate_left(test2_tree, test_node1)\n",
        "print(\"Left Rotation:\")\n",
        "visualize_tree(test2_tree)\n",
        "print()"
      ],
      "metadata": {
        "colab": {
          "base_uri": "https://localhost:8080/",
          "height": 788
        },
        "id": "JhWjBYj35CqZ",
        "outputId": "fac5211c-5ea2-4860-fbaa-ca5cee3a33e4"
      },
      "id": "JhWjBYj35CqZ",
      "execution_count": null,
      "outputs": [
        {
          "output_type": "stream",
          "name": "stdout",
          "text": [
            "Original Tree:\n"
          ]
        },
        {
          "output_type": "display_data",
          "data": {
            "image/svg+xml": "<?xml version=\"1.0\" encoding=\"UTF-8\" standalone=\"no\"?>\n<!DOCTYPE svg PUBLIC \"-//W3C//DTD SVG 1.1//EN\"\n \"http://www.w3.org/Graphics/SVG/1.1/DTD/svg11.dtd\">\n<!-- Generated by graphviz version 2.43.0 (0)\n -->\n<!-- Title: %3 Pages: 1 -->\n<svg width=\"430pt\" height=\"260pt\"\n viewBox=\"0.00 0.00 430.29 260.00\" xmlns=\"http://www.w3.org/2000/svg\" xmlns:xlink=\"http://www.w3.org/1999/xlink\">\n<g id=\"graph0\" class=\"graph\" transform=\"scale(1 1) rotate(0) translate(4 256)\">\n<title>%3</title>\n<polygon fill=\"white\" stroke=\"transparent\" points=\"-4,4 -4,-256 426.29,-256 426.29,4 -4,4\"/>\n<!-- __main__.Node object at 0x7d8f4057e950 -->\n<g id=\"node1\" class=\"node\">\n<title>__main__.Node object at 0x7d8f4057e950</title>\n<ellipse fill=\"none\" stroke=\"black\" cx=\"211.15\" cy=\"-234\" rx=\"46.29\" ry=\"18\"/>\n<text text-anchor=\"middle\" x=\"211.15\" y=\"-230.3\" font-family=\"Times,serif\" font-size=\"14.00\">4 &#160;&#160;&#160;(B: 0)</text>\n</g>\n<!-- __main__.Node object at 0x7d8f4057f160 -->\n<g id=\"node2\" class=\"node\">\n<title>__main__.Node object at 0x7d8f4057f160</title>\n<ellipse fill=\"none\" stroke=\"black\" cx=\"156.15\" cy=\"-162\" rx=\"46.29\" ry=\"18\"/>\n<text text-anchor=\"middle\" x=\"156.15\" y=\"-158.3\" font-family=\"Times,serif\" font-size=\"14.00\">2 &#160;&#160;&#160;(B: 0)</text>\n</g>\n<!-- __main__.Node object at 0x7d8f4057e950&#45;&gt;__main__.Node object at 0x7d8f4057f160 -->\n<g id=\"edge1\" class=\"edge\">\n<title>__main__.Node object at 0x7d8f4057e950&#45;&gt;__main__.Node object at 0x7d8f4057f160</title>\n<path fill=\"none\" stroke=\"black\" d=\"M198.11,-216.41C191.33,-207.78 182.91,-197.06 175.39,-187.5\"/>\n<polygon fill=\"black\" stroke=\"black\" points=\"178.02,-185.17 169.09,-179.47 172.51,-189.5 178.02,-185.17\"/>\n</g>\n<!-- __main__.Node object at 0x7d8fd02c1120 -->\n<g id=\"node5\" class=\"node\">\n<title>__main__.Node object at 0x7d8fd02c1120</title>\n<ellipse fill=\"none\" stroke=\"black\" cx=\"266.15\" cy=\"-162\" rx=\"46.29\" ry=\"18\"/>\n<text text-anchor=\"middle\" x=\"266.15\" y=\"-158.3\" font-family=\"Times,serif\" font-size=\"14.00\">6 &#160;&#160;&#160;(B: 0)</text>\n</g>\n<!-- __main__.Node object at 0x7d8f4057e950&#45;&gt;__main__.Node object at 0x7d8fd02c1120 -->\n<g id=\"edge4\" class=\"edge\">\n<title>__main__.Node object at 0x7d8f4057e950&#45;&gt;__main__.Node object at 0x7d8fd02c1120</title>\n<path fill=\"none\" stroke=\"black\" d=\"M224.18,-216.41C230.96,-207.78 239.38,-197.06 246.9,-187.5\"/>\n<polygon fill=\"black\" stroke=\"black\" points=\"249.78,-189.5 253.21,-179.47 244.27,-185.17 249.78,-189.5\"/>\n</g>\n<!-- __main__.Node object at 0x7d8f4057eb00 -->\n<g id=\"node3\" class=\"node\">\n<title>__main__.Node object at 0x7d8f4057eb00</title>\n<ellipse fill=\"none\" stroke=\"black\" cx=\"46.15\" cy=\"-90\" rx=\"46.29\" ry=\"18\"/>\n<text text-anchor=\"middle\" x=\"46.15\" y=\"-86.3\" font-family=\"Times,serif\" font-size=\"14.00\">1 &#160;&#160;&#160;(B: 0)</text>\n</g>\n<!-- __main__.Node object at 0x7d8f4057f160&#45;&gt;__main__.Node object at 0x7d8f4057eb00 -->\n<g id=\"edge2\" class=\"edge\">\n<title>__main__.Node object at 0x7d8f4057f160&#45;&gt;__main__.Node object at 0x7d8f4057eb00</title>\n<path fill=\"none\" stroke=\"black\" d=\"M133.09,-146.33C117.1,-136.15 95.6,-122.47 77.98,-111.26\"/>\n<polygon fill=\"black\" stroke=\"black\" points=\"79.49,-108.07 69.18,-105.65 75.73,-113.98 79.49,-108.07\"/>\n</g>\n<!-- __main__.Node object at 0x7d8fd02c18a0 -->\n<g id=\"node4\" class=\"node\">\n<title>__main__.Node object at 0x7d8fd02c18a0</title>\n<ellipse fill=\"none\" stroke=\"black\" cx=\"156.15\" cy=\"-90\" rx=\"46.29\" ry=\"18\"/>\n<text text-anchor=\"middle\" x=\"156.15\" y=\"-86.3\" font-family=\"Times,serif\" font-size=\"14.00\">3 &#160;&#160;&#160;(B: 0)</text>\n</g>\n<!-- __main__.Node object at 0x7d8f4057f160&#45;&gt;__main__.Node object at 0x7d8fd02c18a0 -->\n<g id=\"edge3\" class=\"edge\">\n<title>__main__.Node object at 0x7d8f4057f160&#45;&gt;__main__.Node object at 0x7d8fd02c18a0</title>\n<path fill=\"none\" stroke=\"black\" d=\"M156.15,-143.7C156.15,-135.98 156.15,-126.71 156.15,-118.11\"/>\n<polygon fill=\"black\" stroke=\"black\" points=\"159.65,-118.1 156.15,-108.1 152.65,-118.1 159.65,-118.1\"/>\n</g>\n<!-- __main__.Node object at 0x7d8fd037ba00 -->\n<g id=\"node6\" class=\"node\">\n<title>__main__.Node object at 0x7d8fd037ba00</title>\n<ellipse fill=\"none\" stroke=\"black\" cx=\"266.15\" cy=\"-90\" rx=\"46.29\" ry=\"18\"/>\n<text text-anchor=\"middle\" x=\"266.15\" y=\"-86.3\" font-family=\"Times,serif\" font-size=\"14.00\">5 &#160;&#160;&#160;(B: 0)</text>\n</g>\n<!-- __main__.Node object at 0x7d8fd02c1120&#45;&gt;__main__.Node object at 0x7d8fd037ba00 -->\n<g id=\"edge5\" class=\"edge\">\n<title>__main__.Node object at 0x7d8fd02c1120&#45;&gt;__main__.Node object at 0x7d8fd037ba00</title>\n<path fill=\"none\" stroke=\"black\" d=\"M266.15,-143.7C266.15,-135.98 266.15,-126.71 266.15,-118.11\"/>\n<polygon fill=\"black\" stroke=\"black\" points=\"269.65,-118.1 266.15,-108.1 262.65,-118.1 269.65,-118.1\"/>\n</g>\n<!-- __main__.Node object at 0x7d8fd037b790 -->\n<g id=\"node7\" class=\"node\">\n<title>__main__.Node object at 0x7d8fd037b790</title>\n<ellipse fill=\"none\" stroke=\"black\" cx=\"376.15\" cy=\"-90\" rx=\"46.29\" ry=\"18\"/>\n<text text-anchor=\"middle\" x=\"376.15\" y=\"-86.3\" font-family=\"Times,serif\" font-size=\"14.00\">7 &#160;&#160;&#160;(B: 0)</text>\n</g>\n<!-- __main__.Node object at 0x7d8fd02c1120&#45;&gt;__main__.Node object at 0x7d8fd037b790 -->\n<g id=\"edge6\" class=\"edge\">\n<title>__main__.Node object at 0x7d8fd02c1120&#45;&gt;__main__.Node object at 0x7d8fd037b790</title>\n<path fill=\"none\" stroke=\"black\" d=\"M289.21,-146.33C305.19,-136.15 326.69,-122.47 344.31,-111.26\"/>\n<polygon fill=\"black\" stroke=\"black\" points=\"346.56,-113.98 353.12,-105.65 342.8,-108.07 346.56,-113.98\"/>\n</g>\n<!-- __main__.Node object at 0x7d8f406016f0 -->\n<g id=\"node8\" class=\"node\">\n<title>__main__.Node object at 0x7d8f406016f0</title>\n<ellipse fill=\"none\" stroke=\"black\" cx=\"376.15\" cy=\"-18\" rx=\"46.29\" ry=\"18\"/>\n<text text-anchor=\"middle\" x=\"376.15\" y=\"-14.3\" font-family=\"Times,serif\" font-size=\"14.00\">8 &#160;&#160;&#160;(B: 0)</text>\n</g>\n<!-- __main__.Node object at 0x7d8fd037b790&#45;&gt;__main__.Node object at 0x7d8f406016f0 -->\n<g id=\"edge7\" class=\"edge\">\n<title>__main__.Node object at 0x7d8fd037b790&#45;&gt;__main__.Node object at 0x7d8f406016f0</title>\n<path fill=\"none\" stroke=\"black\" d=\"M376.15,-71.7C376.15,-63.98 376.15,-54.71 376.15,-46.11\"/>\n<polygon fill=\"black\" stroke=\"black\" points=\"379.65,-46.1 376.15,-36.1 372.65,-46.1 379.65,-46.1\"/>\n</g>\n</g>\n</svg>\n",
            "text/plain": [
              "<graphviz.graphs.Digraph at 0x7d8f4057e2f0>"
            ]
          },
          "metadata": {}
        },
        {
          "output_type": "stream",
          "name": "stdout",
          "text": [
            "\n",
            "Left Rotation:\n"
          ]
        },
        {
          "output_type": "display_data",
          "data": {
            "image/svg+xml": "<?xml version=\"1.0\" encoding=\"UTF-8\" standalone=\"no\"?>\n<!DOCTYPE svg PUBLIC \"-//W3C//DTD SVG 1.1//EN\"\n \"http://www.w3.org/Graphics/SVG/1.1/DTD/svg11.dtd\">\n<!-- Generated by graphviz version 2.43.0 (0)\n -->\n<!-- Title: %3 Pages: 1 -->\n<svg width=\"376pt\" height=\"260pt\"\n viewBox=\"0.00 0.00 376.29 260.00\" xmlns=\"http://www.w3.org/2000/svg\" xmlns:xlink=\"http://www.w3.org/1999/xlink\">\n<g id=\"graph0\" class=\"graph\" transform=\"scale(1 1) rotate(0) translate(4 256)\">\n<title>%3</title>\n<polygon fill=\"white\" stroke=\"transparent\" points=\"-4,4 -4,-256 372.29,-256 372.29,4 -4,4\"/>\n<!-- __main__.Node object at 0x7d8fd02c1120 -->\n<g id=\"node1\" class=\"node\">\n<title>__main__.Node object at 0x7d8fd02c1120</title>\n<ellipse fill=\"none\" stroke=\"black\" cx=\"265.15\" cy=\"-234\" rx=\"48.99\" ry=\"18\"/>\n<text text-anchor=\"middle\" x=\"265.15\" y=\"-230.3\" font-family=\"Times,serif\" font-size=\"14.00\">6 &#160;&#160;&#160;(B: &#45;1)</text>\n</g>\n<!-- __main__.Node object at 0x7d8f4057e950 -->\n<g id=\"node2\" class=\"node\">\n<title>__main__.Node object at 0x7d8f4057e950</title>\n<ellipse fill=\"none\" stroke=\"black\" cx=\"209.15\" cy=\"-162\" rx=\"48.99\" ry=\"18\"/>\n<text text-anchor=\"middle\" x=\"209.15\" y=\"-158.3\" font-family=\"Times,serif\" font-size=\"14.00\">4 &#160;&#160;&#160;(B: &#45;1)</text>\n</g>\n<!-- __main__.Node object at 0x7d8fd02c1120&#45;&gt;__main__.Node object at 0x7d8f4057e950 -->\n<g id=\"edge1\" class=\"edge\">\n<title>__main__.Node object at 0x7d8fd02c1120&#45;&gt;__main__.Node object at 0x7d8f4057e950</title>\n<path fill=\"none\" stroke=\"black\" d=\"M251.87,-216.41C244.97,-207.78 236.4,-197.06 228.74,-187.5\"/>\n<polygon fill=\"black\" stroke=\"black\" points=\"231.3,-185.09 222.32,-179.47 225.84,-189.47 231.3,-185.09\"/>\n</g>\n<!-- __main__.Node object at 0x7d8fd037b790 -->\n<g id=\"node7\" class=\"node\">\n<title>__main__.Node object at 0x7d8fd037b790</title>\n<ellipse fill=\"none\" stroke=\"black\" cx=\"322.15\" cy=\"-162\" rx=\"46.29\" ry=\"18\"/>\n<text text-anchor=\"middle\" x=\"322.15\" y=\"-158.3\" font-family=\"Times,serif\" font-size=\"14.00\">7 &#160;&#160;&#160;(B: 0)</text>\n</g>\n<!-- __main__.Node object at 0x7d8fd02c1120&#45;&gt;__main__.Node object at 0x7d8fd037b790 -->\n<g id=\"edge6\" class=\"edge\">\n<title>__main__.Node object at 0x7d8fd02c1120&#45;&gt;__main__.Node object at 0x7d8fd037b790</title>\n<path fill=\"none\" stroke=\"black\" d=\"M278.65,-216.41C285.68,-207.78 294.41,-197.06 302.2,-187.5\"/>\n<polygon fill=\"black\" stroke=\"black\" points=\"305.13,-189.43 308.73,-179.47 299.71,-185.01 305.13,-189.43\"/>\n</g>\n<!-- __main__.Node object at 0x7d8f4057f160 -->\n<g id=\"node3\" class=\"node\">\n<title>__main__.Node object at 0x7d8f4057f160</title>\n<ellipse fill=\"none\" stroke=\"black\" cx=\"101.15\" cy=\"-90\" rx=\"46.29\" ry=\"18\"/>\n<text text-anchor=\"middle\" x=\"101.15\" y=\"-86.3\" font-family=\"Times,serif\" font-size=\"14.00\">2 &#160;&#160;&#160;(B: 0)</text>\n</g>\n<!-- __main__.Node object at 0x7d8f4057e950&#45;&gt;__main__.Node object at 0x7d8f4057f160 -->\n<g id=\"edge2\" class=\"edge\">\n<title>__main__.Node object at 0x7d8f4057e950&#45;&gt;__main__.Node object at 0x7d8f4057f160</title>\n<path fill=\"none\" stroke=\"black\" d=\"M185.98,-145.98C170.35,-135.86 149.55,-122.38 132.46,-111.3\"/>\n<polygon fill=\"black\" stroke=\"black\" points=\"134.2,-108.25 123.91,-105.75 130.39,-114.13 134.2,-108.25\"/>\n</g>\n<!-- __main__.Node object at 0x7d8fd037ba00 -->\n<g id=\"node6\" class=\"node\">\n<title>__main__.Node object at 0x7d8fd037ba00</title>\n<ellipse fill=\"none\" stroke=\"black\" cx=\"211.15\" cy=\"-90\" rx=\"46.29\" ry=\"18\"/>\n<text text-anchor=\"middle\" x=\"211.15\" y=\"-86.3\" font-family=\"Times,serif\" font-size=\"14.00\">5 &#160;&#160;&#160;(B: 0)</text>\n</g>\n<!-- __main__.Node object at 0x7d8f4057e950&#45;&gt;__main__.Node object at 0x7d8fd037ba00 -->\n<g id=\"edge5\" class=\"edge\">\n<title>__main__.Node object at 0x7d8f4057e950&#45;&gt;__main__.Node object at 0x7d8fd037ba00</title>\n<path fill=\"none\" stroke=\"black\" d=\"M209.64,-143.7C209.86,-135.98 210.13,-126.71 210.37,-118.11\"/>\n<polygon fill=\"black\" stroke=\"black\" points=\"213.87,-118.2 210.66,-108.1 206.87,-118 213.87,-118.2\"/>\n</g>\n<!-- __main__.Node object at 0x7d8f4057eb00 -->\n<g id=\"node4\" class=\"node\">\n<title>__main__.Node object at 0x7d8f4057eb00</title>\n<ellipse fill=\"none\" stroke=\"black\" cx=\"46.15\" cy=\"-18\" rx=\"46.29\" ry=\"18\"/>\n<text text-anchor=\"middle\" x=\"46.15\" y=\"-14.3\" font-family=\"Times,serif\" font-size=\"14.00\">1 &#160;&#160;&#160;(B: 0)</text>\n</g>\n<!-- __main__.Node object at 0x7d8f4057f160&#45;&gt;__main__.Node object at 0x7d8f4057eb00 -->\n<g id=\"edge3\" class=\"edge\">\n<title>__main__.Node object at 0x7d8f4057f160&#45;&gt;__main__.Node object at 0x7d8f4057eb00</title>\n<path fill=\"none\" stroke=\"black\" d=\"M88.11,-72.41C81.33,-63.78 72.91,-53.06 65.39,-43.5\"/>\n<polygon fill=\"black\" stroke=\"black\" points=\"68.02,-41.17 59.09,-35.47 62.51,-45.5 68.02,-41.17\"/>\n</g>\n<!-- __main__.Node object at 0x7d8fd02c18a0 -->\n<g id=\"node5\" class=\"node\">\n<title>__main__.Node object at 0x7d8fd02c18a0</title>\n<ellipse fill=\"none\" stroke=\"black\" cx=\"156.15\" cy=\"-18\" rx=\"46.29\" ry=\"18\"/>\n<text text-anchor=\"middle\" x=\"156.15\" y=\"-14.3\" font-family=\"Times,serif\" font-size=\"14.00\">3 &#160;&#160;&#160;(B: 0)</text>\n</g>\n<!-- __main__.Node object at 0x7d8f4057f160&#45;&gt;__main__.Node object at 0x7d8fd02c18a0 -->\n<g id=\"edge4\" class=\"edge\">\n<title>__main__.Node object at 0x7d8f4057f160&#45;&gt;__main__.Node object at 0x7d8fd02c18a0</title>\n<path fill=\"none\" stroke=\"black\" d=\"M114.18,-72.41C120.96,-63.78 129.38,-53.06 136.9,-43.5\"/>\n<polygon fill=\"black\" stroke=\"black\" points=\"139.78,-45.5 143.21,-35.47 134.27,-41.17 139.78,-45.5\"/>\n</g>\n<!-- __main__.Node object at 0x7d8f406016f0 -->\n<g id=\"node8\" class=\"node\">\n<title>__main__.Node object at 0x7d8f406016f0</title>\n<ellipse fill=\"none\" stroke=\"black\" cx=\"322.15\" cy=\"-90\" rx=\"46.29\" ry=\"18\"/>\n<text text-anchor=\"middle\" x=\"322.15\" y=\"-86.3\" font-family=\"Times,serif\" font-size=\"14.00\">8 &#160;&#160;&#160;(B: 0)</text>\n</g>\n<!-- __main__.Node object at 0x7d8fd037b790&#45;&gt;__main__.Node object at 0x7d8f406016f0 -->\n<g id=\"edge7\" class=\"edge\">\n<title>__main__.Node object at 0x7d8fd037b790&#45;&gt;__main__.Node object at 0x7d8f406016f0</title>\n<path fill=\"none\" stroke=\"black\" d=\"M322.15,-143.7C322.15,-135.98 322.15,-126.71 322.15,-118.11\"/>\n<polygon fill=\"black\" stroke=\"black\" points=\"325.65,-118.1 322.15,-108.1 318.65,-118.1 325.65,-118.1\"/>\n</g>\n</g>\n</svg>\n",
            "text/plain": [
              "<graphviz.graphs.Digraph at 0x7d8f40600190>"
            ]
          },
          "metadata": {}
        },
        {
          "output_type": "stream",
          "name": "stdout",
          "text": [
            "\n"
          ]
        }
      ]
    },
    {
      "cell_type": "markdown",
      "source": [
        "## *Test Cases 3.2*\n",
        "#### - Right Rotation"
      ],
      "metadata": {
        "id": "2AUrdoSCD3Ot"
      },
      "id": "2AUrdoSCD3Ot"
    },
    {
      "cell_type": "code",
      "source": [
        "# Right Rotation Test\n",
        "test3_tree = buildBinaryTree(test1)\n",
        "\n",
        "# Display the original tree\n",
        "print(\"Original Tree:\")\n",
        "visualize_tree(test3_tree)\n",
        "print()\n",
        "\n",
        "# Performing left rotation at node with value 4\n",
        "test_node2 = find_node(test3_tree, 4)\n",
        "test3_tree = rotate_right(test3_tree, test_node2)\n",
        "print(\"Right Rotation:\")\n",
        "visualize_tree(test3_tree)\n",
        "print()"
      ],
      "metadata": {
        "colab": {
          "base_uri": "https://localhost:8080/",
          "height": 884
        },
        "id": "zFjKl6CXD3mm",
        "outputId": "bd70335d-f42d-4273-98fc-70e17c0b1e4f"
      },
      "id": "zFjKl6CXD3mm",
      "execution_count": null,
      "outputs": [
        {
          "output_type": "stream",
          "name": "stdout",
          "text": [
            "Original Tree:\n"
          ]
        },
        {
          "output_type": "display_data",
          "data": {
            "image/svg+xml": "<?xml version=\"1.0\" encoding=\"UTF-8\" standalone=\"no\"?>\n<!DOCTYPE svg PUBLIC \"-//W3C//DTD SVG 1.1//EN\"\n \"http://www.w3.org/Graphics/SVG/1.1/DTD/svg11.dtd\">\n<!-- Generated by graphviz version 2.43.0 (0)\n -->\n<!-- Title: %3 Pages: 1 -->\n<svg width=\"430pt\" height=\"260pt\"\n viewBox=\"0.00 0.00 430.29 260.00\" xmlns=\"http://www.w3.org/2000/svg\" xmlns:xlink=\"http://www.w3.org/1999/xlink\">\n<g id=\"graph0\" class=\"graph\" transform=\"scale(1 1) rotate(0) translate(4 256)\">\n<title>%3</title>\n<polygon fill=\"white\" stroke=\"transparent\" points=\"-4,4 -4,-256 426.29,-256 426.29,4 -4,4\"/>\n<!-- __main__.Node object at 0x7d8f4057d630 -->\n<g id=\"node1\" class=\"node\">\n<title>__main__.Node object at 0x7d8f4057d630</title>\n<ellipse fill=\"none\" stroke=\"black\" cx=\"211.15\" cy=\"-234\" rx=\"46.29\" ry=\"18\"/>\n<text text-anchor=\"middle\" x=\"211.15\" y=\"-230.3\" font-family=\"Times,serif\" font-size=\"14.00\">4 &#160;&#160;&#160;(B: 0)</text>\n</g>\n<!-- __main__.Node object at 0x7d8f4057e5f0 -->\n<g id=\"node2\" class=\"node\">\n<title>__main__.Node object at 0x7d8f4057e5f0</title>\n<ellipse fill=\"none\" stroke=\"black\" cx=\"156.15\" cy=\"-162\" rx=\"46.29\" ry=\"18\"/>\n<text text-anchor=\"middle\" x=\"156.15\" y=\"-158.3\" font-family=\"Times,serif\" font-size=\"14.00\">2 &#160;&#160;&#160;(B: 0)</text>\n</g>\n<!-- __main__.Node object at 0x7d8f4057d630&#45;&gt;__main__.Node object at 0x7d8f4057e5f0 -->\n<g id=\"edge1\" class=\"edge\">\n<title>__main__.Node object at 0x7d8f4057d630&#45;&gt;__main__.Node object at 0x7d8f4057e5f0</title>\n<path fill=\"none\" stroke=\"black\" d=\"M198.11,-216.41C191.33,-207.78 182.91,-197.06 175.39,-187.5\"/>\n<polygon fill=\"black\" stroke=\"black\" points=\"178.02,-185.17 169.09,-179.47 172.51,-189.5 178.02,-185.17\"/>\n</g>\n<!-- __main__.Node object at 0x7d8f40601540 -->\n<g id=\"node5\" class=\"node\">\n<title>__main__.Node object at 0x7d8f40601540</title>\n<ellipse fill=\"none\" stroke=\"black\" cx=\"266.15\" cy=\"-162\" rx=\"46.29\" ry=\"18\"/>\n<text text-anchor=\"middle\" x=\"266.15\" y=\"-158.3\" font-family=\"Times,serif\" font-size=\"14.00\">6 &#160;&#160;&#160;(B: 0)</text>\n</g>\n<!-- __main__.Node object at 0x7d8f4057d630&#45;&gt;__main__.Node object at 0x7d8f40601540 -->\n<g id=\"edge4\" class=\"edge\">\n<title>__main__.Node object at 0x7d8f4057d630&#45;&gt;__main__.Node object at 0x7d8f40601540</title>\n<path fill=\"none\" stroke=\"black\" d=\"M224.18,-216.41C230.96,-207.78 239.38,-197.06 246.9,-187.5\"/>\n<polygon fill=\"black\" stroke=\"black\" points=\"249.78,-189.5 253.21,-179.47 244.27,-185.17 249.78,-189.5\"/>\n</g>\n<!-- __main__.Node object at 0x7d8f406008e0 -->\n<g id=\"node3\" class=\"node\">\n<title>__main__.Node object at 0x7d8f406008e0</title>\n<ellipse fill=\"none\" stroke=\"black\" cx=\"46.15\" cy=\"-90\" rx=\"46.29\" ry=\"18\"/>\n<text text-anchor=\"middle\" x=\"46.15\" y=\"-86.3\" font-family=\"Times,serif\" font-size=\"14.00\">1 &#160;&#160;&#160;(B: 0)</text>\n</g>\n<!-- __main__.Node object at 0x7d8f4057e5f0&#45;&gt;__main__.Node object at 0x7d8f406008e0 -->\n<g id=\"edge2\" class=\"edge\">\n<title>__main__.Node object at 0x7d8f4057e5f0&#45;&gt;__main__.Node object at 0x7d8f406008e0</title>\n<path fill=\"none\" stroke=\"black\" d=\"M133.09,-146.33C117.1,-136.15 95.6,-122.47 77.98,-111.26\"/>\n<polygon fill=\"black\" stroke=\"black\" points=\"79.49,-108.07 69.18,-105.65 75.73,-113.98 79.49,-108.07\"/>\n</g>\n<!-- __main__.Node object at 0x7d8f40603cd0 -->\n<g id=\"node4\" class=\"node\">\n<title>__main__.Node object at 0x7d8f40603cd0</title>\n<ellipse fill=\"none\" stroke=\"black\" cx=\"156.15\" cy=\"-90\" rx=\"46.29\" ry=\"18\"/>\n<text text-anchor=\"middle\" x=\"156.15\" y=\"-86.3\" font-family=\"Times,serif\" font-size=\"14.00\">3 &#160;&#160;&#160;(B: 0)</text>\n</g>\n<!-- __main__.Node object at 0x7d8f4057e5f0&#45;&gt;__main__.Node object at 0x7d8f40603cd0 -->\n<g id=\"edge3\" class=\"edge\">\n<title>__main__.Node object at 0x7d8f4057e5f0&#45;&gt;__main__.Node object at 0x7d8f40603cd0</title>\n<path fill=\"none\" stroke=\"black\" d=\"M156.15,-143.7C156.15,-135.98 156.15,-126.71 156.15,-118.11\"/>\n<polygon fill=\"black\" stroke=\"black\" points=\"159.65,-118.1 156.15,-108.1 152.65,-118.1 159.65,-118.1\"/>\n</g>\n<!-- __main__.Node object at 0x7d8f406033d0 -->\n<g id=\"node6\" class=\"node\">\n<title>__main__.Node object at 0x7d8f406033d0</title>\n<ellipse fill=\"none\" stroke=\"black\" cx=\"266.15\" cy=\"-90\" rx=\"46.29\" ry=\"18\"/>\n<text text-anchor=\"middle\" x=\"266.15\" y=\"-86.3\" font-family=\"Times,serif\" font-size=\"14.00\">5 &#160;&#160;&#160;(B: 0)</text>\n</g>\n<!-- __main__.Node object at 0x7d8f40601540&#45;&gt;__main__.Node object at 0x7d8f406033d0 -->\n<g id=\"edge5\" class=\"edge\">\n<title>__main__.Node object at 0x7d8f40601540&#45;&gt;__main__.Node object at 0x7d8f406033d0</title>\n<path fill=\"none\" stroke=\"black\" d=\"M266.15,-143.7C266.15,-135.98 266.15,-126.71 266.15,-118.11\"/>\n<polygon fill=\"black\" stroke=\"black\" points=\"269.65,-118.1 266.15,-108.1 262.65,-118.1 269.65,-118.1\"/>\n</g>\n<!-- __main__.Node object at 0x7d8f40600ee0 -->\n<g id=\"node7\" class=\"node\">\n<title>__main__.Node object at 0x7d8f40600ee0</title>\n<ellipse fill=\"none\" stroke=\"black\" cx=\"376.15\" cy=\"-90\" rx=\"46.29\" ry=\"18\"/>\n<text text-anchor=\"middle\" x=\"376.15\" y=\"-86.3\" font-family=\"Times,serif\" font-size=\"14.00\">7 &#160;&#160;&#160;(B: 0)</text>\n</g>\n<!-- __main__.Node object at 0x7d8f40601540&#45;&gt;__main__.Node object at 0x7d8f40600ee0 -->\n<g id=\"edge6\" class=\"edge\">\n<title>__main__.Node object at 0x7d8f40601540&#45;&gt;__main__.Node object at 0x7d8f40600ee0</title>\n<path fill=\"none\" stroke=\"black\" d=\"M289.21,-146.33C305.19,-136.15 326.69,-122.47 344.31,-111.26\"/>\n<polygon fill=\"black\" stroke=\"black\" points=\"346.56,-113.98 353.12,-105.65 342.8,-108.07 346.56,-113.98\"/>\n</g>\n<!-- __main__.Node object at 0x7d8f40601d80 -->\n<g id=\"node8\" class=\"node\">\n<title>__main__.Node object at 0x7d8f40601d80</title>\n<ellipse fill=\"none\" stroke=\"black\" cx=\"376.15\" cy=\"-18\" rx=\"46.29\" ry=\"18\"/>\n<text text-anchor=\"middle\" x=\"376.15\" y=\"-14.3\" font-family=\"Times,serif\" font-size=\"14.00\">8 &#160;&#160;&#160;(B: 0)</text>\n</g>\n<!-- __main__.Node object at 0x7d8f40600ee0&#45;&gt;__main__.Node object at 0x7d8f40601d80 -->\n<g id=\"edge7\" class=\"edge\">\n<title>__main__.Node object at 0x7d8f40600ee0&#45;&gt;__main__.Node object at 0x7d8f40601d80</title>\n<path fill=\"none\" stroke=\"black\" d=\"M376.15,-71.7C376.15,-63.98 376.15,-54.71 376.15,-46.11\"/>\n<polygon fill=\"black\" stroke=\"black\" points=\"379.65,-46.1 376.15,-36.1 372.65,-46.1 379.65,-46.1\"/>\n</g>\n</g>\n</svg>\n",
            "text/plain": [
              "<graphviz.graphs.Digraph at 0x7d8f40603700>"
            ]
          },
          "metadata": {}
        },
        {
          "output_type": "stream",
          "name": "stdout",
          "text": [
            "\n",
            "Right Rotation:\n"
          ]
        },
        {
          "output_type": "display_data",
          "data": {
            "image/svg+xml": "<?xml version=\"1.0\" encoding=\"UTF-8\" standalone=\"no\"?>\n<!DOCTYPE svg PUBLIC \"-//W3C//DTD SVG 1.1//EN\"\n \"http://www.w3.org/Graphics/SVG/1.1/DTD/svg11.dtd\">\n<!-- Generated by graphviz version 2.43.0 (0)\n -->\n<!-- Title: %3 Pages: 1 -->\n<svg width=\"320pt\" height=\"332pt\"\n viewBox=\"0.00 0.00 320.29 332.00\" xmlns=\"http://www.w3.org/2000/svg\" xmlns:xlink=\"http://www.w3.org/1999/xlink\">\n<g id=\"graph0\" class=\"graph\" transform=\"scale(1 1) rotate(0) translate(4 328)\">\n<title>%3</title>\n<polygon fill=\"white\" stroke=\"transparent\" points=\"-4,4 -4,-328 316.29,-328 316.29,4 -4,4\"/>\n<!-- __main__.Node object at 0x7d8f4057e5f0 -->\n<g id=\"node1\" class=\"node\">\n<title>__main__.Node object at 0x7d8f4057e5f0</title>\n<ellipse fill=\"none\" stroke=\"black\" cx=\"101.15\" cy=\"-306\" rx=\"46.29\" ry=\"18\"/>\n<text text-anchor=\"middle\" x=\"101.15\" y=\"-302.3\" font-family=\"Times,serif\" font-size=\"14.00\">2 &#160;&#160;&#160;(B: 3)</text>\n</g>\n<!-- __main__.Node object at 0x7d8f406008e0 -->\n<g id=\"node2\" class=\"node\">\n<title>__main__.Node object at 0x7d8f406008e0</title>\n<ellipse fill=\"none\" stroke=\"black\" cx=\"46.15\" cy=\"-234\" rx=\"46.29\" ry=\"18\"/>\n<text text-anchor=\"middle\" x=\"46.15\" y=\"-230.3\" font-family=\"Times,serif\" font-size=\"14.00\">1 &#160;&#160;&#160;(B: 0)</text>\n</g>\n<!-- __main__.Node object at 0x7d8f4057e5f0&#45;&gt;__main__.Node object at 0x7d8f406008e0 -->\n<g id=\"edge1\" class=\"edge\">\n<title>__main__.Node object at 0x7d8f4057e5f0&#45;&gt;__main__.Node object at 0x7d8f406008e0</title>\n<path fill=\"none\" stroke=\"black\" d=\"M88.11,-288.41C81.33,-279.78 72.91,-269.06 65.39,-259.5\"/>\n<polygon fill=\"black\" stroke=\"black\" points=\"68.02,-257.17 59.09,-251.47 62.51,-261.5 68.02,-257.17\"/>\n</g>\n<!-- __main__.Node object at 0x7d8f4057d630 -->\n<g id=\"node3\" class=\"node\">\n<title>__main__.Node object at 0x7d8f4057d630</title>\n<ellipse fill=\"none\" stroke=\"black\" cx=\"156.15\" cy=\"-234\" rx=\"46.29\" ry=\"18\"/>\n<text text-anchor=\"middle\" x=\"156.15\" y=\"-230.3\" font-family=\"Times,serif\" font-size=\"14.00\">4 &#160;&#160;&#160;(B: 2)</text>\n</g>\n<!-- __main__.Node object at 0x7d8f4057e5f0&#45;&gt;__main__.Node object at 0x7d8f4057d630 -->\n<g id=\"edge2\" class=\"edge\">\n<title>__main__.Node object at 0x7d8f4057e5f0&#45;&gt;__main__.Node object at 0x7d8f4057d630</title>\n<path fill=\"none\" stroke=\"black\" d=\"M114.18,-288.41C120.96,-279.78 129.38,-269.06 136.9,-259.5\"/>\n<polygon fill=\"black\" stroke=\"black\" points=\"139.78,-261.5 143.21,-251.47 134.27,-257.17 139.78,-261.5\"/>\n</g>\n<!-- __main__.Node object at 0x7d8f40603cd0 -->\n<g id=\"node4\" class=\"node\">\n<title>__main__.Node object at 0x7d8f40603cd0</title>\n<ellipse fill=\"none\" stroke=\"black\" cx=\"101.15\" cy=\"-162\" rx=\"46.29\" ry=\"18\"/>\n<text text-anchor=\"middle\" x=\"101.15\" y=\"-158.3\" font-family=\"Times,serif\" font-size=\"14.00\">3 &#160;&#160;&#160;(B: 0)</text>\n</g>\n<!-- __main__.Node object at 0x7d8f4057d630&#45;&gt;__main__.Node object at 0x7d8f40603cd0 -->\n<g id=\"edge3\" class=\"edge\">\n<title>__main__.Node object at 0x7d8f4057d630&#45;&gt;__main__.Node object at 0x7d8f40603cd0</title>\n<path fill=\"none\" stroke=\"black\" d=\"M143.11,-216.41C136.33,-207.78 127.91,-197.06 120.39,-187.5\"/>\n<polygon fill=\"black\" stroke=\"black\" points=\"123.02,-185.17 114.09,-179.47 117.51,-189.5 123.02,-185.17\"/>\n</g>\n<!-- __main__.Node object at 0x7d8f40601540 -->\n<g id=\"node5\" class=\"node\">\n<title>__main__.Node object at 0x7d8f40601540</title>\n<ellipse fill=\"none\" stroke=\"black\" cx=\"211.15\" cy=\"-162\" rx=\"46.29\" ry=\"18\"/>\n<text text-anchor=\"middle\" x=\"211.15\" y=\"-158.3\" font-family=\"Times,serif\" font-size=\"14.00\">6 &#160;&#160;&#160;(B: 0)</text>\n</g>\n<!-- __main__.Node object at 0x7d8f4057d630&#45;&gt;__main__.Node object at 0x7d8f40601540 -->\n<g id=\"edge4\" class=\"edge\">\n<title>__main__.Node object at 0x7d8f4057d630&#45;&gt;__main__.Node object at 0x7d8f40601540</title>\n<path fill=\"none\" stroke=\"black\" d=\"M169.18,-216.41C175.96,-207.78 184.38,-197.06 191.9,-187.5\"/>\n<polygon fill=\"black\" stroke=\"black\" points=\"194.78,-189.5 198.21,-179.47 189.27,-185.17 194.78,-189.5\"/>\n</g>\n<!-- __main__.Node object at 0x7d8f406033d0 -->\n<g id=\"node6\" class=\"node\">\n<title>__main__.Node object at 0x7d8f406033d0</title>\n<ellipse fill=\"none\" stroke=\"black\" cx=\"156.15\" cy=\"-90\" rx=\"46.29\" ry=\"18\"/>\n<text text-anchor=\"middle\" x=\"156.15\" y=\"-86.3\" font-family=\"Times,serif\" font-size=\"14.00\">5 &#160;&#160;&#160;(B: 0)</text>\n</g>\n<!-- __main__.Node object at 0x7d8f40601540&#45;&gt;__main__.Node object at 0x7d8f406033d0 -->\n<g id=\"edge5\" class=\"edge\">\n<title>__main__.Node object at 0x7d8f40601540&#45;&gt;__main__.Node object at 0x7d8f406033d0</title>\n<path fill=\"none\" stroke=\"black\" d=\"M198.11,-144.41C191.33,-135.78 182.91,-125.06 175.39,-115.5\"/>\n<polygon fill=\"black\" stroke=\"black\" points=\"178.02,-113.17 169.09,-107.47 172.51,-117.5 178.02,-113.17\"/>\n</g>\n<!-- __main__.Node object at 0x7d8f40600ee0 -->\n<g id=\"node7\" class=\"node\">\n<title>__main__.Node object at 0x7d8f40600ee0</title>\n<ellipse fill=\"none\" stroke=\"black\" cx=\"266.15\" cy=\"-90\" rx=\"46.29\" ry=\"18\"/>\n<text text-anchor=\"middle\" x=\"266.15\" y=\"-86.3\" font-family=\"Times,serif\" font-size=\"14.00\">7 &#160;&#160;&#160;(B: 0)</text>\n</g>\n<!-- __main__.Node object at 0x7d8f40601540&#45;&gt;__main__.Node object at 0x7d8f40600ee0 -->\n<g id=\"edge6\" class=\"edge\">\n<title>__main__.Node object at 0x7d8f40601540&#45;&gt;__main__.Node object at 0x7d8f40600ee0</title>\n<path fill=\"none\" stroke=\"black\" d=\"M224.18,-144.41C230.96,-135.78 239.38,-125.06 246.9,-115.5\"/>\n<polygon fill=\"black\" stroke=\"black\" points=\"249.78,-117.5 253.21,-107.47 244.27,-113.17 249.78,-117.5\"/>\n</g>\n<!-- __main__.Node object at 0x7d8f40601d80 -->\n<g id=\"node8\" class=\"node\">\n<title>__main__.Node object at 0x7d8f40601d80</title>\n<ellipse fill=\"none\" stroke=\"black\" cx=\"266.15\" cy=\"-18\" rx=\"46.29\" ry=\"18\"/>\n<text text-anchor=\"middle\" x=\"266.15\" y=\"-14.3\" font-family=\"Times,serif\" font-size=\"14.00\">8 &#160;&#160;&#160;(B: 0)</text>\n</g>\n<!-- __main__.Node object at 0x7d8f40600ee0&#45;&gt;__main__.Node object at 0x7d8f40601d80 -->\n<g id=\"edge7\" class=\"edge\">\n<title>__main__.Node object at 0x7d8f40600ee0&#45;&gt;__main__.Node object at 0x7d8f40601d80</title>\n<path fill=\"none\" stroke=\"black\" d=\"M266.15,-71.7C266.15,-63.98 266.15,-54.71 266.15,-46.11\"/>\n<polygon fill=\"black\" stroke=\"black\" points=\"269.65,-46.1 266.15,-36.1 262.65,-46.1 269.65,-46.1\"/>\n</g>\n</g>\n</svg>\n",
            "text/plain": [
              "<graphviz.graphs.Digraph at 0x7d8f4057e230>"
            ]
          },
          "metadata": {}
        },
        {
          "output_type": "stream",
          "name": "stdout",
          "text": [
            "\n"
          ]
        }
      ]
    },
    {
      "cell_type": "markdown",
      "source": [
        "## *Test Cases 3.3*\n",
        "#### - Left-Right Rotation"
      ],
      "metadata": {
        "id": "0SnBCUEtFqlG"
      },
      "id": "0SnBCUEtFqlG"
    },
    {
      "cell_type": "code",
      "source": [
        "# Left-Right Rotation Test\n",
        "test4_tree = buildBinaryTree(test1)\n",
        "\n",
        "# Display the original tree\n",
        "print(\"Original Tree:\")\n",
        "visualize_tree(test4_tree)\n",
        "print()\n",
        "\n",
        "# Performing left-Right rotation at node with value 4\n",
        "test_node2 = find_node(test4_tree, 4)\n",
        "test4_tree = left_right_rotation(test4_tree, test_node2)\n",
        "print(\"Left-Right Rotation Rotation:\")\n",
        "visualize_tree(test4_tree)\n",
        "print()"
      ],
      "metadata": {
        "colab": {
          "base_uri": "https://localhost:8080/",
          "height": 692
        },
        "id": "bOqw_TkyF1Fl",
        "outputId": "34e32d2b-bd11-45e9-d094-03cf4044d1f8"
      },
      "id": "bOqw_TkyF1Fl",
      "execution_count": null,
      "outputs": [
        {
          "output_type": "stream",
          "name": "stdout",
          "text": [
            "Original Tree:\n"
          ]
        },
        {
          "output_type": "display_data",
          "data": {
            "image/svg+xml": "<?xml version=\"1.0\" encoding=\"UTF-8\" standalone=\"no\"?>\n<!DOCTYPE svg PUBLIC \"-//W3C//DTD SVG 1.1//EN\"\n \"http://www.w3.org/Graphics/SVG/1.1/DTD/svg11.dtd\">\n<!-- Generated by graphviz version 2.43.0 (0)\n -->\n<!-- Title: %3 Pages: 1 -->\n<svg width=\"430pt\" height=\"260pt\"\n viewBox=\"0.00 0.00 430.29 260.00\" xmlns=\"http://www.w3.org/2000/svg\" xmlns:xlink=\"http://www.w3.org/1999/xlink\">\n<g id=\"graph0\" class=\"graph\" transform=\"scale(1 1) rotate(0) translate(4 256)\">\n<title>%3</title>\n<polygon fill=\"white\" stroke=\"transparent\" points=\"-4,4 -4,-256 426.29,-256 426.29,4 -4,4\"/>\n<!-- __main__.Node object at 0x7d8f4057d900 -->\n<g id=\"node1\" class=\"node\">\n<title>__main__.Node object at 0x7d8f4057d900</title>\n<ellipse fill=\"none\" stroke=\"black\" cx=\"211.15\" cy=\"-234\" rx=\"46.29\" ry=\"18\"/>\n<text text-anchor=\"middle\" x=\"211.15\" y=\"-230.3\" font-family=\"Times,serif\" font-size=\"14.00\">4 &#160;&#160;&#160;(B: 0)</text>\n</g>\n<!-- __main__.Node object at 0x7d8f40601f60 -->\n<g id=\"node2\" class=\"node\">\n<title>__main__.Node object at 0x7d8f40601f60</title>\n<ellipse fill=\"none\" stroke=\"black\" cx=\"156.15\" cy=\"-162\" rx=\"46.29\" ry=\"18\"/>\n<text text-anchor=\"middle\" x=\"156.15\" y=\"-158.3\" font-family=\"Times,serif\" font-size=\"14.00\">2 &#160;&#160;&#160;(B: 0)</text>\n</g>\n<!-- __main__.Node object at 0x7d8f4057d900&#45;&gt;__main__.Node object at 0x7d8f40601f60 -->\n<g id=\"edge1\" class=\"edge\">\n<title>__main__.Node object at 0x7d8f4057d900&#45;&gt;__main__.Node object at 0x7d8f40601f60</title>\n<path fill=\"none\" stroke=\"black\" d=\"M198.11,-216.41C191.33,-207.78 182.91,-197.06 175.39,-187.5\"/>\n<polygon fill=\"black\" stroke=\"black\" points=\"178.02,-185.17 169.09,-179.47 172.51,-189.5 178.02,-185.17\"/>\n</g>\n<!-- __main__.Node object at 0x7d8f40601b70 -->\n<g id=\"node5\" class=\"node\">\n<title>__main__.Node object at 0x7d8f40601b70</title>\n<ellipse fill=\"none\" stroke=\"black\" cx=\"266.15\" cy=\"-162\" rx=\"46.29\" ry=\"18\"/>\n<text text-anchor=\"middle\" x=\"266.15\" y=\"-158.3\" font-family=\"Times,serif\" font-size=\"14.00\">6 &#160;&#160;&#160;(B: 0)</text>\n</g>\n<!-- __main__.Node object at 0x7d8f4057d900&#45;&gt;__main__.Node object at 0x7d8f40601b70 -->\n<g id=\"edge4\" class=\"edge\">\n<title>__main__.Node object at 0x7d8f4057d900&#45;&gt;__main__.Node object at 0x7d8f40601b70</title>\n<path fill=\"none\" stroke=\"black\" d=\"M224.18,-216.41C230.96,-207.78 239.38,-197.06 246.9,-187.5\"/>\n<polygon fill=\"black\" stroke=\"black\" points=\"249.78,-189.5 253.21,-179.47 244.27,-185.17 249.78,-189.5\"/>\n</g>\n<!-- __main__.Node object at 0x7d8f406027a0 -->\n<g id=\"node3\" class=\"node\">\n<title>__main__.Node object at 0x7d8f406027a0</title>\n<ellipse fill=\"none\" stroke=\"black\" cx=\"46.15\" cy=\"-90\" rx=\"46.29\" ry=\"18\"/>\n<text text-anchor=\"middle\" x=\"46.15\" y=\"-86.3\" font-family=\"Times,serif\" font-size=\"14.00\">1 &#160;&#160;&#160;(B: 0)</text>\n</g>\n<!-- __main__.Node object at 0x7d8f40601f60&#45;&gt;__main__.Node object at 0x7d8f406027a0 -->\n<g id=\"edge2\" class=\"edge\">\n<title>__main__.Node object at 0x7d8f40601f60&#45;&gt;__main__.Node object at 0x7d8f406027a0</title>\n<path fill=\"none\" stroke=\"black\" d=\"M133.09,-146.33C117.1,-136.15 95.6,-122.47 77.98,-111.26\"/>\n<polygon fill=\"black\" stroke=\"black\" points=\"79.49,-108.07 69.18,-105.65 75.73,-113.98 79.49,-108.07\"/>\n</g>\n<!-- __main__.Node object at 0x7d8f406036d0 -->\n<g id=\"node4\" class=\"node\">\n<title>__main__.Node object at 0x7d8f406036d0</title>\n<ellipse fill=\"none\" stroke=\"black\" cx=\"156.15\" cy=\"-90\" rx=\"46.29\" ry=\"18\"/>\n<text text-anchor=\"middle\" x=\"156.15\" y=\"-86.3\" font-family=\"Times,serif\" font-size=\"14.00\">3 &#160;&#160;&#160;(B: 0)</text>\n</g>\n<!-- __main__.Node object at 0x7d8f40601f60&#45;&gt;__main__.Node object at 0x7d8f406036d0 -->\n<g id=\"edge3\" class=\"edge\">\n<title>__main__.Node object at 0x7d8f40601f60&#45;&gt;__main__.Node object at 0x7d8f406036d0</title>\n<path fill=\"none\" stroke=\"black\" d=\"M156.15,-143.7C156.15,-135.98 156.15,-126.71 156.15,-118.11\"/>\n<polygon fill=\"black\" stroke=\"black\" points=\"159.65,-118.1 156.15,-108.1 152.65,-118.1 159.65,-118.1\"/>\n</g>\n<!-- __main__.Node object at 0x7d8f40600250 -->\n<g id=\"node6\" class=\"node\">\n<title>__main__.Node object at 0x7d8f40600250</title>\n<ellipse fill=\"none\" stroke=\"black\" cx=\"266.15\" cy=\"-90\" rx=\"46.29\" ry=\"18\"/>\n<text text-anchor=\"middle\" x=\"266.15\" y=\"-86.3\" font-family=\"Times,serif\" font-size=\"14.00\">5 &#160;&#160;&#160;(B: 0)</text>\n</g>\n<!-- __main__.Node object at 0x7d8f40601b70&#45;&gt;__main__.Node object at 0x7d8f40600250 -->\n<g id=\"edge5\" class=\"edge\">\n<title>__main__.Node object at 0x7d8f40601b70&#45;&gt;__main__.Node object at 0x7d8f40600250</title>\n<path fill=\"none\" stroke=\"black\" d=\"M266.15,-143.7C266.15,-135.98 266.15,-126.71 266.15,-118.11\"/>\n<polygon fill=\"black\" stroke=\"black\" points=\"269.65,-118.1 266.15,-108.1 262.65,-118.1 269.65,-118.1\"/>\n</g>\n<!-- __main__.Node object at 0x7d8f40603c40 -->\n<g id=\"node7\" class=\"node\">\n<title>__main__.Node object at 0x7d8f40603c40</title>\n<ellipse fill=\"none\" stroke=\"black\" cx=\"376.15\" cy=\"-90\" rx=\"46.29\" ry=\"18\"/>\n<text text-anchor=\"middle\" x=\"376.15\" y=\"-86.3\" font-family=\"Times,serif\" font-size=\"14.00\">7 &#160;&#160;&#160;(B: 0)</text>\n</g>\n<!-- __main__.Node object at 0x7d8f40601b70&#45;&gt;__main__.Node object at 0x7d8f40603c40 -->\n<g id=\"edge6\" class=\"edge\">\n<title>__main__.Node object at 0x7d8f40601b70&#45;&gt;__main__.Node object at 0x7d8f40603c40</title>\n<path fill=\"none\" stroke=\"black\" d=\"M289.21,-146.33C305.19,-136.15 326.69,-122.47 344.31,-111.26\"/>\n<polygon fill=\"black\" stroke=\"black\" points=\"346.56,-113.98 353.12,-105.65 342.8,-108.07 346.56,-113.98\"/>\n</g>\n<!-- __main__.Node object at 0x7d8f40603130 -->\n<g id=\"node8\" class=\"node\">\n<title>__main__.Node object at 0x7d8f40603130</title>\n<ellipse fill=\"none\" stroke=\"black\" cx=\"376.15\" cy=\"-18\" rx=\"46.29\" ry=\"18\"/>\n<text text-anchor=\"middle\" x=\"376.15\" y=\"-14.3\" font-family=\"Times,serif\" font-size=\"14.00\">8 &#160;&#160;&#160;(B: 0)</text>\n</g>\n<!-- __main__.Node object at 0x7d8f40603c40&#45;&gt;__main__.Node object at 0x7d8f40603130 -->\n<g id=\"edge7\" class=\"edge\">\n<title>__main__.Node object at 0x7d8f40603c40&#45;&gt;__main__.Node object at 0x7d8f40603130</title>\n<path fill=\"none\" stroke=\"black\" d=\"M376.15,-71.7C376.15,-63.98 376.15,-54.71 376.15,-46.11\"/>\n<polygon fill=\"black\" stroke=\"black\" points=\"379.65,-46.1 376.15,-36.1 372.65,-46.1 379.65,-46.1\"/>\n</g>\n</g>\n</svg>\n",
            "text/plain": [
              "<graphviz.graphs.Digraph at 0x7d8f40603850>"
            ]
          },
          "metadata": {}
        },
        {
          "output_type": "stream",
          "name": "stdout",
          "text": [
            "\n",
            "Left-Right Rotation Rotation:\n"
          ]
        },
        {
          "output_type": "display_data",
          "data": {
            "image/svg+xml": "<?xml version=\"1.0\" encoding=\"UTF-8\" standalone=\"no\"?>\n<!DOCTYPE svg PUBLIC \"-//W3C//DTD SVG 1.1//EN\"\n \"http://www.w3.org/Graphics/SVG/1.1/DTD/svg11.dtd\">\n<!-- Generated by graphviz version 2.43.0 (0)\n -->\n<!-- Title: %3 Pages: 1 -->\n<svg width=\"265pt\" height=\"188pt\"\n viewBox=\"0.00 0.00 265.29 188.00\" xmlns=\"http://www.w3.org/2000/svg\" xmlns:xlink=\"http://www.w3.org/1999/xlink\">\n<g id=\"graph0\" class=\"graph\" transform=\"scale(1 1) rotate(0) translate(4 184)\">\n<title>%3</title>\n<polygon fill=\"white\" stroke=\"transparent\" points=\"-4,4 -4,-184 261.29,-184 261.29,4 -4,4\"/>\n<!-- __main__.Node object at 0x7d8f40601f60 -->\n<g id=\"node1\" class=\"node\">\n<title>__main__.Node object at 0x7d8f40601f60</title>\n<ellipse fill=\"none\" stroke=\"black\" cx=\"101.15\" cy=\"-162\" rx=\"46.29\" ry=\"18\"/>\n<text text-anchor=\"middle\" x=\"101.15\" y=\"-158.3\" font-family=\"Times,serif\" font-size=\"14.00\">2 &#160;&#160;&#160;(B: 1)</text>\n</g>\n<!-- __main__.Node object at 0x7d8f406027a0 -->\n<g id=\"node2\" class=\"node\">\n<title>__main__.Node object at 0x7d8f406027a0</title>\n<ellipse fill=\"none\" stroke=\"black\" cx=\"46.15\" cy=\"-90\" rx=\"46.29\" ry=\"18\"/>\n<text text-anchor=\"middle\" x=\"46.15\" y=\"-86.3\" font-family=\"Times,serif\" font-size=\"14.00\">1 &#160;&#160;&#160;(B: 0)</text>\n</g>\n<!-- __main__.Node object at 0x7d8f40601f60&#45;&gt;__main__.Node object at 0x7d8f406027a0 -->\n<g id=\"edge1\" class=\"edge\">\n<title>__main__.Node object at 0x7d8f40601f60&#45;&gt;__main__.Node object at 0x7d8f406027a0</title>\n<path fill=\"none\" stroke=\"black\" d=\"M88.11,-144.41C81.33,-135.78 72.91,-125.06 65.39,-115.5\"/>\n<polygon fill=\"black\" stroke=\"black\" points=\"68.02,-113.17 59.09,-107.47 62.51,-117.5 68.02,-113.17\"/>\n</g>\n<!-- __main__.Node object at 0x7d8f4057d900 -->\n<g id=\"node3\" class=\"node\">\n<title>__main__.Node object at 0x7d8f4057d900</title>\n<ellipse fill=\"none\" stroke=\"black\" cx=\"156.15\" cy=\"-90\" rx=\"46.29\" ry=\"18\"/>\n<text text-anchor=\"middle\" x=\"156.15\" y=\"-86.3\" font-family=\"Times,serif\" font-size=\"14.00\">4 &#160;&#160;&#160;(B: 0)</text>\n</g>\n<!-- __main__.Node object at 0x7d8f40601f60&#45;&gt;__main__.Node object at 0x7d8f4057d900 -->\n<g id=\"edge2\" class=\"edge\">\n<title>__main__.Node object at 0x7d8f40601f60&#45;&gt;__main__.Node object at 0x7d8f4057d900</title>\n<path fill=\"none\" stroke=\"black\" d=\"M114.18,-144.41C120.96,-135.78 129.38,-125.06 136.9,-115.5\"/>\n<polygon fill=\"black\" stroke=\"black\" points=\"139.78,-117.5 143.21,-107.47 134.27,-113.17 139.78,-117.5\"/>\n</g>\n<!-- __main__.Node object at 0x7d8f406036d0 -->\n<g id=\"node4\" class=\"node\">\n<title>__main__.Node object at 0x7d8f406036d0</title>\n<ellipse fill=\"none\" stroke=\"black\" cx=\"101.15\" cy=\"-18\" rx=\"46.29\" ry=\"18\"/>\n<text text-anchor=\"middle\" x=\"101.15\" y=\"-14.3\" font-family=\"Times,serif\" font-size=\"14.00\">3 &#160;&#160;&#160;(B: 0)</text>\n</g>\n<!-- __main__.Node object at 0x7d8f4057d900&#45;&gt;__main__.Node object at 0x7d8f406036d0 -->\n<g id=\"edge3\" class=\"edge\">\n<title>__main__.Node object at 0x7d8f4057d900&#45;&gt;__main__.Node object at 0x7d8f406036d0</title>\n<path fill=\"none\" stroke=\"black\" d=\"M143.11,-72.41C136.33,-63.78 127.91,-53.06 120.39,-43.5\"/>\n<polygon fill=\"black\" stroke=\"black\" points=\"123.02,-41.17 114.09,-35.47 117.51,-45.5 123.02,-41.17\"/>\n</g>\n<!-- __main__.Node object at 0x7d8f40600250 -->\n<g id=\"node5\" class=\"node\">\n<title>__main__.Node object at 0x7d8f40600250</title>\n<ellipse fill=\"none\" stroke=\"black\" cx=\"211.15\" cy=\"-18\" rx=\"46.29\" ry=\"18\"/>\n<text text-anchor=\"middle\" x=\"211.15\" y=\"-14.3\" font-family=\"Times,serif\" font-size=\"14.00\">5 &#160;&#160;&#160;(B: 0)</text>\n</g>\n<!-- __main__.Node object at 0x7d8f4057d900&#45;&gt;__main__.Node object at 0x7d8f40600250 -->\n<g id=\"edge4\" class=\"edge\">\n<title>__main__.Node object at 0x7d8f4057d900&#45;&gt;__main__.Node object at 0x7d8f40600250</title>\n<path fill=\"none\" stroke=\"black\" d=\"M169.18,-72.41C175.96,-63.78 184.38,-53.06 191.9,-43.5\"/>\n<polygon fill=\"black\" stroke=\"black\" points=\"194.78,-45.5 198.21,-35.47 189.27,-41.17 194.78,-45.5\"/>\n</g>\n</g>\n</svg>\n",
            "text/plain": [
              "<graphviz.graphs.Digraph at 0x7d8f40602200>"
            ]
          },
          "metadata": {}
        },
        {
          "output_type": "stream",
          "name": "stdout",
          "text": [
            "\n"
          ]
        }
      ]
    },
    {
      "cell_type": "markdown",
      "source": [
        "## *Test Cases 3.4*\n",
        "#### - Right-Left Rotation"
      ],
      "metadata": {
        "id": "TSDSzEQHF1S0"
      },
      "id": "TSDSzEQHF1S0"
    },
    {
      "cell_type": "code",
      "source": [
        "# Left-Right Rotation Test\n",
        "test5_tree = buildBinaryTree(test1)\n",
        "\n",
        "# Display the original tree\n",
        "print(\"Original Tree:\")\n",
        "visualize_tree(test5_tree)\n",
        "print()\n",
        "\n",
        "# Performing left-Right rotation at node with value 4\n",
        "test_node3 = find_node(test5_tree, 4)\n",
        "test5_tree = right_left_rotation(test5_tree, test_node3)\n",
        "print(\"Right-Left Rotation Rotation:\")\n",
        "visualize_tree(test5_tree)\n",
        "print()"
      ],
      "metadata": {
        "colab": {
          "base_uri": "https://localhost:8080/",
          "height": 692
        },
        "id": "G2lKJ-fkF15r",
        "outputId": "1d92aa6d-bf45-419a-e81c-0765661f8fb0"
      },
      "id": "G2lKJ-fkF15r",
      "execution_count": null,
      "outputs": [
        {
          "output_type": "stream",
          "name": "stdout",
          "text": [
            "Original Tree:\n"
          ]
        },
        {
          "output_type": "display_data",
          "data": {
            "image/svg+xml": "<?xml version=\"1.0\" encoding=\"UTF-8\" standalone=\"no\"?>\n<!DOCTYPE svg PUBLIC \"-//W3C//DTD SVG 1.1//EN\"\n \"http://www.w3.org/Graphics/SVG/1.1/DTD/svg11.dtd\">\n<!-- Generated by graphviz version 2.43.0 (0)\n -->\n<!-- Title: %3 Pages: 1 -->\n<svg width=\"430pt\" height=\"260pt\"\n viewBox=\"0.00 0.00 430.29 260.00\" xmlns=\"http://www.w3.org/2000/svg\" xmlns:xlink=\"http://www.w3.org/1999/xlink\">\n<g id=\"graph0\" class=\"graph\" transform=\"scale(1 1) rotate(0) translate(4 256)\">\n<title>%3</title>\n<polygon fill=\"white\" stroke=\"transparent\" points=\"-4,4 -4,-256 426.29,-256 426.29,4 -4,4\"/>\n<!-- __main__.Node object at 0x7d8f4057e3b0 -->\n<g id=\"node1\" class=\"node\">\n<title>__main__.Node object at 0x7d8f4057e3b0</title>\n<ellipse fill=\"none\" stroke=\"black\" cx=\"211.15\" cy=\"-234\" rx=\"46.29\" ry=\"18\"/>\n<text text-anchor=\"middle\" x=\"211.15\" y=\"-230.3\" font-family=\"Times,serif\" font-size=\"14.00\">4 &#160;&#160;&#160;(B: 0)</text>\n</g>\n<!-- __main__.Node object at 0x7d8f406004c0 -->\n<g id=\"node2\" class=\"node\">\n<title>__main__.Node object at 0x7d8f406004c0</title>\n<ellipse fill=\"none\" stroke=\"black\" cx=\"156.15\" cy=\"-162\" rx=\"46.29\" ry=\"18\"/>\n<text text-anchor=\"middle\" x=\"156.15\" y=\"-158.3\" font-family=\"Times,serif\" font-size=\"14.00\">2 &#160;&#160;&#160;(B: 0)</text>\n</g>\n<!-- __main__.Node object at 0x7d8f4057e3b0&#45;&gt;__main__.Node object at 0x7d8f406004c0 -->\n<g id=\"edge1\" class=\"edge\">\n<title>__main__.Node object at 0x7d8f4057e3b0&#45;&gt;__main__.Node object at 0x7d8f406004c0</title>\n<path fill=\"none\" stroke=\"black\" d=\"M198.11,-216.41C191.33,-207.78 182.91,-197.06 175.39,-187.5\"/>\n<polygon fill=\"black\" stroke=\"black\" points=\"178.02,-185.17 169.09,-179.47 172.51,-189.5 178.02,-185.17\"/>\n</g>\n<!-- __main__.Node object at 0x7d8f40603f10 -->\n<g id=\"node5\" class=\"node\">\n<title>__main__.Node object at 0x7d8f40603f10</title>\n<ellipse fill=\"none\" stroke=\"black\" cx=\"266.15\" cy=\"-162\" rx=\"46.29\" ry=\"18\"/>\n<text text-anchor=\"middle\" x=\"266.15\" y=\"-158.3\" font-family=\"Times,serif\" font-size=\"14.00\">6 &#160;&#160;&#160;(B: 0)</text>\n</g>\n<!-- __main__.Node object at 0x7d8f4057e3b0&#45;&gt;__main__.Node object at 0x7d8f40603f10 -->\n<g id=\"edge4\" class=\"edge\">\n<title>__main__.Node object at 0x7d8f4057e3b0&#45;&gt;__main__.Node object at 0x7d8f40603f10</title>\n<path fill=\"none\" stroke=\"black\" d=\"M224.18,-216.41C230.96,-207.78 239.38,-197.06 246.9,-187.5\"/>\n<polygon fill=\"black\" stroke=\"black\" points=\"249.78,-189.5 253.21,-179.47 244.27,-185.17 249.78,-189.5\"/>\n</g>\n<!-- __main__.Node object at 0x7d8f406018a0 -->\n<g id=\"node3\" class=\"node\">\n<title>__main__.Node object at 0x7d8f406018a0</title>\n<ellipse fill=\"none\" stroke=\"black\" cx=\"46.15\" cy=\"-90\" rx=\"46.29\" ry=\"18\"/>\n<text text-anchor=\"middle\" x=\"46.15\" y=\"-86.3\" font-family=\"Times,serif\" font-size=\"14.00\">1 &#160;&#160;&#160;(B: 0)</text>\n</g>\n<!-- __main__.Node object at 0x7d8f406004c0&#45;&gt;__main__.Node object at 0x7d8f406018a0 -->\n<g id=\"edge2\" class=\"edge\">\n<title>__main__.Node object at 0x7d8f406004c0&#45;&gt;__main__.Node object at 0x7d8f406018a0</title>\n<path fill=\"none\" stroke=\"black\" d=\"M133.09,-146.33C117.1,-136.15 95.6,-122.47 77.98,-111.26\"/>\n<polygon fill=\"black\" stroke=\"black\" points=\"79.49,-108.07 69.18,-105.65 75.73,-113.98 79.49,-108.07\"/>\n</g>\n<!-- __main__.Node object at 0x7d8f40603a30 -->\n<g id=\"node4\" class=\"node\">\n<title>__main__.Node object at 0x7d8f40603a30</title>\n<ellipse fill=\"none\" stroke=\"black\" cx=\"156.15\" cy=\"-90\" rx=\"46.29\" ry=\"18\"/>\n<text text-anchor=\"middle\" x=\"156.15\" y=\"-86.3\" font-family=\"Times,serif\" font-size=\"14.00\">3 &#160;&#160;&#160;(B: 0)</text>\n</g>\n<!-- __main__.Node object at 0x7d8f406004c0&#45;&gt;__main__.Node object at 0x7d8f40603a30 -->\n<g id=\"edge3\" class=\"edge\">\n<title>__main__.Node object at 0x7d8f406004c0&#45;&gt;__main__.Node object at 0x7d8f40603a30</title>\n<path fill=\"none\" stroke=\"black\" d=\"M156.15,-143.7C156.15,-135.98 156.15,-126.71 156.15,-118.11\"/>\n<polygon fill=\"black\" stroke=\"black\" points=\"159.65,-118.1 156.15,-108.1 152.65,-118.1 159.65,-118.1\"/>\n</g>\n<!-- __main__.Node object at 0x7d8f406012d0 -->\n<g id=\"node6\" class=\"node\">\n<title>__main__.Node object at 0x7d8f406012d0</title>\n<ellipse fill=\"none\" stroke=\"black\" cx=\"266.15\" cy=\"-90\" rx=\"46.29\" ry=\"18\"/>\n<text text-anchor=\"middle\" x=\"266.15\" y=\"-86.3\" font-family=\"Times,serif\" font-size=\"14.00\">5 &#160;&#160;&#160;(B: 0)</text>\n</g>\n<!-- __main__.Node object at 0x7d8f40603f10&#45;&gt;__main__.Node object at 0x7d8f406012d0 -->\n<g id=\"edge5\" class=\"edge\">\n<title>__main__.Node object at 0x7d8f40603f10&#45;&gt;__main__.Node object at 0x7d8f406012d0</title>\n<path fill=\"none\" stroke=\"black\" d=\"M266.15,-143.7C266.15,-135.98 266.15,-126.71 266.15,-118.11\"/>\n<polygon fill=\"black\" stroke=\"black\" points=\"269.65,-118.1 266.15,-108.1 262.65,-118.1 269.65,-118.1\"/>\n</g>\n<!-- __main__.Node object at 0x7d8f40601cf0 -->\n<g id=\"node7\" class=\"node\">\n<title>__main__.Node object at 0x7d8f40601cf0</title>\n<ellipse fill=\"none\" stroke=\"black\" cx=\"376.15\" cy=\"-90\" rx=\"46.29\" ry=\"18\"/>\n<text text-anchor=\"middle\" x=\"376.15\" y=\"-86.3\" font-family=\"Times,serif\" font-size=\"14.00\">7 &#160;&#160;&#160;(B: 0)</text>\n</g>\n<!-- __main__.Node object at 0x7d8f40603f10&#45;&gt;__main__.Node object at 0x7d8f40601cf0 -->\n<g id=\"edge6\" class=\"edge\">\n<title>__main__.Node object at 0x7d8f40603f10&#45;&gt;__main__.Node object at 0x7d8f40601cf0</title>\n<path fill=\"none\" stroke=\"black\" d=\"M289.21,-146.33C305.19,-136.15 326.69,-122.47 344.31,-111.26\"/>\n<polygon fill=\"black\" stroke=\"black\" points=\"346.56,-113.98 353.12,-105.65 342.8,-108.07 346.56,-113.98\"/>\n</g>\n<!-- __main__.Node object at 0x7d8f40600b80 -->\n<g id=\"node8\" class=\"node\">\n<title>__main__.Node object at 0x7d8f40600b80</title>\n<ellipse fill=\"none\" stroke=\"black\" cx=\"376.15\" cy=\"-18\" rx=\"46.29\" ry=\"18\"/>\n<text text-anchor=\"middle\" x=\"376.15\" y=\"-14.3\" font-family=\"Times,serif\" font-size=\"14.00\">8 &#160;&#160;&#160;(B: 0)</text>\n</g>\n<!-- __main__.Node object at 0x7d8f40601cf0&#45;&gt;__main__.Node object at 0x7d8f40600b80 -->\n<g id=\"edge7\" class=\"edge\">\n<title>__main__.Node object at 0x7d8f40601cf0&#45;&gt;__main__.Node object at 0x7d8f40600b80</title>\n<path fill=\"none\" stroke=\"black\" d=\"M376.15,-71.7C376.15,-63.98 376.15,-54.71 376.15,-46.11\"/>\n<polygon fill=\"black\" stroke=\"black\" points=\"379.65,-46.1 376.15,-36.1 372.65,-46.1 379.65,-46.1\"/>\n</g>\n</g>\n</svg>\n",
            "text/plain": [
              "<graphviz.graphs.Digraph at 0x7d8f40600070>"
            ]
          },
          "metadata": {}
        },
        {
          "output_type": "stream",
          "name": "stdout",
          "text": [
            "\n",
            "Right-Left Rotation Rotation:\n"
          ]
        },
        {
          "output_type": "display_data",
          "data": {
            "image/svg+xml": "<?xml version=\"1.0\" encoding=\"UTF-8\" standalone=\"no\"?>\n<!DOCTYPE svg PUBLIC \"-//W3C//DTD SVG 1.1//EN\"\n \"http://www.w3.org/Graphics/SVG/1.1/DTD/svg11.dtd\">\n<!-- Generated by graphviz version 2.43.0 (0)\n -->\n<!-- Title: %3 Pages: 1 -->\n<svg width=\"320pt\" height=\"188pt\"\n viewBox=\"0.00 0.00 320.29 188.00\" xmlns=\"http://www.w3.org/2000/svg\" xmlns:xlink=\"http://www.w3.org/1999/xlink\">\n<g id=\"graph0\" class=\"graph\" transform=\"scale(1 1) rotate(0) translate(4 184)\">\n<title>%3</title>\n<polygon fill=\"white\" stroke=\"transparent\" points=\"-4,4 -4,-184 316.29,-184 316.29,4 -4,4\"/>\n<!-- __main__.Node object at 0x7d8f40603f10 -->\n<g id=\"node1\" class=\"node\">\n<title>__main__.Node object at 0x7d8f40603f10</title>\n<ellipse fill=\"none\" stroke=\"black\" cx=\"211.15\" cy=\"-162\" rx=\"46.29\" ry=\"18\"/>\n<text text-anchor=\"middle\" x=\"211.15\" y=\"-158.3\" font-family=\"Times,serif\" font-size=\"14.00\">6 &#160;&#160;&#160;(B: 0)</text>\n</g>\n<!-- __main__.Node object at 0x7d8f4057e3b0 -->\n<g id=\"node2\" class=\"node\">\n<title>__main__.Node object at 0x7d8f4057e3b0</title>\n<ellipse fill=\"none\" stroke=\"black\" cx=\"156.15\" cy=\"-90\" rx=\"46.29\" ry=\"18\"/>\n<text text-anchor=\"middle\" x=\"156.15\" y=\"-86.3\" font-family=\"Times,serif\" font-size=\"14.00\">4 &#160;&#160;&#160;(B: 0)</text>\n</g>\n<!-- __main__.Node object at 0x7d8f40603f10&#45;&gt;__main__.Node object at 0x7d8f4057e3b0 -->\n<g id=\"edge1\" class=\"edge\">\n<title>__main__.Node object at 0x7d8f40603f10&#45;&gt;__main__.Node object at 0x7d8f4057e3b0</title>\n<path fill=\"none\" stroke=\"black\" d=\"M198.11,-144.41C191.33,-135.78 182.91,-125.06 175.39,-115.5\"/>\n<polygon fill=\"black\" stroke=\"black\" points=\"178.02,-113.17 169.09,-107.47 172.51,-117.5 178.02,-113.17\"/>\n</g>\n<!-- __main__.Node object at 0x7d8f40601cf0 -->\n<g id=\"node5\" class=\"node\">\n<title>__main__.Node object at 0x7d8f40601cf0</title>\n<ellipse fill=\"none\" stroke=\"black\" cx=\"266.15\" cy=\"-90\" rx=\"46.29\" ry=\"18\"/>\n<text text-anchor=\"middle\" x=\"266.15\" y=\"-86.3\" font-family=\"Times,serif\" font-size=\"14.00\">7 &#160;&#160;&#160;(B: 0)</text>\n</g>\n<!-- __main__.Node object at 0x7d8f40603f10&#45;&gt;__main__.Node object at 0x7d8f40601cf0 -->\n<g id=\"edge4\" class=\"edge\">\n<title>__main__.Node object at 0x7d8f40603f10&#45;&gt;__main__.Node object at 0x7d8f40601cf0</title>\n<path fill=\"none\" stroke=\"black\" d=\"M224.18,-144.41C230.96,-135.78 239.38,-125.06 246.9,-115.5\"/>\n<polygon fill=\"black\" stroke=\"black\" points=\"249.78,-117.5 253.21,-107.47 244.27,-113.17 249.78,-117.5\"/>\n</g>\n<!-- __main__.Node object at 0x7d8f40603a30 -->\n<g id=\"node3\" class=\"node\">\n<title>__main__.Node object at 0x7d8f40603a30</title>\n<ellipse fill=\"none\" stroke=\"black\" cx=\"46.15\" cy=\"-18\" rx=\"46.29\" ry=\"18\"/>\n<text text-anchor=\"middle\" x=\"46.15\" y=\"-14.3\" font-family=\"Times,serif\" font-size=\"14.00\">3 &#160;&#160;&#160;(B: 0)</text>\n</g>\n<!-- __main__.Node object at 0x7d8f4057e3b0&#45;&gt;__main__.Node object at 0x7d8f40603a30 -->\n<g id=\"edge2\" class=\"edge\">\n<title>__main__.Node object at 0x7d8f4057e3b0&#45;&gt;__main__.Node object at 0x7d8f40603a30</title>\n<path fill=\"none\" stroke=\"black\" d=\"M133.09,-74.33C117.1,-64.15 95.6,-50.47 77.98,-39.26\"/>\n<polygon fill=\"black\" stroke=\"black\" points=\"79.49,-36.07 69.18,-33.65 75.73,-41.98 79.49,-36.07\"/>\n</g>\n<!-- __main__.Node object at 0x7d8f406012d0 -->\n<g id=\"node4\" class=\"node\">\n<title>__main__.Node object at 0x7d8f406012d0</title>\n<ellipse fill=\"none\" stroke=\"black\" cx=\"156.15\" cy=\"-18\" rx=\"46.29\" ry=\"18\"/>\n<text text-anchor=\"middle\" x=\"156.15\" y=\"-14.3\" font-family=\"Times,serif\" font-size=\"14.00\">5 &#160;&#160;&#160;(B: 0)</text>\n</g>\n<!-- __main__.Node object at 0x7d8f4057e3b0&#45;&gt;__main__.Node object at 0x7d8f406012d0 -->\n<g id=\"edge3\" class=\"edge\">\n<title>__main__.Node object at 0x7d8f4057e3b0&#45;&gt;__main__.Node object at 0x7d8f406012d0</title>\n<path fill=\"none\" stroke=\"black\" d=\"M156.15,-71.7C156.15,-63.98 156.15,-54.71 156.15,-46.11\"/>\n<polygon fill=\"black\" stroke=\"black\" points=\"159.65,-46.1 156.15,-36.1 152.65,-46.1 159.65,-46.1\"/>\n</g>\n<!-- __main__.Node object at 0x7d8f40600b80 -->\n<g id=\"node6\" class=\"node\">\n<title>__main__.Node object at 0x7d8f40600b80</title>\n<ellipse fill=\"none\" stroke=\"black\" cx=\"266.15\" cy=\"-18\" rx=\"46.29\" ry=\"18\"/>\n<text text-anchor=\"middle\" x=\"266.15\" y=\"-14.3\" font-family=\"Times,serif\" font-size=\"14.00\">8 &#160;&#160;&#160;(B: 0)</text>\n</g>\n<!-- __main__.Node object at 0x7d8f40601cf0&#45;&gt;__main__.Node object at 0x7d8f40600b80 -->\n<g id=\"edge5\" class=\"edge\">\n<title>__main__.Node object at 0x7d8f40601cf0&#45;&gt;__main__.Node object at 0x7d8f40600b80</title>\n<path fill=\"none\" stroke=\"black\" d=\"M266.15,-71.7C266.15,-63.98 266.15,-54.71 266.15,-46.11\"/>\n<polygon fill=\"black\" stroke=\"black\" points=\"269.65,-46.1 266.15,-36.1 262.65,-46.1 269.65,-46.1\"/>\n</g>\n</g>\n</svg>\n",
            "text/plain": [
              "<graphviz.graphs.Digraph at 0x7d8f4057f070>"
            ]
          },
          "metadata": {}
        },
        {
          "output_type": "stream",
          "name": "stdout",
          "text": [
            "\n"
          ]
        }
      ]
    }
  ],
  "metadata": {
    "kernelspec": {
      "display_name": "Python 3",
      "language": "python",
      "name": "python3"
    },
    "language_info": {
      "codemirror_mode": {
        "name": "ipython",
        "version": 3
      },
      "file_extension": ".py",
      "mimetype": "text/x-python",
      "name": "python",
      "nbconvert_exporter": "python",
      "pygments_lexer": "ipython3",
      "version": "3.7.9"
    },
    "colab": {
      "provenance": []
    }
  },
  "nbformat": 4,
  "nbformat_minor": 5
}